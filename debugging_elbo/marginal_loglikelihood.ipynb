{
 "cells": [
  {
   "cell_type": "code",
   "execution_count": 1,
   "metadata": {},
   "outputs": [],
   "source": [
    "%matplotlib widget"
   ]
  },
  {
   "cell_type": "code",
   "execution_count": 2,
   "metadata": {},
   "outputs": [],
   "source": [
    "import os\n",
    "import pickle\n",
    "import copy\n",
    "\n",
    "import pandas as pd\n",
    "import seaborn as sns\n",
    "import numpy\n",
    "import torch\n",
    "import scipy\n",
    "import scipy.stats\n",
    "\n",
    "import pyro\n",
    "import pyro.infer\n",
    "import pyro.infer.mcmc\n",
    "import pyro.distributions as dist\n",
    "import torch.distributions.constraints as constraints\n",
    "from tqdm.auto import tqdm\n",
    "\n",
    "import matplotlib.pyplot as plot\n",
    "import matplotlib.gridspec as gridspec\n",
    "from matplotlib.lines import Line2D\n",
    "import warnings\n",
    "warnings.filterwarnings('ignore')\n",
    "sns.set(style=\"whitegrid\")\n",
    "import glob\n",
    "import matplotlib.pyplot as plt\n",
    "\n",
    "from multi_virt_v2 import *"
   ]
  },
  {
   "cell_type": "markdown",
   "metadata": {},
   "source": [
    "## Load Params"
   ]
  },
  {
   "cell_type": "code",
   "execution_count": 4,
   "metadata": {},
   "outputs": [
    {
     "name": "stdout",
     "output_type": "stream",
     "text": [
      "/Users/phumon/Documents/Research/nlu-test-sets/params_mvirt/alpha-lognormal-identity-dim*_theta-normal-identity_nosubsample_1.00_0.15/params.p\n"
     ]
    }
   ],
   "source": [
    "base_dir='/Users/phumon/Documents/Research/nlu-test-sets/params_mvirt'\n",
    "file_name=f'alpha-lognormal-identity-dim*_theta-normal-identity_nosubsample_1.00_0.15/params.p'\n",
    "exp_dir=os.path.join(base_dir, file_name)\n",
    "\n",
    "print(exp_dir)"
   ]
  },
  {
   "cell_type": "code",
   "execution_count": 23,
   "metadata": {},
   "outputs": [],
   "source": [
    "def irt_likelihood(posterior_stats, dimension = 1, n_items=1000,n_models=18):\n",
    "    # Generate betas\n",
    "    betas = pyro.sample(\"b\", dist.Normal(posterior_stats['b mu']*torch.ones(n_items, dimension), torch.exp(posterior_stats['b logstd'])))\n",
    "    \n",
    "    log_gamma = pyro.sample(\"log c\", dist.Normal(posterior_stats['g mu']*torch.ones(n_items), torch.exp(posterior_stats['g logstd'])))\n",
    "    gamma = sigmoid(log_gamma)\n",
    "\n",
    "    # Generate alphas\n",
    "    alphas = pyro.sample(\"a\", dist.Normal(posterior_stats['a mu'] * torch.ones(n_items, dimension), torch.exp(posterior_stats['a logstd'])))\n",
    "                            \n",
    "    # Generate thetas\n",
    "    thetas = pyro.sample(\"theta\", dist.Normal(posterior_stats['t mu'] * torch.ones(n_models, dimension), torch.exp(posterior_stats['t logstd'])))\n",
    "                            \n",
    "                            \n",
    "\n",
    "    #alphas = positive_transform(alphas)\n",
    "    #thetas = positive_transform(thetas)\n",
    "    if dimension > 1:\n",
    "        prob = gamma[None, :] + (1.0 - gamma[None, :]) * sigmoid(torch.sum(alphas[None, :, :] * (thetas[:, None] - betas[None, :]).squeeze(), dim=-1))\n",
    "    else:\n",
    "        betas=betas.squeeze()\n",
    "        gamma=gamma.squeeze()\n",
    "        alphas=alphas.squeeze()\n",
    "        thetas=thetas.squeeze()\n",
    "        prob = gamma[None, :] + (1.0 - gamma[None, :]) * sigmoid(alphas[None, :] * (thetas[:, None] - betas[None, :]))\n",
    "\n",
    "    try:\n",
    "        lik = dist.Bernoulli(prob).sample()\n",
    "    except:\n",
    "        lik = None\n",
    "\n",
    "    return lik, prob"
   ]
  },
  {
   "cell_type": "code",
   "execution_count": 24,
   "metadata": {},
   "outputs": [],
   "source": [
    "def get_lik(exp_dir, dim):\n",
    "    posterior_stats = {}\n",
    "    \n",
    "    pyro.clear_param_store()\n",
    "    pyro.get_param_store().load(exp_dir)\n",
    "    with torch.no_grad():\n",
    "        pyro_param_dict = dict(pyro.get_param_store().named_parameters())\n",
    "    \n",
    "    for k, v in pyro_param_dict.items():\n",
    "        posterior_stats[k] = v.mean()\n",
    "    lik, prob = irt_likelihood(posterior_stats, dim)\n",
    "    return lik, prob"
   ]
  },
  {
   "cell_type": "code",
   "execution_count": 25,
   "metadata": {},
   "outputs": [],
   "source": [
    "marginal_logprob_list=[]\n",
    "correct_list=[]\n",
    "dim_list=[]\n",
    "for filepath in glob.iglob(exp_dir):\n",
    "    dim = int(filepath.split('/')[-2].split('_')[0].rsplit('-',1)[1][3:])\n",
    "    dim_list.append(dim)\n",
    "    \n",
    "    #responses = pd.read_pickle(os.path.join(filepath.rsplit('/', 1)[0], 'responses.p')).to_numpy()\n",
    "    \n",
    "    lik, prob = get_lik(filepath, dim)\n",
    "    marginal_logprob_list.append(torch.log(prob).mean().item())\n",
    "    \n",
    "    #correct_list.append((torch.tensor(responses)==lik).float().mean().item())\n",
    "    \n",
    "    \n",
    "    \n",
    "    "
   ]
  },
  {
   "cell_type": "code",
   "execution_count": 26,
   "metadata": {},
   "outputs": [
    {
     "ename": "ValueError",
     "evalue": "not enough values to unpack (expected 3, got 0)",
     "output_type": "error",
     "traceback": [
      "\u001b[0;31m---------------------------------------------------------------------------\u001b[0m",
      "\u001b[0;31mValueError\u001b[0m                                Traceback (most recent call last)",
      "\u001b[0;32m<ipython-input-26-29124971ac36>\u001b[0m in \u001b[0;36m<module>\u001b[0;34m\u001b[0m\n\u001b[1;32m      1\u001b[0m \u001b[0mplot_data\u001b[0m \u001b[0;34m=\u001b[0m \u001b[0mlist\u001b[0m\u001b[0;34m(\u001b[0m\u001b[0mzip\u001b[0m\u001b[0;34m(\u001b[0m\u001b[0mdim_list\u001b[0m\u001b[0;34m,\u001b[0m \u001b[0mmarginal_logprob_list\u001b[0m\u001b[0;34m,\u001b[0m \u001b[0mcorrect_list\u001b[0m\u001b[0;34m)\u001b[0m\u001b[0;34m)\u001b[0m\u001b[0;34m\u001b[0m\u001b[0;34m\u001b[0m\u001b[0m\n\u001b[1;32m      2\u001b[0m \u001b[0mplot_data\u001b[0m\u001b[0;34m.\u001b[0m\u001b[0msort\u001b[0m\u001b[0;34m(\u001b[0m\u001b[0mkey\u001b[0m\u001b[0;34m=\u001b[0m\u001b[0;32mlambda\u001b[0m \u001b[0mx\u001b[0m\u001b[0;34m:\u001b[0m \u001b[0mx\u001b[0m\u001b[0;34m[\u001b[0m\u001b[0;36m0\u001b[0m\u001b[0;34m]\u001b[0m\u001b[0;34m)\u001b[0m\u001b[0;34m\u001b[0m\u001b[0;34m\u001b[0m\u001b[0m\n\u001b[0;32m----> 3\u001b[0;31m \u001b[0mdim\u001b[0m\u001b[0;34m,\u001b[0m \u001b[0mmarginals\u001b[0m\u001b[0;34m,\u001b[0m \u001b[0macc\u001b[0m \u001b[0;34m=\u001b[0m \u001b[0mlist\u001b[0m\u001b[0;34m(\u001b[0m\u001b[0mzip\u001b[0m\u001b[0;34m(\u001b[0m\u001b[0;34m*\u001b[0m\u001b[0mplot_data\u001b[0m\u001b[0;34m)\u001b[0m\u001b[0;34m)\u001b[0m\u001b[0;34m\u001b[0m\u001b[0;34m\u001b[0m\u001b[0m\n\u001b[0m\u001b[1;32m      4\u001b[0m \u001b[0;34m\u001b[0m\u001b[0m\n\u001b[1;32m      5\u001b[0m \u001b[0mplot_data\u001b[0m\u001b[0;34m\u001b[0m\u001b[0;34m\u001b[0m\u001b[0m\n",
      "\u001b[0;31mValueError\u001b[0m: not enough values to unpack (expected 3, got 0)"
     ]
    }
   ],
   "source": [
    "plot_data = list(zip(dim_list, marginal_logprob_list, correct_list))\n",
    "plot_data.sort(key=lambda x: x[0])\n",
    "dim, marginals, acc = list(zip(*plot_data))\n",
    "\n",
    "plot_data"
   ]
  },
  {
   "cell_type": "code",
   "execution_count": 29,
   "metadata": {},
   "outputs": [
    {
     "data": {
      "text/plain": [
       "[(2, -0.49537527561187744),\n",
       " (3, -0.46419763565063477),\n",
       " (4, -0.4202454686164856),\n",
       " (5, -0.3847504258155823),\n",
       " (6, -0.3547004163265228),\n",
       " (7, -0.3480048179626465),\n",
       " (8, -0.33148425817489624),\n",
       " (9, -0.3286436200141907),\n",
       " (10, -0.3239445090293884),\n",
       " (11, -0.32351961731910706),\n",
       " (12, -0.3271813690662384),\n",
       " (13, -0.32331356406211853),\n",
       " (14, -0.3271670341491699),\n",
       " (15, -0.320167601108551),\n",
       " (16, -0.32583698630332947),\n",
       " (17, -0.3237144351005554),\n",
       " (18, -0.3243173658847809),\n",
       " (36, nan),\n",
       " (54, nan),\n",
       " (72, nan),\n",
       " (90, nan)]"
      ]
     },
     "execution_count": 29,
     "metadata": {},
     "output_type": "execute_result"
    }
   ],
   "source": [
    "plot_data = list(zip(dim_list, marginal_logprob_list))\n",
    "plot_data.sort(key=lambda x: x[0])\n",
    "dim, marginals = list(zip(*plot_data))\n",
    "\n",
    "plot_data"
   ]
  },
  {
   "cell_type": "code",
   "execution_count": 30,
   "metadata": {},
   "outputs": [
    {
     "data": {
      "application/vnd.jupyter.widget-view+json": {
       "model_id": "82f78053a7214fe39b71d1cd95a727d7",
       "version_major": 2,
       "version_minor": 0
      },
      "text/plain": [
       "Canvas(toolbar=Toolbar(toolitems=[('Home', 'Reset original view', 'home', 'home'), ('Back', 'Back to previous …"
      ]
     },
     "metadata": {},
     "output_type": "display_data"
    }
   ],
   "source": [
    "\n",
    "plt.figure()\n",
    "plt.plot(dim[:-4], marginals[:-4])\n",
    "plt.xlabel('Dim')\n",
    "plt.ylabel('log p(x|z)') \n",
    "\n",
    "plt.show()"
   ]
  },
  {
   "cell_type": "code",
   "execution_count": null,
   "metadata": {},
   "outputs": [],
   "source": [
    "\n",
    "plt.figure()\n",
    "plt.plot(dim, acc)\n",
    "plt.xlabel('Dim')\n",
    "plt.ylabel('reconstruction acc') \n",
    "\n",
    "plt.show()"
   ]
  },
  {
   "cell_type": "code",
   "execution_count": null,
   "metadata": {},
   "outputs": [],
   "source": []
  }
 ],
 "metadata": {
  "kernelspec": {
   "display_name": "latent_features",
   "language": "python",
   "name": "latent_features"
  },
  "language_info": {
   "codemirror_mode": {
    "name": "ipython",
    "version": 3
   },
   "file_extension": ".py",
   "mimetype": "text/x-python",
   "name": "python",
   "nbconvert_exporter": "python",
   "pygments_lexer": "ipython3",
   "version": "3.7.7"
  }
 },
 "nbformat": 4,
 "nbformat_minor": 4
}
