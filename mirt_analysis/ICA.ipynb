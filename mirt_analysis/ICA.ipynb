{
 "cells": [
  {
   "cell_type": "code",
   "execution_count": 7,
   "metadata": {},
   "outputs": [],
   "source": [
    "from sklearn.datasets import load_digits\n",
    "from sklearn.decomposition import FastICA\n",
    "from sklearn.decomposition import PCA\n",
    "import pickle\n",
    "import copy\n",
    "\n",
    "import pandas as pd\n",
    "import seaborn as sns\n",
    "import numpy\n",
    "import torch\n",
    "import scipy\n",
    "import scipy.stats\n",
    "import numpy as np\n",
    "\n",
    "%matplotlib widget\n",
    "import matplotlib.pyplot as plt"
   ]
  },
  {
   "cell_type": "code",
   "execution_count": 2,
   "metadata": {},
   "outputs": [
    {
     "name": "stdout",
     "output_type": "stream",
     "text": [
      "/Users/phumon/Documents/Research/nlu-test-sets/params_dim3/alpha-lognormal-identity-dim3_theta-normal-identity_nosubsample_1.00_0.30\n"
     ]
    }
   ],
   "source": [
    "import os\n",
    "dim=2\n",
    "base_dir='/Users/phumon/Documents/Research/nlu-test-sets/params_dim3'\n",
    "file_name=f'alpha-lognormal-identity-dim3_theta-normal-identity_nosubsample_1.00_0.30'\n",
    "exp_dir=os.path.join(base_dir, file_name)\n",
    "\n",
    "print(exp_dir)\n"
   ]
  },
  {
   "cell_type": "code",
   "execution_count": 3,
   "metadata": {},
   "outputs": [],
   "source": [
    "param_plot_stats = {}\n",
    "keys = ['a', 'b', 'g', 't']\n",
    "for key in keys:\n",
    "    with open(os.path.join(exp_dir, 'plot_stats_pickles', f'{key}.p'), 'rb') as f:\n",
    "        param_plot_stats[key] = pickle.load(f)"
   ]
  },
  {
   "cell_type": "code",
   "execution_count": 4,
   "metadata": {},
   "outputs": [
    {
     "name": "stdout",
     "output_type": "stream",
     "text": [
      "[-0.0669063  -0.06938468 -0.06983731] [0.0667566  0.06635319 0.06628769]\n"
     ]
    }
   ],
   "source": [
    "\n",
    "param_plot_stats['a']['log_mean'] = param_plot_stats['a']['mean'].apply(lambda x: numpy.log(x))\n",
    "alpha_mean, alpha_var = param_plot_stats['a'][\"log_mean\"].to_numpy().mean(), param_plot_stats['a'][\"var\"].to_numpy().mean()\n",
    "print(alpha_mean, alpha_var)"
   ]
  },
  {
   "cell_type": "code",
   "execution_count": 8,
   "metadata": {},
   "outputs": [],
   "source": [
    "dimensions=3\n",
    "for dim in range(dimensions):\n",
    "    param_plot_stats['a']['log_mean_'+str(dim)]= param_plot_stats['a']['log_mean'].apply(lambda x: x[dim])\n",
    "    param_plot_stats['b']['mean_'+str(dim)]= param_plot_stats['b']['mean'].apply(lambda x: x[dim])"
   ]
  },
  {
   "cell_type": "code",
   "execution_count": 9,
   "metadata": {},
   "outputs": [
    {
     "data": {
      "application/vnd.jupyter.widget-view+json": {
       "model_id": "6d7b7b15ad20464595c4d0911e647cef",
       "version_major": 2,
       "version_minor": 0
      },
      "text/plain": [
       "Canvas(toolbar=Toolbar(toolitems=[('Home', 'Reset original view', 'home', 'home'), ('Back', 'Back to previous …"
      ]
     },
     "metadata": {},
     "output_type": "display_data"
    }
   ],
   "source": [
    "plt.figure()\n",
    "for dim in range(dimensions):\n",
    "    plt.plot(param_plot_stats['a']['log_mean_'+str(dim)], param_plot_stats['b']['mean_'+str(dim)], marker=\"o\", linestyle=\"\", label=dim)\n",
    "\n",
    "plt.legend()\n",
    "plt.show()"
   ]
  },
  {
   "cell_type": "code",
   "execution_count": 13,
   "metadata": {},
   "outputs": [
    {
     "data": {
      "application/vnd.jupyter.widget-view+json": {
       "model_id": "23d8e5c064024bd6be05590efd5e6be0",
       "version_major": 2,
       "version_minor": 0
      },
      "text/plain": [
       "Canvas(toolbar=Toolbar(toolitems=[('Home', 'Reset original view', 'home', 'home'), ('Back', 'Back to previous …"
      ]
     },
     "metadata": {},
     "output_type": "display_data"
    }
   ],
   "source": [
    "plt.figure()\n",
    "plt.plot(param_plot_stats['a']['log_mean_0'], param_plot_stats['a']['log_mean_1'], marker=\"o\", linestyle=\"\", label=1)\n",
    "plt.plot(param_plot_stats['a']['log_mean_0'], param_plot_stats['a']['log_mean_2'], marker=\"o\", linestyle=\"\", label=2)\n",
    "\n",
    "plt.legend()\n",
    "plt.show()"
   ]
  },
  {
   "cell_type": "code",
   "execution_count": 33,
   "metadata": {},
   "outputs": [
    {
     "data": {
      "text/plain": [
       "0       [-0.05879890045855681, -0.051111937036824116, ...\n",
       "1       [-0.10252156667959851, -0.13336492219368679, -...\n",
       "2       [-0.09378338683776374, -0.0946903584578507, -0...\n",
       "3       [-0.08367149278981982, -0.09039450925051422, -...\n",
       "4       [-0.02870992996194188, -0.02311715793477296, -...\n",
       "                              ...                        \n",
       "9819    [-0.11391405977598786, -0.13146786459437604, -...\n",
       "9820    [-0.13125762711599462, -0.1210941252630924, -0...\n",
       "9821    [-0.10658537270152897, -0.10913480181887919, -...\n",
       "9822    [-0.07193894732048856, -0.05841102880880827, -...\n",
       "9823    [-0.08974704564706987, -0.0899160618920721, -0...\n",
       "Name: log_mean, Length: 9824, dtype: object"
      ]
     },
     "execution_count": 33,
     "metadata": {},
     "output_type": "execute_result"
    }
   ],
   "source": [
    "param_plot_stats['a']['log_mean']"
   ]
  },
  {
   "cell_type": "code",
   "execution_count": 30,
   "metadata": {},
   "outputs": [
    {
     "data": {
      "application/vnd.jupyter.widget-view+json": {
       "model_id": "aac06c27b6de471ba38af69a2e35f32f",
       "version_major": 2,
       "version_minor": 0
      },
      "text/plain": [
       "Canvas(toolbar=Toolbar(toolitems=[('Home', 'Reset original view', 'home', 'home'), ('Back', 'Back to previous …"
      ]
     },
     "metadata": {},
     "output_type": "display_data"
    },
    {
     "name": "stderr",
     "output_type": "stream",
     "text": [
      "No handles with labels found to put in legend.\n"
     ]
    }
   ],
   "source": [
    "plt.figure()\n",
    "plt.plot(param_plot_stats['a']['log_mean_0'], param_plot_stats['a']['log_mean_2'], marker=\"o\", linestyle=\"\")\n",
    "plt.legend()\n",
    "plt.show()"
   ]
  },
  {
   "cell_type": "code",
   "execution_count": 38,
   "metadata": {},
   "outputs": [
    {
     "data": {
      "application/vnd.jupyter.widget-view+json": {
       "model_id": "aa887311127544b5a27a7e3be9ec36a3",
       "version_major": 2,
       "version_minor": 0
      },
      "text/plain": [
       "Canvas(toolbar=Toolbar(toolitems=[('Home', 'Reset original view', 'home', 'home'), ('Back', 'Back to previous …"
      ]
     },
     "metadata": {},
     "output_type": "display_data"
    }
   ],
   "source": [
    "plt.figure()\n",
    "plt.plot(param_plot_stats['b']['mean_0'], param_plot_stats['b']['mean_1'], marker=\"o\", linestyle=\"\", label=1)\n",
    "plt.plot(param_plot_stats['b']['mean_0'], param_plot_stats['b']['mean_2'], marker=\"o\", linestyle=\"\", label=2)\n",
    "plt.legend()\n",
    "plt.show()"
   ]
  },
  {
   "cell_type": "markdown",
   "metadata": {},
   "source": [
    "https://stackoverflow.com/questions/35407669/independent-component-analysis-ica-in-python"
   ]
  },
  {
   "cell_type": "code",
   "execution_count": 39,
   "metadata": {},
   "outputs": [],
   "source": [
    "alpha_arr = np.vstack(param_plot_stats['b']['mean'])\n",
    "pca = PCA(n_components=2, random_state=0)\n",
    "new_alpha_ = pca.fit_transform(alpha_arr)  # Reconstruct signals\n",
    "#A_alpha_ = ica.mixing_  # Get estimated mixing matrix\n"
   ]
  },
  {
   "cell_type": "code",
   "execution_count": 40,
   "metadata": {},
   "outputs": [
    {
     "name": "stdout",
     "output_type": "stream",
     "text": [
      "(9824, 2)\n"
     ]
    }
   ],
   "source": [
    "print(new_alpha_.shape)"
   ]
  },
  {
   "cell_type": "code",
   "execution_count": 41,
   "metadata": {},
   "outputs": [],
   "source": [
    "from multi_virt_v2 import *"
   ]
  },
  {
   "cell_type": "code",
   "execution_count": 42,
   "metadata": {},
   "outputs": [],
   "source": [
    "repo = os.path.dirname(os.path.dirname(os.path.abspath('__file__')))"
   ]
  },
  {
   "cell_type": "code",
   "execution_count": 43,
   "metadata": {},
   "outputs": [],
   "source": [
    "#datasets=\"boolq,cb,commonsenseqa,copa,cosmosqa,hellaswag,rte,snli,wic,qamr,arct,mcscript,mctaco,mutual,mutual-plus,quoref,socialiqa,squad-v2,wsc,mnli,mrqa-nq,newsqa,abductive-nli,arc-easy,arc-challenge,piqa,quail,winogrande,anli\"\n",
    "datasets=\"snli\"\n",
    "data_names, responses, n_items = get_files(\n",
    "    os.path.join(repo, 'data'),\n",
    "    \"csv\",\n",
    "    set(datasets.split(','))\n",
    ")"
   ]
  },
  {
   "cell_type": "code",
   "execution_count": 44,
   "metadata": {},
   "outputs": [],
   "source": [
    "task_metadata = pd.read_csv('../irt_scripts/task_metadata.csv')\n",
    "task_metadata.set_index(\"jiant_name\", inplace=True)\n",
    "task_list = [x for x in task_metadata.index if x in data_names]"
   ]
  },
  {
   "cell_type": "code",
   "execution_count": 45,
   "metadata": {},
   "outputs": [],
   "source": [
    "total = 0\n",
    "task_name = []\n",
    "task_format = []\n",
    "\n",
    "for tname, size in zip(data_names, n_items):\n",
    "    name = task_metadata.loc[tname]['taskname']\n",
    "    total += size\n",
    "    task_name += [name for _ in range(size)]\n",
    "    task_format += [task_metadata.loc[tname]['format'] for _ in range(size)]\n",
    "    \n",
    "task_name = pd.DataFrame(task_name, columns=['task_name'])\n",
    "task_format = pd.DataFrame(task_format, columns=['format'])\n",
    "task_name_format = pd.concat([task_name, task_format], axis=1)"
   ]
  },
  {
   "cell_type": "code",
   "execution_count": 46,
   "metadata": {},
   "outputs": [
    {
     "data": {
      "text/html": [
       "<div>\n",
       "<style scoped>\n",
       "    .dataframe tbody tr th:only-of-type {\n",
       "        vertical-align: middle;\n",
       "    }\n",
       "\n",
       "    .dataframe tbody tr th {\n",
       "        vertical-align: top;\n",
       "    }\n",
       "\n",
       "    .dataframe thead th {\n",
       "        text-align: right;\n",
       "    }\n",
       "</style>\n",
       "<table border=\"1\" class=\"dataframe\">\n",
       "  <thead>\n",
       "    <tr style=\"text-align: right;\">\n",
       "      <th></th>\n",
       "      <th>task_name</th>\n",
       "      <th>format</th>\n",
       "    </tr>\n",
       "  </thead>\n",
       "  <tbody>\n",
       "    <tr>\n",
       "      <th>0</th>\n",
       "      <td>SNLI</td>\n",
       "      <td>classification</td>\n",
       "    </tr>\n",
       "    <tr>\n",
       "      <th>1</th>\n",
       "      <td>SNLI</td>\n",
       "      <td>classification</td>\n",
       "    </tr>\n",
       "    <tr>\n",
       "      <th>2</th>\n",
       "      <td>SNLI</td>\n",
       "      <td>classification</td>\n",
       "    </tr>\n",
       "    <tr>\n",
       "      <th>3</th>\n",
       "      <td>SNLI</td>\n",
       "      <td>classification</td>\n",
       "    </tr>\n",
       "    <tr>\n",
       "      <th>4</th>\n",
       "      <td>SNLI</td>\n",
       "      <td>classification</td>\n",
       "    </tr>\n",
       "    <tr>\n",
       "      <th>...</th>\n",
       "      <td>...</td>\n",
       "      <td>...</td>\n",
       "    </tr>\n",
       "    <tr>\n",
       "      <th>9819</th>\n",
       "      <td>SNLI</td>\n",
       "      <td>classification</td>\n",
       "    </tr>\n",
       "    <tr>\n",
       "      <th>9820</th>\n",
       "      <td>SNLI</td>\n",
       "      <td>classification</td>\n",
       "    </tr>\n",
       "    <tr>\n",
       "      <th>9821</th>\n",
       "      <td>SNLI</td>\n",
       "      <td>classification</td>\n",
       "    </tr>\n",
       "    <tr>\n",
       "      <th>9822</th>\n",
       "      <td>SNLI</td>\n",
       "      <td>classification</td>\n",
       "    </tr>\n",
       "    <tr>\n",
       "      <th>9823</th>\n",
       "      <td>SNLI</td>\n",
       "      <td>classification</td>\n",
       "    </tr>\n",
       "  </tbody>\n",
       "</table>\n",
       "<p>9824 rows × 2 columns</p>\n",
       "</div>"
      ],
      "text/plain": [
       "     task_name          format\n",
       "0         SNLI  classification\n",
       "1         SNLI  classification\n",
       "2         SNLI  classification\n",
       "3         SNLI  classification\n",
       "4         SNLI  classification\n",
       "...        ...             ...\n",
       "9819      SNLI  classification\n",
       "9820      SNLI  classification\n",
       "9821      SNLI  classification\n",
       "9822      SNLI  classification\n",
       "9823      SNLI  classification\n",
       "\n",
       "[9824 rows x 2 columns]"
      ]
     },
     "execution_count": 46,
     "metadata": {},
     "output_type": "execute_result"
    }
   ],
   "source": [
    "task_name_format"
   ]
  },
  {
   "cell_type": "code",
   "execution_count": 47,
   "metadata": {},
   "outputs": [],
   "source": [
    "\n",
    "param = pd.concat([pd.DataFrame(new_alpha_.tolist()), task_name_format], axis=1)"
   ]
  },
  {
   "cell_type": "code",
   "execution_count": 48,
   "metadata": {},
   "outputs": [
    {
     "data": {
      "text/html": [
       "<div>\n",
       "<style scoped>\n",
       "    .dataframe tbody tr th:only-of-type {\n",
       "        vertical-align: middle;\n",
       "    }\n",
       "\n",
       "    .dataframe tbody tr th {\n",
       "        vertical-align: top;\n",
       "    }\n",
       "\n",
       "    .dataframe thead th {\n",
       "        text-align: right;\n",
       "    }\n",
       "</style>\n",
       "<table border=\"1\" class=\"dataframe\">\n",
       "  <thead>\n",
       "    <tr style=\"text-align: right;\">\n",
       "      <th></th>\n",
       "      <th>0</th>\n",
       "      <th>1</th>\n",
       "      <th>task_name</th>\n",
       "      <th>format</th>\n",
       "    </tr>\n",
       "  </thead>\n",
       "  <tbody>\n",
       "    <tr>\n",
       "      <th>0</th>\n",
       "      <td>-1.673361</td>\n",
       "      <td>-0.006339</td>\n",
       "      <td>SNLI</td>\n",
       "      <td>classification</td>\n",
       "    </tr>\n",
       "    <tr>\n",
       "      <th>1</th>\n",
       "      <td>0.695956</td>\n",
       "      <td>0.018800</td>\n",
       "      <td>SNLI</td>\n",
       "      <td>classification</td>\n",
       "    </tr>\n",
       "    <tr>\n",
       "      <th>2</th>\n",
       "      <td>-0.338442</td>\n",
       "      <td>0.001636</td>\n",
       "      <td>SNLI</td>\n",
       "      <td>classification</td>\n",
       "    </tr>\n",
       "    <tr>\n",
       "      <th>3</th>\n",
       "      <td>-0.411508</td>\n",
       "      <td>0.002010</td>\n",
       "      <td>SNLI</td>\n",
       "      <td>classification</td>\n",
       "    </tr>\n",
       "    <tr>\n",
       "      <th>4</th>\n",
       "      <td>-1.747632</td>\n",
       "      <td>0.010975</td>\n",
       "      <td>SNLI</td>\n",
       "      <td>classification</td>\n",
       "    </tr>\n",
       "    <tr>\n",
       "      <th>...</th>\n",
       "      <td>...</td>\n",
       "      <td>...</td>\n",
       "      <td>...</td>\n",
       "      <td>...</td>\n",
       "    </tr>\n",
       "    <tr>\n",
       "      <th>9819</th>\n",
       "      <td>-0.070466</td>\n",
       "      <td>0.004077</td>\n",
       "      <td>SNLI</td>\n",
       "      <td>classification</td>\n",
       "    </tr>\n",
       "    <tr>\n",
       "      <th>9820</th>\n",
       "      <td>0.590853</td>\n",
       "      <td>-0.001523</td>\n",
       "      <td>SNLI</td>\n",
       "      <td>classification</td>\n",
       "    </tr>\n",
       "    <tr>\n",
       "      <th>9821</th>\n",
       "      <td>0.432930</td>\n",
       "      <td>-0.009376</td>\n",
       "      <td>SNLI</td>\n",
       "      <td>classification</td>\n",
       "    </tr>\n",
       "    <tr>\n",
       "      <th>9822</th>\n",
       "      <td>1.665839</td>\n",
       "      <td>0.010784</td>\n",
       "      <td>SNLI</td>\n",
       "      <td>classification</td>\n",
       "    </tr>\n",
       "    <tr>\n",
       "      <th>9823</th>\n",
       "      <td>-0.338972</td>\n",
       "      <td>0.013252</td>\n",
       "      <td>SNLI</td>\n",
       "      <td>classification</td>\n",
       "    </tr>\n",
       "  </tbody>\n",
       "</table>\n",
       "<p>9824 rows × 4 columns</p>\n",
       "</div>"
      ],
      "text/plain": [
       "             0         1 task_name          format\n",
       "0    -1.673361 -0.006339      SNLI  classification\n",
       "1     0.695956  0.018800      SNLI  classification\n",
       "2    -0.338442  0.001636      SNLI  classification\n",
       "3    -0.411508  0.002010      SNLI  classification\n",
       "4    -1.747632  0.010975      SNLI  classification\n",
       "...        ...       ...       ...             ...\n",
       "9819 -0.070466  0.004077      SNLI  classification\n",
       "9820  0.590853 -0.001523      SNLI  classification\n",
       "9821  0.432930 -0.009376      SNLI  classification\n",
       "9822  1.665839  0.010784      SNLI  classification\n",
       "9823 -0.338972  0.013252      SNLI  classification\n",
       "\n",
       "[9824 rows x 4 columns]"
      ]
     },
     "execution_count": 48,
     "metadata": {},
     "output_type": "execute_result"
    }
   ],
   "source": [
    "param"
   ]
  },
  {
   "cell_type": "code",
   "execution_count": 49,
   "metadata": {},
   "outputs": [
    {
     "data": {
      "application/vnd.jupyter.widget-view+json": {
       "model_id": "af5043f09b5c47bd870b72b6e1a4bffb",
       "version_major": 2,
       "version_minor": 0
      },
      "text/plain": [
       "Canvas(toolbar=Toolbar(toolitems=[('Home', 'Reset original view', 'home', 'home'), ('Back', 'Back to previous …"
      ]
     },
     "metadata": {},
     "output_type": "display_data"
    }
   ],
   "source": [
    "\n",
    "\n",
    "plt.figure()\n",
    "plt.plot(param[0], param[1], \"kx\")\n",
    "plt.show()\n",
    "\n",
    "\n"
   ]
  },
  {
   "cell_type": "code",
   "execution_count": 50,
   "metadata": {},
   "outputs": [
    {
     "data": {
      "text/plain": [
       "<pandas.core.groupby.generic.DataFrameGroupBy object at 0x7fe059a62b90>"
      ]
     },
     "execution_count": 50,
     "metadata": {},
     "output_type": "execute_result"
    }
   ],
   "source": [
    "groups = param.groupby(\"task_name\")\n",
    "groups"
   ]
  },
  {
   "cell_type": "code",
   "execution_count": 51,
   "metadata": {},
   "outputs": [
    {
     "data": {
      "application/vnd.jupyter.widget-view+json": {
       "model_id": "5c7d499445c1403583406d8b1e0b5742",
       "version_major": 2,
       "version_minor": 0
      },
      "text/plain": [
       "Canvas(toolbar=Toolbar(toolitems=[('Home', 'Reset original view', 'home', 'home'), ('Back', 'Back to previous …"
      ]
     },
     "metadata": {},
     "output_type": "display_data"
    },
    {
     "name": "stderr",
     "output_type": "stream",
     "text": [
      "No handles with labels found to put in legend.\n"
     ]
    },
    {
     "name": "stdout",
     "output_type": "stream",
     "text": [
      "name:  classification\n"
     ]
    }
   ],
   "source": [
    "plt.figure()\n",
    "\n",
    "groups = param.groupby(\"format\")\n",
    "for name, group in groups:\n",
    "    print(\"name: \",name)\n",
    "    plt.plot(group[0], group[1], marker=\"o\", linestyle=\"\")\n",
    "plt.legend()\n",
    "plt.show()"
   ]
  },
  {
   "cell_type": "code",
   "execution_count": 52,
   "metadata": {},
   "outputs": [
    {
     "data": {
      "text/plain": [
       "0      -1.673361\n",
       "1       0.695956\n",
       "2      -0.338442\n",
       "3      -0.411508\n",
       "4      -1.747632\n",
       "          ...   \n",
       "9819   -0.070466\n",
       "9820    0.590853\n",
       "9821    0.432930\n",
       "9822    1.665839\n",
       "9823   -0.338972\n",
       "Name: 0, Length: 9824, dtype: float64"
      ]
     },
     "execution_count": 52,
     "metadata": {},
     "output_type": "execute_result"
    }
   ],
   "source": [
    "param[0]"
   ]
  },
  {
   "cell_type": "markdown",
   "metadata": {},
   "source": [
    "# Theta"
   ]
  },
  {
   "cell_type": "code",
   "execution_count": 20,
   "metadata": {},
   "outputs": [],
   "source": [
    "beta_arr = np.vstack(param_plot_stats['b']['mean'])\n",
    "pca = PCA(n_components=2, random_state=0)\n",
    "new_beta_ = pca.fit_transform(beta_arr)  # Reconstruct signals\n",
    "#A_alpha_ = ica.mixing_  # Get estimated mixing matrix\n"
   ]
  },
  {
   "cell_type": "code",
   "execution_count": 21,
   "metadata": {},
   "outputs": [],
   "source": [
    "params_beta = pd.concat([pd.DataFrame(new_beta_.tolist()), task_name_format], axis=1)"
   ]
  },
  {
   "cell_type": "code",
   "execution_count": 22,
   "metadata": {},
   "outputs": [],
   "source": [
    "groups = params_beta.groupby(\"task_name\")\n"
   ]
  },
  {
   "cell_type": "code",
   "execution_count": 110,
   "metadata": {},
   "outputs": [
    {
     "data": {
      "application/vnd.jupyter.widget-view+json": {
       "model_id": "dd0e733cd4104950ae919336b93390f2",
       "version_major": 2,
       "version_minor": 0
      },
      "text/plain": [
       "Canvas(toolbar=Toolbar(toolitems=[('Home', 'Reset original view', 'home', 'home'), ('Back', 'Back to previous …"
      ]
     },
     "metadata": {},
     "output_type": "display_data"
    },
    {
     "name": "stdout",
     "output_type": "stream",
     "text": [
      "name:  classification\n"
     ]
    }
   ],
   "source": [
    "plt.figure()\n",
    "for name, group in groups:\n",
    "    print(\"name: \",name)\n",
    "    plt.plot(group[0], group[1], marker=\"o\", linestyle=\"\", label=name)\n",
    "plt.legend()\n",
    "plt.show()"
   ]
  },
  {
   "cell_type": "code",
   "execution_count": 111,
   "metadata": {},
   "outputs": [],
   "source": [
    "# END scatter plot"
   ]
  },
  {
   "cell_type": "code",
   "execution_count": 66,
   "metadata": {},
   "outputs": [],
   "source": [
    "beta_arr = np.vstack(param_plot_stats['b']['mean'])\n",
    "ica = FastICA(n_components=3, random_state=0)\n",
    "S_beta_ = ica.fit_transform(beta_arr)  # Reconstruct signals\n",
    "A_beta_ = ica.mixing_  # Get estimated mixing matrix\n"
   ]
  },
  {
   "cell_type": "code",
   "execution_count": 67,
   "metadata": {},
   "outputs": [
    {
     "name": "stderr",
     "output_type": "stream",
     "text": [
      "/Users/phumon/opt/anaconda3/envs/latent_features/lib/python3.7/site-packages/ipykernel_launcher.py:6: RuntimeWarning: More than 20 figures have been opened. Figures created through the pyplot interface (`matplotlib.pyplot.figure`) are retained until explicitly closed and may consume too much memory. (To control this warning, see the rcParam `figure.max_open_warning`).\n",
      "  \n"
     ]
    },
    {
     "data": {
      "application/vnd.jupyter.widget-view+json": {
       "model_id": "3aebb1a846014ce2b4439de9900ecb27",
       "version_major": 2,
       "version_minor": 0
      },
      "text/plain": [
       "Canvas(toolbar=Toolbar(toolitems=[('Home', 'Reset original view', 'home', 'home'), ('Back', 'Back to previous …"
      ]
     },
     "metadata": {},
     "output_type": "display_data"
    }
   ],
   "source": [
    "models = [beta_arr, S_beta_]\n",
    "names = ['Alpha (mixed signal)',\n",
    "         'ICA recovered Alpha signals']\n",
    "colors = ['red', 'steelblue', 'orange']\n",
    "\n",
    "plt.figure()\n",
    "for ii, (model, name) in enumerate(zip(models, names), 1):\n",
    "    plt.subplot(2, 1, ii)\n",
    "    plt.title(name)\n",
    "    for sig, color in zip(model.T, colors):\n",
    "        plt.plot(sig, color=color)\n",
    "\n",
    "plt.subplots_adjust(0.09, 0.04, 0.94, 0.94, 0.26, 0.46)\n",
    "plt.show()"
   ]
  },
  {
   "cell_type": "code",
   "execution_count": 68,
   "metadata": {},
   "outputs": [],
   "source": [
    "params_beta = pd.concat([pd.DataFrame(S_beta_.tolist()), task_name_format], axis=1)"
   ]
  },
  {
   "cell_type": "code",
   "execution_count": 69,
   "metadata": {},
   "outputs": [
    {
     "data": {
      "text/html": [
       "<div>\n",
       "<style scoped>\n",
       "    .dataframe tbody tr th:only-of-type {\n",
       "        vertical-align: middle;\n",
       "    }\n",
       "\n",
       "    .dataframe tbody tr th {\n",
       "        vertical-align: top;\n",
       "    }\n",
       "\n",
       "    .dataframe thead th {\n",
       "        text-align: right;\n",
       "    }\n",
       "</style>\n",
       "<table border=\"1\" class=\"dataframe\">\n",
       "  <thead>\n",
       "    <tr style=\"text-align: right;\">\n",
       "      <th></th>\n",
       "      <th>0</th>\n",
       "      <th>1</th>\n",
       "      <th>2</th>\n",
       "      <th>task_name</th>\n",
       "      <th>format</th>\n",
       "    </tr>\n",
       "  </thead>\n",
       "  <tbody>\n",
       "    <tr>\n",
       "      <th>0</th>\n",
       "      <td>-0.001264</td>\n",
       "      <td>-0.025934</td>\n",
       "      <td>0.002217</td>\n",
       "      <td>SNLI</td>\n",
       "      <td>classification</td>\n",
       "    </tr>\n",
       "    <tr>\n",
       "      <th>1</th>\n",
       "      <td>0.012072</td>\n",
       "      <td>0.008210</td>\n",
       "      <td>-0.010447</td>\n",
       "      <td>SNLI</td>\n",
       "      <td>classification</td>\n",
       "    </tr>\n",
       "    <tr>\n",
       "      <th>2</th>\n",
       "      <td>-0.006255</td>\n",
       "      <td>0.007303</td>\n",
       "      <td>-0.005794</td>\n",
       "      <td>SNLI</td>\n",
       "      <td>classification</td>\n",
       "    </tr>\n",
       "    <tr>\n",
       "      <th>3</th>\n",
       "      <td>-0.005112</td>\n",
       "      <td>0.004887</td>\n",
       "      <td>-0.005670</td>\n",
       "      <td>SNLI</td>\n",
       "      <td>classification</td>\n",
       "    </tr>\n",
       "    <tr>\n",
       "      <th>4</th>\n",
       "      <td>0.000617</td>\n",
       "      <td>-0.012774</td>\n",
       "      <td>-0.014000</td>\n",
       "      <td>SNLI</td>\n",
       "      <td>classification</td>\n",
       "    </tr>\n",
       "    <tr>\n",
       "      <th>...</th>\n",
       "      <td>...</td>\n",
       "      <td>...</td>\n",
       "      <td>...</td>\n",
       "      <td>...</td>\n",
       "      <td>...</td>\n",
       "    </tr>\n",
       "    <tr>\n",
       "      <th>9819</th>\n",
       "      <td>0.000196</td>\n",
       "      <td>0.002809</td>\n",
       "      <td>-0.004063</td>\n",
       "      <td>SNLI</td>\n",
       "      <td>classification</td>\n",
       "    </tr>\n",
       "    <tr>\n",
       "      <th>9820</th>\n",
       "      <td>0.005176</td>\n",
       "      <td>-0.002183</td>\n",
       "      <td>0.005583</td>\n",
       "      <td>SNLI</td>\n",
       "      <td>classification</td>\n",
       "    </tr>\n",
       "    <tr>\n",
       "      <th>9821</th>\n",
       "      <td>-0.003580</td>\n",
       "      <td>0.002087</td>\n",
       "      <td>0.008134</td>\n",
       "      <td>SNLI</td>\n",
       "      <td>classification</td>\n",
       "    </tr>\n",
       "    <tr>\n",
       "      <th>9822</th>\n",
       "      <td>0.030946</td>\n",
       "      <td>-0.017543</td>\n",
       "      <td>0.009977</td>\n",
       "      <td>SNLI</td>\n",
       "      <td>classification</td>\n",
       "    </tr>\n",
       "    <tr>\n",
       "      <th>9823</th>\n",
       "      <td>0.017528</td>\n",
       "      <td>-0.019484</td>\n",
       "      <td>-0.003976</td>\n",
       "      <td>SNLI</td>\n",
       "      <td>classification</td>\n",
       "    </tr>\n",
       "  </tbody>\n",
       "</table>\n",
       "<p>9824 rows × 5 columns</p>\n",
       "</div>"
      ],
      "text/plain": [
       "             0         1         2 task_name          format\n",
       "0    -0.001264 -0.025934  0.002217      SNLI  classification\n",
       "1     0.012072  0.008210 -0.010447      SNLI  classification\n",
       "2    -0.006255  0.007303 -0.005794      SNLI  classification\n",
       "3    -0.005112  0.004887 -0.005670      SNLI  classification\n",
       "4     0.000617 -0.012774 -0.014000      SNLI  classification\n",
       "...        ...       ...       ...       ...             ...\n",
       "9819  0.000196  0.002809 -0.004063      SNLI  classification\n",
       "9820  0.005176 -0.002183  0.005583      SNLI  classification\n",
       "9821 -0.003580  0.002087  0.008134      SNLI  classification\n",
       "9822  0.030946 -0.017543  0.009977      SNLI  classification\n",
       "9823  0.017528 -0.019484 -0.003976      SNLI  classification\n",
       "\n",
       "[9824 rows x 5 columns]"
      ]
     },
     "execution_count": 69,
     "metadata": {},
     "output_type": "execute_result"
    }
   ],
   "source": [
    "params_beta"
   ]
  },
  {
   "cell_type": "code",
   "execution_count": 70,
   "metadata": {},
   "outputs": [
    {
     "data": {
      "text/plain": [
       "<pandas.core.groupby.generic.DataFrameGroupBy object at 0x7fe059b0c490>"
      ]
     },
     "execution_count": 70,
     "metadata": {},
     "output_type": "execute_result"
    }
   ],
   "source": [
    "groups = params_beta.groupby(\"task_name\")\n",
    "groups"
   ]
  },
  {
   "cell_type": "code",
   "execution_count": 71,
   "metadata": {},
   "outputs": [
    {
     "name": "stderr",
     "output_type": "stream",
     "text": [
      "/Users/phumon/opt/anaconda3/envs/latent_features/lib/python3.7/site-packages/ipykernel_launcher.py:1: RuntimeWarning: More than 20 figures have been opened. Figures created through the pyplot interface (`matplotlib.pyplot.figure`) are retained until explicitly closed and may consume too much memory. (To control this warning, see the rcParam `figure.max_open_warning`).\n",
      "  \"\"\"Entry point for launching an IPython kernel.\n"
     ]
    },
    {
     "data": {
      "application/vnd.jupyter.widget-view+json": {
       "model_id": "d29bae24ce004e4f94f9d00ac0e38f98",
       "version_major": 2,
       "version_minor": 0
      },
      "text/plain": [
       "Canvas(toolbar=Toolbar(toolitems=[('Home', 'Reset original view', 'home', 'home'), ('Back', 'Back to previous …"
      ]
     },
     "metadata": {},
     "output_type": "display_data"
    },
    {
     "name": "stdout",
     "output_type": "stream",
     "text": [
      "name:  SNLI\n"
     ]
    }
   ],
   "source": [
    "plt.figure()\n",
    "for name, group in groups:\n",
    "    print(\"name: \",name)\n",
    "    plt.plot(group[0], group[1], marker=\"o\", linestyle=\"\", label=1)\n",
    "    plt.plot(group[0], group[2], marker=\"o\", linestyle=\"\", label=2)\n",
    "plt.legend()\n",
    "plt.show()"
   ]
  },
  {
   "cell_type": "code",
   "execution_count": null,
   "metadata": {},
   "outputs": [],
   "source": []
  }
 ],
 "metadata": {
  "kernelspec": {
   "display_name": "latent_features",
   "language": "python",
   "name": "latent_features"
  },
  "language_info": {
   "codemirror_mode": {
    "name": "ipython",
    "version": 3
   },
   "file_extension": ".py",
   "mimetype": "text/x-python",
   "name": "python",
   "nbconvert_exporter": "python",
   "pygments_lexer": "ipython3",
   "version": "3.7.7"
  }
 },
 "nbformat": 4,
 "nbformat_minor": 4
}
