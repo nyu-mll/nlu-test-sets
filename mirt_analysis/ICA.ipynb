{
 "cells": [
  {
   "cell_type": "code",
   "execution_count": 1,
   "metadata": {},
   "outputs": [],
   "source": [
    "from sklearn.datasets import load_digits\n",
    "from sklearn.decomposition import FastICA\n",
    "from sklearn.decomposition import PCA\n",
    "import pickle\n",
    "import copy\n",
    "\n",
    "import pandas as pd\n",
    "import seaborn as sns\n",
    "import numpy\n",
    "import torch\n",
    "import scipy\n",
    "import scipy.stats\n",
    "import numpy as np"
   ]
  },
  {
   "cell_type": "code",
   "execution_count": 2,
   "metadata": {},
   "outputs": [
    {
     "name": "stdout",
     "output_type": "stream",
     "text": [
      "/Users/phumon/Documents/Research/nlu-test-sets/params_mvirt/alpha-lognormal-identity-dim18_theta-normal-identity_nosubsample_1.00_0.20\n"
     ]
    }
   ],
   "source": [
    "import os\n",
    "dim=2\n",
    "base_dir='/Users/phumon/Documents/Research/nlu-test-sets/params_mvirt'\n",
    "file_name=f'alpha-lognormal-identity-dim18_theta-normal-identity_nosubsample_1.00_0.20'\n",
    "exp_dir=os.path.join(base_dir, file_name)\n",
    "\n",
    "print(exp_dir)\n"
   ]
  },
  {
   "cell_type": "code",
   "execution_count": 3,
   "metadata": {},
   "outputs": [],
   "source": [
    "param_plot_stats = {}\n",
    "keys = ['a', 'b', 'g', 't']\n",
    "for key in keys:\n",
    "    with open(os.path.join(exp_dir, 'plot_stats_pickles', f'{key}.p'), 'rb') as f:\n",
    "        param_plot_stats[key] = pickle.load(f)"
   ]
  },
  {
   "cell_type": "markdown",
   "metadata": {},
   "source": [
    "https://stackoverflow.com/questions/35407669/independent-component-analysis-ica-in-python"
   ]
  },
  {
   "cell_type": "code",
   "execution_count": 4,
   "metadata": {},
   "outputs": [],
   "source": [
    "alpha_arr = np.vstack(param_plot_stats['a']['mean'])\n",
    "pca = PCA(n_components=2, random_state=0)\n",
    "new_alpha_ = pca.fit_transform(alpha_arr)  # Reconstruct signals\n",
    "#A_alpha_ = ica.mixing_  # Get estimated mixing matrix\n"
   ]
  },
  {
   "cell_type": "code",
   "execution_count": 5,
   "metadata": {},
   "outputs": [
    {
     "name": "stdout",
     "output_type": "stream",
     "text": [
      "(79033, 2)\n"
     ]
    }
   ],
   "source": [
    "print(new_alpha_.shape)"
   ]
  },
  {
   "cell_type": "code",
   "execution_count": 8,
   "metadata": {},
   "outputs": [],
   "source": [
    "from multi_virt_v2 import *"
   ]
  },
  {
   "cell_type": "code",
   "execution_count": 10,
   "metadata": {},
   "outputs": [],
   "source": [
    "repo = os.path.dirname(os.path.dirname(os.path.abspath('__file__')))"
   ]
  },
  {
   "cell_type": "code",
   "execution_count": 11,
   "metadata": {},
   "outputs": [],
   "source": [
    "datasets=\"boolq,cb,commonsenseqa,copa,cosmosqa,hellaswag,rte,snli,wic,qamr,arct,mcscript,mctaco,mutual,mutual-plus,quoref,socialiqa,squad-v2,wsc,mnli,mrqa-nq,newsqa,abductive-nli,arc-easy,arc-challenge,piqa,quail,winogrande,anli\"\n",
    "data_names, responses, n_items = get_files(\n",
    "    os.path.join(repo, 'data'),\n",
    "    \"csv\",\n",
    "    set(datasets.split(','))\n",
    ")"
   ]
  },
  {
   "cell_type": "code",
   "execution_count": 12,
   "metadata": {},
   "outputs": [],
   "source": [
    "task_metadata = pd.read_csv('../irt_scripts/task_metadata.csv')\n",
    "task_metadata.set_index(\"jiant_name\", inplace=True)\n",
    "task_list = [x for x in task_metadata.index if x in data_names]"
   ]
  },
  {
   "cell_type": "code",
   "execution_count": 13,
   "metadata": {},
   "outputs": [],
   "source": [
    "total = 0\n",
    "task_name = []\n",
    "task_format = []\n",
    "\n",
    "for tname, size in zip(data_names, n_items):\n",
    "    name = task_metadata.loc[tname]['taskname']\n",
    "    total += size\n",
    "    task_name += [name for _ in range(size)]\n",
    "    task_format += [task_metadata.loc[tname]['format'] for _ in range(size)]\n",
    "    \n",
    "task_name = pd.DataFrame(task_name, columns=['task_name'])\n",
    "task_format = pd.DataFrame(task_format, columns=['format'])\n",
    "task_name_format = pd.concat([task_name, task_format], axis=1)"
   ]
  },
  {
   "cell_type": "code",
   "execution_count": 16,
   "metadata": {},
   "outputs": [
    {
     "data": {
      "text/html": [
       "<div>\n",
       "<style scoped>\n",
       "    .dataframe tbody tr th:only-of-type {\n",
       "        vertical-align: middle;\n",
       "    }\n",
       "\n",
       "    .dataframe tbody tr th {\n",
       "        vertical-align: top;\n",
       "    }\n",
       "\n",
       "    .dataframe thead th {\n",
       "        text-align: right;\n",
       "    }\n",
       "</style>\n",
       "<table border=\"1\" class=\"dataframe\">\n",
       "  <thead>\n",
       "    <tr style=\"text-align: right;\">\n",
       "      <th></th>\n",
       "      <th>task_name</th>\n",
       "      <th>format</th>\n",
       "    </tr>\n",
       "  </thead>\n",
       "  <tbody>\n",
       "    <tr>\n",
       "      <th>0</th>\n",
       "      <td>AbductiveNLI</td>\n",
       "      <td>MC-sent</td>\n",
       "    </tr>\n",
       "    <tr>\n",
       "      <th>1</th>\n",
       "      <td>AbductiveNLI</td>\n",
       "      <td>MC-sent</td>\n",
       "    </tr>\n",
       "    <tr>\n",
       "      <th>2</th>\n",
       "      <td>AbductiveNLI</td>\n",
       "      <td>MC-sent</td>\n",
       "    </tr>\n",
       "    <tr>\n",
       "      <th>3</th>\n",
       "      <td>AbductiveNLI</td>\n",
       "      <td>MC-sent</td>\n",
       "    </tr>\n",
       "    <tr>\n",
       "      <th>4</th>\n",
       "      <td>AbductiveNLI</td>\n",
       "      <td>MC-sent</td>\n",
       "    </tr>\n",
       "    <tr>\n",
       "      <th>...</th>\n",
       "      <td>...</td>\n",
       "      <td>...</td>\n",
       "    </tr>\n",
       "    <tr>\n",
       "      <th>79028</th>\n",
       "      <td>WSC</td>\n",
       "      <td>MC-sent</td>\n",
       "    </tr>\n",
       "    <tr>\n",
       "      <th>79029</th>\n",
       "      <td>WSC</td>\n",
       "      <td>MC-sent</td>\n",
       "    </tr>\n",
       "    <tr>\n",
       "      <th>79030</th>\n",
       "      <td>WSC</td>\n",
       "      <td>MC-sent</td>\n",
       "    </tr>\n",
       "    <tr>\n",
       "      <th>79031</th>\n",
       "      <td>WSC</td>\n",
       "      <td>MC-sent</td>\n",
       "    </tr>\n",
       "    <tr>\n",
       "      <th>79032</th>\n",
       "      <td>WSC</td>\n",
       "      <td>MC-sent</td>\n",
       "    </tr>\n",
       "  </tbody>\n",
       "</table>\n",
       "<p>79033 rows × 2 columns</p>\n",
       "</div>"
      ],
      "text/plain": [
       "          task_name   format\n",
       "0      AbductiveNLI  MC-sent\n",
       "1      AbductiveNLI  MC-sent\n",
       "2      AbductiveNLI  MC-sent\n",
       "3      AbductiveNLI  MC-sent\n",
       "4      AbductiveNLI  MC-sent\n",
       "...             ...      ...\n",
       "79028           WSC  MC-sent\n",
       "79029           WSC  MC-sent\n",
       "79030           WSC  MC-sent\n",
       "79031           WSC  MC-sent\n",
       "79032           WSC  MC-sent\n",
       "\n",
       "[79033 rows x 2 columns]"
      ]
     },
     "execution_count": 16,
     "metadata": {},
     "output_type": "execute_result"
    }
   ],
   "source": [
    "task_name_format"
   ]
  },
  {
   "cell_type": "code",
   "execution_count": 49,
   "metadata": {},
   "outputs": [],
   "source": [
    "\n",
    "param = pd.concat([pd.DataFrame(new_alpha_.tolist()), task_name_format], axis=1)"
   ]
  },
  {
   "cell_type": "code",
   "execution_count": 50,
   "metadata": {},
   "outputs": [
    {
     "data": {
      "text/html": [
       "<div>\n",
       "<style scoped>\n",
       "    .dataframe tbody tr th:only-of-type {\n",
       "        vertical-align: middle;\n",
       "    }\n",
       "\n",
       "    .dataframe tbody tr th {\n",
       "        vertical-align: top;\n",
       "    }\n",
       "\n",
       "    .dataframe thead th {\n",
       "        text-align: right;\n",
       "    }\n",
       "</style>\n",
       "<table border=\"1\" class=\"dataframe\">\n",
       "  <thead>\n",
       "    <tr style=\"text-align: right;\">\n",
       "      <th></th>\n",
       "      <th>0</th>\n",
       "      <th>1</th>\n",
       "      <th>task_name</th>\n",
       "      <th>format</th>\n",
       "    </tr>\n",
       "  </thead>\n",
       "  <tbody>\n",
       "    <tr>\n",
       "      <th>0</th>\n",
       "      <td>0.158559</td>\n",
       "      <td>-0.026714</td>\n",
       "      <td>AbductiveNLI</td>\n",
       "      <td>MC-sent</td>\n",
       "    </tr>\n",
       "    <tr>\n",
       "      <th>1</th>\n",
       "      <td>-0.147352</td>\n",
       "      <td>0.008106</td>\n",
       "      <td>AbductiveNLI</td>\n",
       "      <td>MC-sent</td>\n",
       "    </tr>\n",
       "    <tr>\n",
       "      <th>2</th>\n",
       "      <td>-0.080547</td>\n",
       "      <td>0.095921</td>\n",
       "      <td>AbductiveNLI</td>\n",
       "      <td>MC-sent</td>\n",
       "    </tr>\n",
       "    <tr>\n",
       "      <th>3</th>\n",
       "      <td>-0.083888</td>\n",
       "      <td>-0.003054</td>\n",
       "      <td>AbductiveNLI</td>\n",
       "      <td>MC-sent</td>\n",
       "    </tr>\n",
       "    <tr>\n",
       "      <th>4</th>\n",
       "      <td>-0.102934</td>\n",
       "      <td>-0.061754</td>\n",
       "      <td>AbductiveNLI</td>\n",
       "      <td>MC-sent</td>\n",
       "    </tr>\n",
       "    <tr>\n",
       "      <th>...</th>\n",
       "      <td>...</td>\n",
       "      <td>...</td>\n",
       "      <td>...</td>\n",
       "      <td>...</td>\n",
       "    </tr>\n",
       "    <tr>\n",
       "      <th>79028</th>\n",
       "      <td>0.090980</td>\n",
       "      <td>0.105743</td>\n",
       "      <td>WSC</td>\n",
       "      <td>MC-sent</td>\n",
       "    </tr>\n",
       "    <tr>\n",
       "      <th>79029</th>\n",
       "      <td>-0.139715</td>\n",
       "      <td>-0.034630</td>\n",
       "      <td>WSC</td>\n",
       "      <td>MC-sent</td>\n",
       "    </tr>\n",
       "    <tr>\n",
       "      <th>79030</th>\n",
       "      <td>0.082167</td>\n",
       "      <td>0.072593</td>\n",
       "      <td>WSC</td>\n",
       "      <td>MC-sent</td>\n",
       "    </tr>\n",
       "    <tr>\n",
       "      <th>79031</th>\n",
       "      <td>-0.013094</td>\n",
       "      <td>-0.011992</td>\n",
       "      <td>WSC</td>\n",
       "      <td>MC-sent</td>\n",
       "    </tr>\n",
       "    <tr>\n",
       "      <th>79032</th>\n",
       "      <td>0.091564</td>\n",
       "      <td>-0.157823</td>\n",
       "      <td>WSC</td>\n",
       "      <td>MC-sent</td>\n",
       "    </tr>\n",
       "  </tbody>\n",
       "</table>\n",
       "<p>79033 rows × 4 columns</p>\n",
       "</div>"
      ],
      "text/plain": [
       "              0         1     task_name   format\n",
       "0      0.158559 -0.026714  AbductiveNLI  MC-sent\n",
       "1     -0.147352  0.008106  AbductiveNLI  MC-sent\n",
       "2     -0.080547  0.095921  AbductiveNLI  MC-sent\n",
       "3     -0.083888 -0.003054  AbductiveNLI  MC-sent\n",
       "4     -0.102934 -0.061754  AbductiveNLI  MC-sent\n",
       "...         ...       ...           ...      ...\n",
       "79028  0.090980  0.105743           WSC  MC-sent\n",
       "79029 -0.139715 -0.034630           WSC  MC-sent\n",
       "79030  0.082167  0.072593           WSC  MC-sent\n",
       "79031 -0.013094 -0.011992           WSC  MC-sent\n",
       "79032  0.091564 -0.157823           WSC  MC-sent\n",
       "\n",
       "[79033 rows x 4 columns]"
      ]
     },
     "execution_count": 50,
     "metadata": {},
     "output_type": "execute_result"
    }
   ],
   "source": [
    "param"
   ]
  },
  {
   "cell_type": "code",
   "execution_count": 51,
   "metadata": {},
   "outputs": [
    {
     "data": {
      "application/vnd.jupyter.widget-view+json": {
       "model_id": "7ab26a7bbfb14e81a561104786a281ac",
       "version_major": 2,
       "version_minor": 0
      },
      "text/plain": [
       "Canvas(toolbar=Toolbar(toolitems=[('Home', 'Reset original view', 'home', 'home'), ('Back', 'Back to previous …"
      ]
     },
     "metadata": {},
     "output_type": "display_data"
    }
   ],
   "source": [
    "%matplotlib widget\n",
    "import matplotlib.pyplot as plt\n",
    "\n",
    "plt.figure()\n",
    "plt.plot(param[0], param[1], \"kx\")\n",
    "plt.show()\n",
    "\n",
    "\n"
   ]
  },
  {
   "cell_type": "code",
   "execution_count": 52,
   "metadata": {},
   "outputs": [
    {
     "data": {
      "text/plain": [
       "<pandas.core.groupby.generic.DataFrameGroupBy object at 0x7fce757d6890>"
      ]
     },
     "execution_count": 52,
     "metadata": {},
     "output_type": "execute_result"
    }
   ],
   "source": [
    "groups = param.groupby(\"task_name\")\n",
    "groups"
   ]
  },
  {
   "cell_type": "code",
   "execution_count": 53,
   "metadata": {},
   "outputs": [
    {
     "data": {
      "application/vnd.jupyter.widget-view+json": {
       "model_id": "116274f84f11482589dcd4eb2bc0b667",
       "version_major": 2,
       "version_minor": 0
      },
      "text/plain": [
       "Canvas(toolbar=Toolbar(toolitems=[('Home', 'Reset original view', 'home', 'home'), ('Back', 'Back to previous …"
      ]
     },
     "metadata": {},
     "output_type": "display_data"
    },
    {
     "name": "stdout",
     "output_type": "stream",
     "text": [
      "name:  MC-par\n",
      "name:  MC-sent\n",
      "name:  classification\n",
      "name:  span selection\n"
     ]
    }
   ],
   "source": [
    "plt.figure()\n",
    "\n",
    "groups = param.groupby(\"format\")\n",
    "for name, group in groups:\n",
    "    print(\"name: \",name)\n",
    "    plt.plot(group[0], group[1], marker=\"o\", linestyle=\"\", label=name)\n",
    "plt.legend()\n",
    "plt.show()"
   ]
  },
  {
   "cell_type": "code",
   "execution_count": 22,
   "metadata": {},
   "outputs": [
    {
     "data": {
      "text/plain": [
       "0        0.158559\n",
       "1       -0.147352\n",
       "2       -0.080547\n",
       "3       -0.083888\n",
       "4       -0.102934\n",
       "           ...   \n",
       "79028    0.090980\n",
       "79029   -0.139715\n",
       "79030    0.082167\n",
       "79031   -0.013094\n",
       "79032    0.091564\n",
       "Name: 0, Length: 79033, dtype: float64"
      ]
     },
     "execution_count": 22,
     "metadata": {},
     "output_type": "execute_result"
    }
   ],
   "source": [
    "param[0]"
   ]
  },
  {
   "cell_type": "markdown",
   "metadata": {},
   "source": [
    "# Theta"
   ]
  },
  {
   "cell_type": "code",
   "execution_count": 43,
   "metadata": {},
   "outputs": [],
   "source": [
    "beta_arr = np.vstack(param_plot_stats['b']['mean'])\n",
    "pca = PCA(n_components=2, random_state=0)\n",
    "new_beta_ = pca.fit_transform(beta_arr)  # Reconstruct signals\n",
    "#A_alpha_ = ica.mixing_  # Get estimated mixing matrix\n"
   ]
  },
  {
   "cell_type": "code",
   "execution_count": 44,
   "metadata": {},
   "outputs": [],
   "source": [
    "params_beta = pd.concat([pd.DataFrame(new_beta_.tolist()), task_name_format], axis=1)"
   ]
  },
  {
   "cell_type": "code",
   "execution_count": 54,
   "metadata": {},
   "outputs": [],
   "source": [
    "groups = params_beta.groupby(\"task_name\")\n"
   ]
  },
  {
   "cell_type": "code",
   "execution_count": 55,
   "metadata": {},
   "outputs": [
    {
     "data": {
      "application/vnd.jupyter.widget-view+json": {
       "model_id": "90dff01bb05441d7a9702cbaac8b85a6",
       "version_major": 2,
       "version_minor": 0
      },
      "text/plain": [
       "Canvas(toolbar=Toolbar(toolitems=[('Home', 'Reset original view', 'home', 'home'), ('Back', 'Back to previous …"
      ]
     },
     "metadata": {},
     "output_type": "display_data"
    },
    {
     "name": "stdout",
     "output_type": "stream",
     "text": [
      "name:  ARC-C\n",
      "name:  ARC-E\n",
      "name:  ARCT\n",
      "name:  AbductiveNLI\n",
      "name:  BoolQ\n",
      "name:  CB\n",
      "name:  COPA\n",
      "name:  CSQA\n",
      "name:  CosmosQA\n",
      "name:  HellaSwag\n",
      "name:  MC-TACO\n",
      "name:  MCScript\n",
      "name:  MNLI\n",
      "name:  MRQA-NQ\n",
      "name:  MuTual\n",
      "name:  MuTual+\n",
      "name:  NewsQA\n",
      "name:  PiQA\n",
      "name:  QAMR\n",
      "name:  QuAIL\n",
      "name:  Quoref\n",
      "name:  RTE\n",
      "name:  SNLI\n",
      "name:  SQuAD2.0\n",
      "name:  SocialIQA\n",
      "name:  WSC\n",
      "name:  WiC\n",
      "name:  Winogrande\n"
     ]
    }
   ],
   "source": [
    "plt.figure()\n",
    "for name, group in groups:\n",
    "    print(\"name: \",name)\n",
    "    plt.plot(group[0], group[1], marker=\"o\", linestyle=\"\", label=name)\n",
    "plt.legend()\n",
    "plt.show()"
   ]
  },
  {
   "cell_type": "code",
   "execution_count": null,
   "metadata": {},
   "outputs": [],
   "source": [
    "# END scatter plot"
   ]
  },
  {
   "cell_type": "code",
   "execution_count": null,
   "metadata": {},
   "outputs": [],
   "source": [
    "alpha_arr"
   ]
  },
  {
   "cell_type": "code",
   "execution_count": null,
   "metadata": {},
   "outputs": [],
   "source": [
    "%matplotlib widget\n",
    "import matplotlib.pyplot as plt\n",
    "\n",
    "plt.figure()\n",
    "\n",
    "models = [alpha_arr, S_alpha_]\n",
    "names = ['Alpha (mixed signal)',\n",
    "         'ICA recovered Alpha signals']\n",
    "colors = ['red', 'steelblue', 'orange']\n",
    "\n",
    "for ii, (model, name) in enumerate(zip(models, names), 1):\n",
    "    plt.subplot(2, 1, ii)\n",
    "    plt.title(name)\n",
    "    for sig, color in zip(model.T, colors):\n",
    "        plt.plot(sig) #, color=color)\n",
    "\n",
    "plt.subplots_adjust(0.09, 0.04, 0.94, 0.94, 0.26, 0.46)\n",
    "plt.show()\n"
   ]
  },
  {
   "cell_type": "code",
   "execution_count": null,
   "metadata": {},
   "outputs": [],
   "source": [
    "beta_arr = np.vstack(param_plot_stats['b']['mean'])\n",
    "ica = FastICA(n_components=2, random_state=0)\n",
    "S_beta_ = ica.fit_transform(beta_arr)  # Reconstruct signals\n",
    "A_beta_ = ica.mixing_  # Get estimated mixing matrix\n"
   ]
  },
  {
   "cell_type": "code",
   "execution_count": null,
   "metadata": {},
   "outputs": [],
   "source": [
    "models = [beta_arr, S_beta_]\n",
    "names = ['Beta (mixed signal)',\n",
    "         'ICA recovered Theta signals']\n",
    "colors = ['red', 'steelblue', 'orange']\n",
    "\n",
    "plt.figure()\n",
    "for ii, (model, name) in enumerate(zip(models, names), 1):\n",
    "    plt.subplot(2, 1, ii)\n",
    "    plt.title(name)\n",
    "    for sig, color in zip(model.T, colors):\n",
    "        plt.plot(sig, color=color)\n",
    "\n",
    "plt.subplots_adjust(0.09, 0.04, 0.94, 0.94, 0.26, 0.46)\n",
    "plt.show()"
   ]
  },
  {
   "cell_type": "code",
   "execution_count": null,
   "metadata": {},
   "outputs": [],
   "source": [
    "A_alpha_.shape"
   ]
  },
  {
   "cell_type": "code",
   "execution_count": null,
   "metadata": {},
   "outputs": [],
   "source": [
    "from sklearn.linear_model import Lasso\n",
    "clf = Lasso(alpha=0.1)\n",
    "clf.fit(S_alpha_, A_alpha_)"
   ]
  },
  {
   "cell_type": "code",
   "execution_count": null,
   "metadata": {},
   "outputs": [],
   "source": []
  }
 ],
 "metadata": {
  "kernelspec": {
   "display_name": "latent_features",
   "language": "python",
   "name": "latent_features"
  },
  "language_info": {
   "codemirror_mode": {
    "name": "ipython",
    "version": 3
   },
   "file_extension": ".py",
   "mimetype": "text/x-python",
   "name": "python",
   "nbconvert_exporter": "python",
   "pygments_lexer": "ipython3",
   "version": "3.7.7"
  }
 },
 "nbformat": 4,
 "nbformat_minor": 4
}
