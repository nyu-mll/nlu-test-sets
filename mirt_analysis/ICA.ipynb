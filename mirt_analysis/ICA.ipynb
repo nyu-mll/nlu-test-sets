{
 "cells": [
  {
   "cell_type": "code",
   "execution_count": 20,
   "metadata": {},
   "outputs": [],
   "source": [
    "from sklearn.datasets import load_digits\n",
    "from sklearn.decomposition import FastICA\n",
    "from sklearn.decomposition import PCA\n",
    "import pickle\n",
    "import copy\n",
    "\n",
    "import pandas as pd\n",
    "import seaborn as sns\n",
    "import numpy\n",
    "import torch\n",
    "import scipy\n",
    "import scipy.stats\n",
    "import numpy as np\n",
    "\n",
    "%matplotlib widget\n",
    "import matplotlib.pyplot as plt"
   ]
  },
  {
   "cell_type": "code",
   "execution_count": 24,
   "metadata": {},
   "outputs": [
    {
     "name": "stdout",
     "output_type": "stream",
     "text": [
      "/Users/phumon/Documents/Research/nlu-test-sets/params_mvirt/alpha-lognormal-identity-dim3_theta-normal-identity_nosubsample_1.00_0.35\n"
     ]
    }
   ],
   "source": [
    "import os\n",
    "dim=3\n",
    "base_dir='/Users/phumon/Documents/Research/nlu-test-sets/params_mvirt'\n",
    "file_name=f'alpha-lognormal-identity-dim3_theta-normal-identity_nosubsample_1.00_0.35'\n",
    "exp_dir=os.path.join(base_dir, file_name)\n",
    "\n",
    "print(exp_dir)\n"
   ]
  },
  {
   "cell_type": "code",
   "execution_count": 25,
   "metadata": {},
   "outputs": [],
   "source": [
    "param_plot_stats = {}\n",
    "keys = ['a', 'b', 'g', 't']\n",
    "for key in keys:\n",
    "    with open(os.path.join(exp_dir, 'plot_stats_pickles', f'{key}.p'), 'rb') as f:\n",
    "        param_plot_stats[key] = pickle.load(f)"
   ]
  },
  {
   "cell_type": "code",
   "execution_count": 27,
   "metadata": {},
   "outputs": [
    {
     "data": {
      "text/plain": [
       "0       [-0.021553458645939827, -0.015649301931262016,...\n",
       "1       [-0.09639673680067062, -0.090969517827034, -0....\n",
       "2       [-0.10437823832035065, -0.0916324034333229, -0...\n",
       "3       [-0.11129684746265411, -0.09807850420475006, -...\n",
       "4       [-0.003862386103719473, -0.0017638414865359664...\n",
       "                              ...                        \n",
       "9819    [-0.10166065394878387, -0.10147400945425034, -...\n",
       "9820    [-0.10771973431110382, -0.10493899136781693, -...\n",
       "9821    [-0.1122632846236229, -0.08883336186408997, -0...\n",
       "9822    [-0.04981045797467232, -0.039097510278224945, ...\n",
       "9823    [-0.10692992806434631, -0.10700929164886475, -...\n",
       "Name: mean, Length: 9824, dtype: object"
      ]
     },
     "execution_count": 27,
     "metadata": {},
     "output_type": "execute_result"
    }
   ],
   "source": [
    "param_plot_stats['a']['log_mean'] = param_plot_stats['a']['mean'].apply(lambda x: numpy.log(x))\n",
    "param_plot_stats['a']['mean']   "
   ]
  },
  {
   "cell_type": "code",
   "execution_count": 28,
   "metadata": {},
   "outputs": [
    {
     "name": "stdout",
     "output_type": "stream",
     "text": [
      "[-0.06182498 -0.06157865 -0.06133619] [0.10302926 0.10304921 0.10310471]\n"
     ]
    }
   ],
   "source": [
    "\n",
    "#param_plot_stats['a']['mean'] = param_plot_stats['a']['mean'].apply(lambda x: numpy.log(x))\n",
    "alpha_mean, alpha_var = param_plot_stats['a'][\"mean\"].to_numpy().mean(), param_plot_stats['a'][\"var\"].to_numpy().mean()\n",
    "print(alpha_mean, alpha_var)"
   ]
  },
  {
   "cell_type": "code",
   "execution_count": 29,
   "metadata": {},
   "outputs": [],
   "source": [
    "dimensions=3\n",
    "for dim in range(dimensions):\n",
    "    param_plot_stats['a']['mean_'+str(dim)]= param_plot_stats['a']['mean'].apply(lambda x: x[dim])\n",
    "    param_plot_stats['b']['mean_'+str(dim)]= param_plot_stats['b']['mean'].apply(lambda x: x[dim])"
   ]
  },
  {
   "cell_type": "code",
   "execution_count": 30,
   "metadata": {},
   "outputs": [
    {
     "data": {
      "application/vnd.jupyter.widget-view+json": {
       "model_id": "ec9dbeb4fdb14f56b73fcf18ba864a59",
       "version_major": 2,
       "version_minor": 0
      },
      "text/plain": [
       "Canvas(toolbar=Toolbar(toolitems=[('Home', 'Reset original view', 'home', 'home'), ('Back', 'Back to previous …"
      ]
     },
     "metadata": {},
     "output_type": "display_data"
    }
   ],
   "source": [
    "plt.figure()\n",
    "for dim in range(dimensions):\n",
    "    plt.plot(param_plot_stats['a']['mean_'+str(dim)], param_plot_stats['b']['mean_'+str(dim)], marker=\"o\", linestyle=\"\", label=dim)\n",
    "\n",
    "plt.legend()\n",
    "plt.show()"
   ]
  },
  {
   "cell_type": "code",
   "execution_count": 31,
   "metadata": {},
   "outputs": [
    {
     "data": {
      "application/vnd.jupyter.widget-view+json": {
       "model_id": "f6e2fec2105645319a515dba5377b50a",
       "version_major": 2,
       "version_minor": 0
      },
      "text/plain": [
       "Canvas(toolbar=Toolbar(toolitems=[('Home', 'Reset original view', 'home', 'home'), ('Back', 'Back to previous …"
      ]
     },
     "metadata": {},
     "output_type": "display_data"
    }
   ],
   "source": [
    "plt.figure()\n",
    "plt.plot(param_plot_stats['a']['mean_0'], param_plot_stats['a']['mean_1'], marker=\"o\", linestyle=\"\", label=1)\n",
    "plt.plot(param_plot_stats['a']['mean_0'], param_plot_stats['a']['mean_2'], marker=\"o\", linestyle=\"\", label=2)\n",
    "\n",
    "plt.legend()\n",
    "plt.show()"
   ]
  },
  {
   "cell_type": "code",
   "execution_count": 32,
   "metadata": {},
   "outputs": [
    {
     "data": {
      "text/plain": [
       "0       [-0.021553458645939827, -0.015649301931262016,...\n",
       "1       [-0.09639673680067062, -0.090969517827034, -0....\n",
       "2       [-0.10437823832035065, -0.0916324034333229, -0...\n",
       "3       [-0.11129684746265411, -0.09807850420475006, -...\n",
       "4       [-0.003862386103719473, -0.0017638414865359664...\n",
       "                              ...                        \n",
       "9819    [-0.10166065394878387, -0.10147400945425034, -...\n",
       "9820    [-0.10771973431110382, -0.10493899136781693, -...\n",
       "9821    [-0.1122632846236229, -0.08883336186408997, -0...\n",
       "9822    [-0.04981045797467232, -0.039097510278224945, ...\n",
       "9823    [-0.10692992806434631, -0.10700929164886475, -...\n",
       "Name: mean, Length: 9824, dtype: object"
      ]
     },
     "execution_count": 32,
     "metadata": {},
     "output_type": "execute_result"
    }
   ],
   "source": [
    "param_plot_stats['a']['mean']"
   ]
  },
  {
   "cell_type": "code",
   "execution_count": 33,
   "metadata": {},
   "outputs": [
    {
     "data": {
      "application/vnd.jupyter.widget-view+json": {
       "model_id": "5ac5da7b21a3493b8200a9b88bd7c376",
       "version_major": 2,
       "version_minor": 0
      },
      "text/plain": [
       "Canvas(toolbar=Toolbar(toolitems=[('Home', 'Reset original view', 'home', 'home'), ('Back', 'Back to previous …"
      ]
     },
     "metadata": {},
     "output_type": "display_data"
    },
    {
     "name": "stderr",
     "output_type": "stream",
     "text": [
      "No handles with labels found to put in legend.\n"
     ]
    }
   ],
   "source": [
    "plt.figure()\n",
    "plt.plot(param_plot_stats['a']['mean_0'], param_plot_stats['a']['mean_2'], marker=\"o\", linestyle=\"\")\n",
    "plt.legend()\n",
    "plt.show()"
   ]
  },
  {
   "cell_type": "code",
   "execution_count": 34,
   "metadata": {},
   "outputs": [
    {
     "data": {
      "application/vnd.jupyter.widget-view+json": {
       "model_id": "41e987345236466c90fcc655fdf79c40",
       "version_major": 2,
       "version_minor": 0
      },
      "text/plain": [
       "Canvas(toolbar=Toolbar(toolitems=[('Home', 'Reset original view', 'home', 'home'), ('Back', 'Back to previous …"
      ]
     },
     "metadata": {},
     "output_type": "display_data"
    }
   ],
   "source": [
    "plt.figure()\n",
    "plt.plot(param_plot_stats['b']['mean_0'], param_plot_stats['b']['mean_1'], marker=\"o\", linestyle=\"\", label=1)\n",
    "plt.plot(param_plot_stats['b']['mean_0'], param_plot_stats['b']['mean_2'], marker=\"o\", linestyle=\"\", label=2)\n",
    "plt.legend()\n",
    "plt.show()"
   ]
  },
  {
   "cell_type": "markdown",
   "metadata": {},
   "source": [
    "https://stackoverflow.com/questions/35407669/independent-component-analysis-ica-in-python"
   ]
  },
  {
   "cell_type": "code",
   "execution_count": 35,
   "metadata": {},
   "outputs": [],
   "source": [
    "alpha_arr = np.vstack(param_plot_stats['b']['mean'])\n",
    "pca = PCA(n_components=2, random_state=0)\n",
    "new_alpha_ = pca.fit_transform(alpha_arr)  # Reconstruct signals\n",
    "#A_alpha_ = ica.mixing_  # Get estimated mixing matrix\n"
   ]
  },
  {
   "cell_type": "code",
   "execution_count": null,
   "metadata": {},
   "outputs": [],
   "source": [
    "print(new_alpha_.shape)"
   ]
  },
  {
   "cell_type": "code",
   "execution_count": null,
   "metadata": {},
   "outputs": [],
   "source": [
    "from multi_virt_v2 import *"
   ]
  },
  {
   "cell_type": "code",
   "execution_count": null,
   "metadata": {},
   "outputs": [],
   "source": [
    "repo = os.path.dirname(os.path.dirname(os.path.abspath('__file__')))"
   ]
  },
  {
   "cell_type": "code",
   "execution_count": null,
   "metadata": {},
   "outputs": [],
   "source": [
    "#datasets=\"boolq,cb,commonsenseqa,copa,cosmosqa,hellaswag,rte,snli,wic,qamr,arct,mcscript,mctaco,mutual,mutual-plus,quoref,socialiqa,squad-v2,wsc,mnli,mrqa-nq,newsqa,abductive-nli,arc-easy,arc-challenge,piqa,quail,winogrande,anli\"\n",
    "datasets=\"snli\"\n",
    "data_names, responses, n_items = get_files(\n",
    "    os.path.join(repo, 'data'),\n",
    "    \"csv\",\n",
    "    set(datasets.split(','))\n",
    ")"
   ]
  },
  {
   "cell_type": "code",
   "execution_count": null,
   "metadata": {},
   "outputs": [],
   "source": [
    "task_metadata = pd.read_csv('../irt_scripts/task_metadata.csv')\n",
    "task_metadata.set_index(\"jiant_name\", inplace=True)\n",
    "task_list = [x for x in task_metadata.index if x in data_names]"
   ]
  },
  {
   "cell_type": "code",
   "execution_count": null,
   "metadata": {},
   "outputs": [],
   "source": [
    "total = 0\n",
    "task_name = []\n",
    "task_format = []\n",
    "\n",
    "for tname, size in zip(data_names, n_items):\n",
    "    name = task_metadata.loc[tname]['taskname']\n",
    "    total += size\n",
    "    task_name += [name for _ in range(size)]\n",
    "    task_format += [task_metadata.loc[tname]['format'] for _ in range(size)]\n",
    "    \n",
    "task_name = pd.DataFrame(task_name, columns=['task_name'])\n",
    "task_format = pd.DataFrame(task_format, columns=['format'])\n",
    "task_name_format = pd.concat([task_name, task_format], axis=1)"
   ]
  },
  {
   "cell_type": "code",
   "execution_count": null,
   "metadata": {},
   "outputs": [],
   "source": [
    "task_name_format"
   ]
  },
  {
   "cell_type": "code",
   "execution_count": null,
   "metadata": {},
   "outputs": [],
   "source": [
    "\n",
    "param = pd.concat([pd.DataFrame(new_alpha_.tolist()), task_name_format], axis=1)"
   ]
  },
  {
   "cell_type": "code",
   "execution_count": null,
   "metadata": {},
   "outputs": [],
   "source": [
    "param"
   ]
  },
  {
   "cell_type": "code",
   "execution_count": null,
   "metadata": {},
   "outputs": [],
   "source": [
    "\n",
    "\n",
    "plt.figure()\n",
    "plt.plot(param[0], param[1], \"kx\")\n",
    "plt.show()\n",
    "\n",
    "\n"
   ]
  },
  {
   "cell_type": "code",
   "execution_count": null,
   "metadata": {},
   "outputs": [],
   "source": [
    "groups = param.groupby(\"task_name\")\n",
    "groups"
   ]
  },
  {
   "cell_type": "code",
   "execution_count": null,
   "metadata": {},
   "outputs": [],
   "source": [
    "plt.figure()\n",
    "\n",
    "groups = param.groupby(\"format\")\n",
    "for name, group in groups:\n",
    "    print(\"name: \",name)\n",
    "    plt.plot(group[0], group[1], marker=\"o\", linestyle=\"\")\n",
    "plt.legend()\n",
    "plt.show()"
   ]
  },
  {
   "cell_type": "code",
   "execution_count": null,
   "metadata": {},
   "outputs": [],
   "source": [
    "param[0]"
   ]
  },
  {
   "cell_type": "markdown",
   "metadata": {},
   "source": [
    "# Theta"
   ]
  },
  {
   "cell_type": "code",
   "execution_count": null,
   "metadata": {},
   "outputs": [],
   "source": [
    "beta_arr = np.vstack(param_plot_stats['b']['mean'])\n",
    "pca = PCA(n_components=2, random_state=0)\n",
    "new_beta_ = pca.fit_transform(beta_arr)  # Reconstruct signals\n",
    "#A_alpha_ = ica.mixing_  # Get estimated mixing matrix\n"
   ]
  },
  {
   "cell_type": "code",
   "execution_count": null,
   "metadata": {},
   "outputs": [],
   "source": [
    "params_beta = pd.concat([pd.DataFrame(new_beta_.tolist()), task_name_format], axis=1)"
   ]
  },
  {
   "cell_type": "code",
   "execution_count": null,
   "metadata": {},
   "outputs": [],
   "source": [
    "groups = params_beta.groupby(\"task_name\")\n"
   ]
  },
  {
   "cell_type": "code",
   "execution_count": null,
   "metadata": {},
   "outputs": [],
   "source": [
    "plt.figure()\n",
    "for name, group in groups:\n",
    "    print(\"name: \",name)\n",
    "    plt.plot(group[0], group[1], marker=\"o\", linestyle=\"\", label=name)\n",
    "plt.legend()\n",
    "plt.show()"
   ]
  },
  {
   "cell_type": "code",
   "execution_count": null,
   "metadata": {},
   "outputs": [],
   "source": [
    "# END scatter plot"
   ]
  },
  {
   "cell_type": "code",
   "execution_count": null,
   "metadata": {},
   "outputs": [],
   "source": [
    "beta_arr = np.vstack(param_plot_stats['b']['mean'])\n",
    "ica = FastICA(n_components=3, random_state=0)\n",
    "S_beta_ = ica.fit_transform(beta_arr)  # Reconstruct signals\n",
    "A_beta_ = ica.mixing_  # Get estimated mixing matrix\n"
   ]
  },
  {
   "cell_type": "code",
   "execution_count": null,
   "metadata": {},
   "outputs": [],
   "source": [
    "models = [beta_arr, S_beta_]\n",
    "names = ['Alpha (mixed signal)',\n",
    "         'ICA recovered Alpha signals']\n",
    "colors = ['red', 'steelblue', 'orange']\n",
    "\n",
    "plt.figure()\n",
    "for ii, (model, name) in enumerate(zip(models, names), 1):\n",
    "    plt.subplot(2, 1, ii)\n",
    "    plt.title(name)\n",
    "    for sig, color in zip(model.T, colors):\n",
    "        plt.plot(sig, color=color)\n",
    "\n",
    "plt.subplots_adjust(0.09, 0.04, 0.94, 0.94, 0.26, 0.46)\n",
    "plt.show()"
   ]
  },
  {
   "cell_type": "code",
   "execution_count": null,
   "metadata": {},
   "outputs": [],
   "source": [
    "params_beta = pd.concat([pd.DataFrame(S_beta_.tolist()), task_name_format], axis=1)"
   ]
  },
  {
   "cell_type": "code",
   "execution_count": null,
   "metadata": {},
   "outputs": [],
   "source": [
    "params_beta"
   ]
  },
  {
   "cell_type": "code",
   "execution_count": null,
   "metadata": {},
   "outputs": [],
   "source": [
    "groups = params_beta.groupby(\"task_name\")\n",
    "groups"
   ]
  },
  {
   "cell_type": "code",
   "execution_count": null,
   "metadata": {},
   "outputs": [],
   "source": [
    "plt.figure()\n",
    "for name, group in groups:\n",
    "    print(\"name: \",name)\n",
    "    plt.plot(group[0], group[1], marker=\"o\", linestyle=\"\", label=1)\n",
    "    plt.plot(group[0], group[2], marker=\"o\", linestyle=\"\", label=2)\n",
    "plt.legend()\n",
    "plt.show()"
   ]
  },
  {
   "cell_type": "code",
   "execution_count": null,
   "metadata": {},
   "outputs": [],
   "source": []
  }
 ],
 "metadata": {
  "kernelspec": {
   "display_name": "latent_features",
   "language": "python",
   "name": "latent_features"
  },
  "language_info": {
   "codemirror_mode": {
    "name": "ipython",
    "version": 3
   },
   "file_extension": ".py",
   "mimetype": "text/x-python",
   "name": "python",
   "nbconvert_exporter": "python",
   "pygments_lexer": "ipython3",
   "version": "3.7.7"
  }
 },
 "nbformat": 4,
 "nbformat_minor": 4
}
