{
 "cells": [
  {
   "cell_type": "code",
   "execution_count": 5,
   "metadata": {},
   "outputs": [],
   "source": [
    "from sklearn.datasets import load_digits\n",
    "from sklearn.decomposition import FastICA\n",
    "from sklearn.decomposition import PCA\n",
    "import pickle5 as pickle\n",
    "import copy\n",
    "\n",
    "import pandas as pd\n",
    "import seaborn as sns\n",
    "import numpy\n",
    "import torch\n",
    "import scipy\n",
    "import scipy.stats\n",
    "import numpy as np\n",
    "\n",
    "%matplotlib widget\n",
    "import matplotlib.pyplot as plt"
   ]
  },
  {
   "cell_type": "code",
   "execution_count": 34,
   "metadata": {},
   "outputs": [
    {
     "name": "stdout",
     "output_type": "stream",
     "text": [
      "/Users/phumon/Documents/Research/nlu-test-sets/params_mvirt_sync/lr-0.0001-steps-$4000-alpha-lognormal-identity-dim8_theta-normal-identity_nosubsample_1.00_0.40_particles8/\n"
     ]
    }
   ],
   "source": [
    "import os\n",
    "dim=3\n",
    "base_dir='/Users/phumon/Documents/Research/nlu-test-sets/params_mvirt_sync'\n",
    "file_name=f'lr-0.0001-steps-$4000-alpha-lognormal-identity-dim8_theta-normal-identity_nosubsample_1.00_0.40_particles8/'\n",
    "exp_dir=os.path.join(base_dir, file_name)\n",
    "\n",
    "print(exp_dir)\n"
   ]
  },
  {
   "cell_type": "code",
   "execution_count": 35,
   "metadata": {},
   "outputs": [],
   "source": [
    "param_plot_stats = {}\n",
    "keys = ['a', 'b', 'g', 't']\n",
    "for key in keys:\n",
    "    with open(os.path.join(exp_dir, 'plot_stats_pickles', f'{key}.p'), 'rb') as f:\n",
    "        param_plot_stats[key] = pickle.load(f)"
   ]
  },
  {
   "cell_type": "code",
   "execution_count": 62,
   "metadata": {},
   "outputs": [
    {
     "name": "stdout",
     "output_type": "stream",
     "text": [
      "alpha mean:  [0.0565874  0.05625768 0.05636056 0.05651398 0.05657453 0.05659167\n",
      " 0.05667934 0.05645685]\n",
      "alpha var:  [0.18627433 0.18614232 0.18624339 0.18630315 0.18632454 0.18627604\n",
      " 0.18635483 0.18626695]\n",
      "beta mean:  [-0.01541819 -0.01563922 -0.0156223  -0.01538601 -0.01517688 -0.01579989\n",
      " -0.01571705 -0.01565638]\n",
      "beta var:  [0.91355278 0.91321918 0.9131526  0.91358529 0.91328188 0.91342821\n",
      " 0.913385   0.913155  ]\n",
      "theta mean:  [-0.01052167 -0.01101482 -0.0110263  -0.01047297 -0.01245633 -0.0095041\n",
      " -0.012507   -0.01192814]\n",
      "theta var:  [0.98810289 0.98602625 0.98624028 0.98607352 0.98780786 0.98967992\n",
      " 0.98757252 0.98782954]\n"
     ]
    }
   ],
   "source": [
    "\n",
    "param_plot_stats['a']['log_mean'] = param_plot_stats['a']['mean'].apply(lambda x: numpy.log(x))\n",
    "alpha_mean, alpha_var = param_plot_stats['a'][\"log_mean\"].to_numpy().mean(), param_plot_stats['a'][\"var\"].to_numpy().mean()\n",
    "print(\"alpha mean: \", alpha_mean)\n",
    "print(\"alpha var: \", alpha_var)\n",
    "print(\"beta mean: \", beta_mean)\n",
    "print(\"beta var: \", beta_var)\n",
    "print(\"theta mean: \", t_mean)\n",
    "print(\"theta var: \", t_var)"
   ]
  },
  {
   "cell_type": "code",
   "execution_count": null,
   "metadata": {},
   "outputs": [],
   "source": []
  },
  {
   "cell_type": "code",
   "execution_count": 54,
   "metadata": {},
   "outputs": [
    {
     "name": "stdout",
     "output_type": "stream",
     "text": [
      "posterior beta mean:  -0.015551991250365972\n",
      "posterior beta var:  0.9133449924513697\n"
     ]
    }
   ],
   "source": [
    "beta_mean, beta_var = param_plot_stats['b'][\"mean\"].to_numpy().mean(), param_plot_stats['b'][\"var\"].to_numpy().mean()\n",
    "print(\"posterior beta mean: \", beta_mean.mean())\n",
    "print(\"posterior beta var: \", beta_var.mean())"
   ]
  },
  {
   "cell_type": "code",
   "execution_count": 51,
   "metadata": {},
   "outputs": [
    {
     "name": "stdout",
     "output_type": "stream",
     "text": [
      "posterior theta mean:  -0.011178915586949896\n",
      "posterior theta var:  0.9874166001876196\n"
     ]
    }
   ],
   "source": [
    "t_mean, t_var = param_plot_stats['t'][\"mean\"].to_numpy().mean(), param_plot_stats['t'][\"var\"].to_numpy().mean()\n",
    "print(\"posterior theta mean: \", t_mean.mean())\n",
    "print(\"posterior theta var: \", t_var.mean())"
   ]
  },
  {
   "cell_type": "code",
   "execution_count": 37,
   "metadata": {},
   "outputs": [],
   "source": [
    "dimensions=3\n",
    "for dim in range(dimensions):\n",
    "    param_plot_stats['a']['log_mean_'+str(dim)]= param_plot_stats['a']['log_mean'].apply(lambda x: x[dim])\n",
    "    param_plot_stats['b']['mean_'+str(dim)]= param_plot_stats['b']['mean'].apply(lambda x: x[dim])"
   ]
  },
  {
   "cell_type": "code",
   "execution_count": 38,
   "metadata": {},
   "outputs": [
    {
     "data": {
      "application/vnd.jupyter.widget-view+json": {
       "model_id": "ad999a08d10747619d8d201dcb3b7a29",
       "version_major": 2,
       "version_minor": 0
      },
      "text/plain": [
       "Canvas(toolbar=Toolbar(toolitems=[('Home', 'Reset original view', 'home', 'home'), ('Back', 'Back to previous …"
      ]
     },
     "metadata": {},
     "output_type": "display_data"
    }
   ],
   "source": [
    "plt.figure()\n",
    "for dim in range(dimensions):\n",
    "    plt.plot(param_plot_stats['a']['log_mean_'+str(dim)], param_plot_stats['b']['mean_'+str(dim)], marker=\"o\", linestyle=\"\", label=dim)\n",
    "\n",
    "plt.legend()\n",
    "plt.show()"
   ]
  },
  {
   "cell_type": "code",
   "execution_count": 39,
   "metadata": {},
   "outputs": [
    {
     "data": {
      "application/vnd.jupyter.widget-view+json": {
       "model_id": "2824a182a66a457e92dc229a7c6f5486",
       "version_major": 2,
       "version_minor": 0
      },
      "text/plain": [
       "Canvas(toolbar=Toolbar(toolitems=[('Home', 'Reset original view', 'home', 'home'), ('Back', 'Back to previous …"
      ]
     },
     "metadata": {},
     "output_type": "display_data"
    }
   ],
   "source": [
    "plt.figure()\n",
    "plt.plot(param_plot_stats['a']['log_mean_0'], param_plot_stats['a']['log_mean_1'], marker=\"o\", linestyle=\"\", label=1)\n",
    "plt.plot(param_plot_stats['a']['log_mean_0'], param_plot_stats['a']['log_mean_2'], marker=\"o\", linestyle=\"\", label=2)\n",
    "\n",
    "plt.legend()\n",
    "plt.show()"
   ]
  },
  {
   "cell_type": "code",
   "execution_count": 40,
   "metadata": {},
   "outputs": [
    {
     "data": {
      "text/plain": [
       "array([0.03206562, 0.02932311, 0.03850344, 0.03990555, 0.03952771,\n",
       "       0.04200046, 0.03938458, 0.0351401 ])"
      ]
     },
     "execution_count": 40,
     "metadata": {},
     "output_type": "execute_result"
    }
   ],
   "source": [
    "param_plot_stats['a']['log_mean'][0]"
   ]
  },
  {
   "cell_type": "markdown",
   "metadata": {},
   "source": [
    "https://stackoverflow.com/questions/35407669/independent-component-analysis-ica-in-python"
   ]
  },
  {
   "cell_type": "code",
   "execution_count": 41,
   "metadata": {},
   "outputs": [],
   "source": [
    "alpha_arr = np.vstack(param_plot_stats['b']['mean'])\n",
    "pca = PCA(n_components=2, random_state=0)\n",
    "new_alpha_ = pca.fit_transform(alpha_arr)  # Reconstruct signals\n",
    "#A_alpha_ = ica.mixing_  # Get estimated mixing matrix\n"
   ]
  },
  {
   "cell_type": "code",
   "execution_count": 42,
   "metadata": {},
   "outputs": [
    {
     "name": "stdout",
     "output_type": "stream",
     "text": [
      "(2000, 2)\n"
     ]
    }
   ],
   "source": [
    "print(new_alpha_.shape)"
   ]
  },
  {
   "cell_type": "code",
   "execution_count": 43,
   "metadata": {},
   "outputs": [
    {
     "ename": "ModuleNotFoundError",
     "evalue": "No module named 'multi_virt_v2'",
     "output_type": "error",
     "traceback": [
      "\u001b[0;31m---------------------------------------------------------------------------\u001b[0m",
      "\u001b[0;31mModuleNotFoundError\u001b[0m                       Traceback (most recent call last)",
      "\u001b[0;32m<ipython-input-43-d5105801fa19>\u001b[0m in \u001b[0;36m<module>\u001b[0;34m\u001b[0m\n\u001b[0;32m----> 1\u001b[0;31m \u001b[0;32mfrom\u001b[0m \u001b[0mmulti_virt_v2\u001b[0m \u001b[0;32mimport\u001b[0m \u001b[0;34m*\u001b[0m\u001b[0;34m\u001b[0m\u001b[0;34m\u001b[0m\u001b[0m\n\u001b[0m",
      "\u001b[0;31mModuleNotFoundError\u001b[0m: No module named 'multi_virt_v2'"
     ]
    }
   ],
   "source": [
    "from multi_virt_v2 import *"
   ]
  },
  {
   "cell_type": "code",
   "execution_count": null,
   "metadata": {},
   "outputs": [],
   "source": [
    "repo = os.path.dirname(os.path.dirname(os.path.abspath('__file__')))"
   ]
  },
  {
   "cell_type": "code",
   "execution_count": null,
   "metadata": {},
   "outputs": [],
   "source": [
    "#datasets=\"boolq,cb,commonsenseqa,copa,cosmosqa,hellaswag,rte,snli,wic,qamr,arct,mcscript,mctaco,mutual,mutual-plus,quoref,socialiqa,squad-v2,wsc,mnli,mrqa-nq,newsqa,abductive-nli,arc-easy,arc-challenge,piqa,quail,winogrande,anli\"\n",
    "datasets=\"snli\"\n",
    "data_names, responses, n_items = get_files(\n",
    "    os.path.join(repo, 'data'),\n",
    "    \"csv\",\n",
    "    set(datasets.split(','))\n",
    ")"
   ]
  },
  {
   "cell_type": "code",
   "execution_count": null,
   "metadata": {},
   "outputs": [],
   "source": [
    "task_metadata = pd.read_csv('../irt_scripts/task_metadata.csv')\n",
    "task_metadata.set_index(\"jiant_name\", inplace=True)\n",
    "task_list = [x for x in task_metadata.index if x in data_names]"
   ]
  },
  {
   "cell_type": "code",
   "execution_count": null,
   "metadata": {},
   "outputs": [],
   "source": [
    "total = 0\n",
    "task_name = []\n",
    "task_format = []\n",
    "\n",
    "for tname, size in zip(data_names, n_items):\n",
    "    name = task_metadata.loc[tname]['taskname']\n",
    "    total += size\n",
    "    task_name += [name for _ in range(size)]\n",
    "    task_format += [task_metadata.loc[tname]['format'] for _ in range(size)]\n",
    "    \n",
    "task_name = pd.DataFrame(task_name, columns=['task_name'])\n",
    "task_format = pd.DataFrame(task_format, columns=['format'])\n",
    "task_name_format = pd.concat([task_name, task_format], axis=1)"
   ]
  },
  {
   "cell_type": "code",
   "execution_count": null,
   "metadata": {},
   "outputs": [],
   "source": [
    "task_name_format"
   ]
  },
  {
   "cell_type": "code",
   "execution_count": null,
   "metadata": {},
   "outputs": [],
   "source": [
    "\n",
    "param = pd.concat([pd.DataFrame(new_alpha_.tolist()), task_name_format], axis=1)"
   ]
  },
  {
   "cell_type": "code",
   "execution_count": null,
   "metadata": {},
   "outputs": [],
   "source": [
    "param"
   ]
  },
  {
   "cell_type": "code",
   "execution_count": null,
   "metadata": {},
   "outputs": [],
   "source": [
    "\n",
    "\n",
    "plt.figure()\n",
    "plt.plot(param[0], param[1], \"kx\")\n",
    "plt.show()\n",
    "\n",
    "\n"
   ]
  },
  {
   "cell_type": "code",
   "execution_count": null,
   "metadata": {},
   "outputs": [],
   "source": [
    "groups = param.groupby(\"task_name\")\n",
    "groups"
   ]
  },
  {
   "cell_type": "code",
   "execution_count": null,
   "metadata": {},
   "outputs": [],
   "source": [
    "plt.figure()\n",
    "\n",
    "groups = param.groupby(\"format\")\n",
    "for name, group in groups:\n",
    "    print(\"name: \",name)\n",
    "    plt.plot(group[0], group[1], marker=\"o\", linestyle=\"\")\n",
    "plt.legend()\n",
    "plt.show()"
   ]
  },
  {
   "cell_type": "code",
   "execution_count": null,
   "metadata": {},
   "outputs": [],
   "source": [
    "param[0]"
   ]
  },
  {
   "cell_type": "markdown",
   "metadata": {},
   "source": [
    "# Theta"
   ]
  },
  {
   "cell_type": "code",
   "execution_count": null,
   "metadata": {},
   "outputs": [],
   "source": [
    "beta_arr = np.vstack(param_plot_stats['b']['mean'])\n",
    "pca = PCA(n_components=2, random_state=0)\n",
    "new_beta_ = pca.fit_transform(beta_arr)  # Reconstruct signals\n",
    "#A_alpha_ = ica.mixing_  # Get estimated mixing matrix\n"
   ]
  },
  {
   "cell_type": "code",
   "execution_count": null,
   "metadata": {},
   "outputs": [],
   "source": [
    "params_beta = pd.concat([pd.DataFrame(new_beta_.tolist()), task_name_format], axis=1)"
   ]
  },
  {
   "cell_type": "code",
   "execution_count": null,
   "metadata": {},
   "outputs": [],
   "source": [
    "groups = params_beta.groupby(\"task_name\")\n"
   ]
  },
  {
   "cell_type": "code",
   "execution_count": null,
   "metadata": {},
   "outputs": [],
   "source": [
    "plt.figure()\n",
    "for name, group in groups:\n",
    "    print(\"name: \",name)\n",
    "    plt.plot(group[0], group[1], marker=\"o\", linestyle=\"\", label=name)\n",
    "plt.legend()\n",
    "plt.show()"
   ]
  },
  {
   "cell_type": "code",
   "execution_count": null,
   "metadata": {},
   "outputs": [],
   "source": [
    "# END scatter plot"
   ]
  },
  {
   "cell_type": "code",
   "execution_count": null,
   "metadata": {},
   "outputs": [],
   "source": [
    "beta_arr = np.vstack(param_plot_stats['b']['mean'])\n",
    "ica = FastICA(n_components=3, random_state=0)\n",
    "S_beta_ = ica.fit_transform(beta_arr)  # Reconstruct signals\n",
    "A_beta_ = ica.mixing_  # Get estimated mixing matrix\n"
   ]
  },
  {
   "cell_type": "code",
   "execution_count": null,
   "metadata": {},
   "outputs": [],
   "source": [
    "models = [beta_arr, S_beta_]\n",
    "names = ['Alpha (mixed signal)',\n",
    "         'ICA recovered Alpha signals']\n",
    "colors = ['red', 'steelblue', 'orange']\n",
    "\n",
    "plt.figure()\n",
    "for ii, (model, name) in enumerate(zip(models, names), 1):\n",
    "    plt.subplot(2, 1, ii)\n",
    "    plt.title(name)\n",
    "    for sig, color in zip(model.T, colors):\n",
    "        plt.plot(sig, color=color)\n",
    "\n",
    "plt.subplots_adjust(0.09, 0.04, 0.94, 0.94, 0.26, 0.46)\n",
    "plt.show()"
   ]
  },
  {
   "cell_type": "code",
   "execution_count": null,
   "metadata": {},
   "outputs": [],
   "source": [
    "params_beta = pd.concat([pd.DataFrame(S_beta_.tolist()), task_name_format], axis=1)"
   ]
  },
  {
   "cell_type": "code",
   "execution_count": null,
   "metadata": {},
   "outputs": [],
   "source": [
    "params_beta"
   ]
  },
  {
   "cell_type": "code",
   "execution_count": null,
   "metadata": {},
   "outputs": [],
   "source": [
    "groups = params_beta.groupby(\"task_name\")\n",
    "groups"
   ]
  },
  {
   "cell_type": "code",
   "execution_count": null,
   "metadata": {},
   "outputs": [],
   "source": [
    "plt.figure()\n",
    "for name, group in groups:\n",
    "    print(\"name: \",name)\n",
    "    plt.plot(group[0], group[1], marker=\"o\", linestyle=\"\", label=1)\n",
    "    plt.plot(group[0], group[2], marker=\"o\", linestyle=\"\", label=2)\n",
    "plt.legend()\n",
    "plt.show()"
   ]
  },
  {
   "cell_type": "code",
   "execution_count": null,
   "metadata": {},
   "outputs": [],
   "source": []
  }
 ],
 "metadata": {
  "kernelspec": {
   "display_name": "latent_features",
   "language": "python",
   "name": "latent_features"
  },
  "language_info": {
   "codemirror_mode": {
    "name": "ipython",
    "version": 3
   },
   "file_extension": ".py",
   "mimetype": "text/x-python",
   "name": "python",
   "nbconvert_exporter": "python",
   "pygments_lexer": "ipython3",
   "version": "3.7.7"
  }
 },
 "nbformat": 4,
 "nbformat_minor": 4
}
