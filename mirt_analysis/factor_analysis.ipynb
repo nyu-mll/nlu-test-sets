{
 "cells": [
  {
   "cell_type": "markdown",
   "metadata": {},
   "source": [
    "# Import"
   ]
  },
  {
   "cell_type": "code",
   "execution_count": 3,
   "metadata": {},
   "outputs": [],
   "source": [
    "%matplotlib widget\n",
    "# %matplotlib inline"
   ]
  },
  {
   "cell_type": "code",
   "execution_count": 4,
   "metadata": {},
   "outputs": [],
   "source": [
    "import csv \n",
    "import os\n",
    "import json\n",
    "import pickle\n",
    "import pandas as pd\n",
    "import copy\n",
    "from tqdm import tqdm\n",
    "\n",
    "import numpy as np\n",
    "import pandas as pd\n",
    "from matplotlib import pyplot as plt\n",
    "\n",
    "from pprint import pprint\n",
    "\n",
    "# Set R_HOME Environment variable\n",
    "import rpy2.robjects as ro\n",
    "import rpy2.robjects.packages as rpackages\n",
    "from rpy2.robjects import pandas2ri\n",
    "\n",
    "from rpy2.robjects.conversion import localconverter\n",
    "from rpy2.robjects.vectors import StrVector\n",
    "\n",
    "import scipy as sp\n",
    "from scipy import stats\n",
    "import seaborn as sns; sns.set()\n",
    "\n",
    "from functools import reduce"
   ]
  },
  {
   "cell_type": "markdown",
   "metadata": {},
   "source": [
    "# Define Functions"
   ]
  },
  {
   "cell_type": "code",
   "execution_count": 5,
   "metadata": {},
   "outputs": [],
   "source": [
    "def install_mirt_packages(utils, packnames = ['mirt', 'psych']):\n",
    "    utils.chooseCRANmirror(ind=1) # select the first mirror in the list\n",
    "    \n",
    "    # Selectively install what needs to be installed.\n",
    "    names_to_install = [x for x in packnames if not rpackages.isinstalled(x)]\n",
    "    if len(names_to_install) > 0:\n",
    "        utils.install_packages(StrVector(names_to_install))\n",
    "    \n",
    "    print(f\"Installed {len(names_to_install)} packages: {names_to_install}\")\n",
    "\n",
    "def get_mirt_packages(packnames = ['mirt', 'psych']):\n",
    "    return {\n",
    "        key: rpackages.importr(key)\n",
    "        for key in packnames\n",
    "    }\n",
    "    \n",
    "def import_lalor_responses(fname, ftype='csv'):\n",
    "    if ftype == 'csv':\n",
    "        return pd.read_csv(f\"{fname}.{ftype}\", index_col=0)\n",
    "    else:\n",
    "        raise TypeError(f\"File type {ftype} not supported for Lalor responses.\")\n",
    "\n",
    "def get_mirt_wrapper(args):\n",
    "    technical = ','.join([f'{key}={value}' for key, value in args.technical.items()])\n",
    "    \n",
    "    print(f\"Technical list for MIRT is {technical}\")\n",
    "    \n",
    "    ro.r(\n",
    "        f'''\n",
    "        f <- function(df, verbose = FALSE)  {{\n",
    "            fitted <- mirt(df, {args.factors}, itemtype=\"{args.itemtype}\", TOL={args.TOL}, technical=list({technical}))\n",
    "            result <- coef(fitted, simplify=TRUE, IRTpar=TRUE)$items;\n",
    "            return(data.frame(result))\n",
    "        }}\n",
    "        '''\n",
    "    )\n",
    "    \n",
    "    return ro.globalenv['f']\n",
    "\n",
    "def get_tetrachoric_R():\n",
    "    ro.r(\n",
    "        f'''\n",
    "        t <- function(df) {{\n",
    "            result <- tetrachoric(df)\n",
    "            return(data.frame(result$rho))\n",
    "        }}\n",
    "        '''\n",
    "    )\n",
    "    \n",
    "    return ro.globalenv['t']"
   ]
  },
  {
   "cell_type": "markdown",
   "metadata": {},
   "source": [
    "# Run"
   ]
  },
  {
   "cell_type": "markdown",
   "metadata": {},
   "source": [
    "## Set up R and Appropriate Packages"
   ]
  },
  {
   "cell_type": "code",
   "execution_count": 6,
   "metadata": {},
   "outputs": [],
   "source": [
    "r_base = rpackages.importr('base')\n",
    "r_utils = rpackages.importr('utils')"
   ]
  },
  {
   "cell_type": "code",
   "execution_count": 7,
   "metadata": {},
   "outputs": [
    {
     "name": "stdout",
     "output_type": "stream",
     "text": [
      "Installed 0 packages: []\n"
     ]
    }
   ],
   "source": [
    "install_mirt_packages(r_utils)\n",
    "imported = get_mirt_packages(packnames = ['mirt', 'psych'])"
   ]
  },
  {
   "cell_type": "code",
   "execution_count": 8,
   "metadata": {},
   "outputs": [],
   "source": [
    "tetr = get_tetrachoric_R()"
   ]
  },
  {
   "cell_type": "markdown",
   "metadata": {},
   "source": [
    "## Set Args and Load Data"
   ]
  },
  {
   "cell_type": "code",
   "execution_count": 9,
   "metadata": {},
   "outputs": [],
   "source": [
    "# choose prior ['vague', 'hierarchical']\n",
    "\n",
    "args_dict = {\n",
    "    'factors':1,\n",
    "    'itemtype':\"2PL\",\n",
    "    'TOL':1e-4,\n",
    "    'optimizer':'NR',\n",
    "    'technical':{\n",
    "        'NCYCLES':1e4\n",
    "    }\n",
    "}\n",
    "\n",
    "args = pd.Series(args_dict)"
   ]
  },
  {
   "cell_type": "code",
   "execution_count": 10,
   "metadata": {},
   "outputs": [],
   "source": [
    "data_dir = os.path.dirname(os.path.abspath('__file__'))"
   ]
  },
  {
   "cell_type": "markdown",
   "metadata": {},
   "source": [
    "## Factor Analysis"
   ]
  },
  {
   "cell_type": "code",
   "execution_count": 11,
   "metadata": {},
   "outputs": [],
   "source": [
    "repo = os.path.join('..')\n",
    "response_dir = os.path.join(repo, 'data')"
   ]
  },
  {
   "cell_type": "code",
   "execution_count": 12,
   "metadata": {},
   "outputs": [
    {
     "name": "stdout",
     "output_type": "stream",
     "text": [
      "28\n",
      "['abductive-nli_irt_all_coded.csv',\n",
      " 'arc-challenge_irt_all_coded.csv',\n",
      " 'arc-easy_irt_all_coded.csv',\n",
      " 'arct_irt_all_coded.csv',\n",
      " 'boolq_irt_all_coded.csv',\n",
      " 'cb_irt_all_coded.csv',\n",
      " 'commonsenseqa_irt_all_coded.csv',\n",
      " 'copa_irt_all_coded.csv',\n",
      " 'cosmosqa_irt_all_coded.csv',\n",
      " 'hellaswag_irt_all_coded.csv',\n",
      " 'mcscript_irt_all_coded.csv',\n",
      " 'mctaco_irt_all_coded.csv',\n",
      " 'mnli_irt_all_coded.csv',\n",
      " 'mrqa-nq_irt_all_coded.csv',\n",
      " 'mutual-plus_irt_all_coded.csv',\n",
      " 'mutual_irt_all_coded.csv',\n",
      " 'newsqa_irt_all_coded.csv',\n",
      " 'piqa_irt_all_coded.csv',\n",
      " 'qamr_irt_all_coded.csv',\n",
      " 'quail_irt_all_coded.csv',\n",
      " 'quoref_irt_all_coded.csv',\n",
      " 'rte_irt_all_coded.csv',\n",
      " 'snli_irt_all_coded.csv',\n",
      " 'socialiqa_irt_all_coded.csv',\n",
      " 'squad-v2_irt_all_coded.csv',\n",
      " 'wic_irt_all_coded.csv',\n",
      " 'winogrande_irt_all_coded.csv',\n",
      " 'wsc_irt_all_coded.csv']\n",
      "(90, 79033)\n"
     ]
    }
   ],
   "source": [
    "model_data = {}\n",
    "\n",
    "response_files = [f for f in os.listdir(response_dir) if os.path.isfile(os.path.join(response_dir, f))]\n",
    "\n",
    "print(len(response_files))\n",
    "pprint(response_files)\n",
    "\n",
    "for response_file in response_files:\n",
    "    dataset = response_file.split('_irt_all_coded.csv')[0]\n",
    "    model_data[dataset] = import_lalor_responses(os.path.join(response_dir,f'{dataset}_irt_all_coded'), ftype='csv')\n",
    "\n",
    "df_all_data = [model_data[key] for key in model_data]\n",
    "\n",
    "model_data['combined'] = reduce(lambda left, right: pd.DataFrame.join(left, right), df_all_data)\n",
    "\n",
    "print(model_data['combined'].shape)"
   ]
  },
  {
   "cell_type": "code",
   "execution_count": 14,
   "metadata": {},
   "outputs": [],
   "source": [
    "model_data['combined'].to_csv(os.path.join(response_dir, 'combined_irt_all_coded.csv'))"
   ]
  },
  {
   "cell_type": "code",
   "execution_count": null,
   "metadata": {},
   "outputs": [],
   "source": [
    "with localconverter(ro.default_converter + pandas2ri.converter):\n",
    "    cov = tetr(model_data['combined'])"
   ]
  },
  {
   "cell_type": "code",
   "execution_count": 22,
   "metadata": {},
   "outputs": [
    {
     "data": {
      "text/plain": [
       "<matplotlib.collections.PathCollection at 0x21b68645888>"
      ]
     },
     "execution_count": 22,
     "metadata": {},
     "output_type": "execute_result"
    },
    {
     "data": {
      "image/png": "[encoded data removed]",
      "text/plain": [
       "<Figure size 432x288 with 1 Axes>"
      ]
     },
     "metadata": {
      "needs_background": "light"
     },
     "output_type": "display_data"
    }
   ],
   "source": [
    "cov_eigs = np.linalg.eigvalsh(cov)\n",
    "\n",
    "plt.scatter(list(range(len(cov_eigs))),cov_eigs)"
   ]
  },
  {
   "cell_type": "code",
   "execution_count": null,
   "metadata": {},
   "outputs": [],
   "source": []
  }
 ],
 "metadata": {
  "kernelspec": {
   "display_name": "DL",
   "language": "python",
   "name": "dl"
  },
  "language_info": {
   "codemirror_mode": {
    "name": "ipython",
    "version": 3
   },
   "file_extension": ".py",
   "mimetype": "text/x-python",
   "name": "python",
   "nbconvert_exporter": "python",
   "pygments_lexer": "ipython3",
   "version": "3.7.9"
  }
 },
 "nbformat": 4,
 "nbformat_minor": 4
}
