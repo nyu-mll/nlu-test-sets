{
 "cells": [
  {
   "cell_type": "markdown",
   "metadata": {
    "heading_collapsed": true
   },
   "source": [
    "# Import"
   ]
  },
  {
   "cell_type": "code",
   "execution_count": 1,
   "metadata": {
    "hidden": true
   },
   "outputs": [],
   "source": [
    "%matplotlib widget"
   ]
  },
  {
   "cell_type": "code",
   "execution_count": 2,
   "metadata": {
    "hidden": true
   },
   "outputs": [],
   "source": [
    "import os\n",
    "import pickle\n",
    "import copy\n",
    "\n",
    "import pandas as pd\n",
    "import seaborn as sns\n",
    "import numpy\n",
    "import torch\n",
    "import scipy\n",
    "import scipy.stats\n",
    "\n",
    "import pyro\n",
    "import pyro.infer\n",
    "import pyro.infer.mcmc\n",
    "import pyro.distributions as dist\n",
    "import torch.distributions.constraints as constraints\n",
    "from tqdm.auto import tqdm\n",
    "\n",
    "from sklearn.decomposition import FastICA\n",
    "\n",
    "import matplotlib.pyplot as plot\n",
    "import matplotlib.gridspec as gridspec\n",
    "from matplotlib.lines import Line2D\n",
    "import warnings\n",
    "warnings.filterwarnings('ignore')\n",
    "sns.set(style=\"whitegrid\")"
   ]
  },
  {
   "cell_type": "code",
   "execution_count": 3,
   "metadata": {
    "hidden": true
   },
   "outputs": [],
   "source": [
    "repo = os.path.dirname(os.path.dirname(os.path.abspath('__file__')))"
   ]
  },
  {
   "cell_type": "markdown",
   "metadata": {},
   "source": [
    "# Define"
   ]
  },
  {
   "cell_type": "code",
   "execution_count": 4,
   "metadata": {},
   "outputs": [],
   "source": [
    "def sigmoid(x):\n",
    "    return 1./(1.+torch.exp(-x))\n",
    "\n",
    "def icc_best_deriv(alpha, beta, theta, model_names, gamma=None, col='mean'):\n",
    "    '''\n",
    "    Method to calculate the locally estimated headroom (LEH) score, defined as\n",
    "    the derivative of the item characteristic curve w.r.t. the best performing model.\n",
    "    \n",
    "    Args:\n",
    "        alpha:       DataFrame of discrimination parameter statistics for each item.\n",
    "        beta:        DataFrame of difficulty parameter statistics for each item.\n",
    "        theta:       DataFrame of ability parameter statistics for each responder.\n",
    "        model_names: List of responder names.\n",
    "        gamma:       DataFrame of guessing parameter statistics for each item.\n",
    "        col:         DataFrame column name to use for calculating LEH scores.\n",
    "    \n",
    "    Returns:\n",
    "        scores:      LEH scores for each item.    \n",
    "    '''\n",
    "    best_idx, best_value = theta[col].argmax(), theta[col].max()\n",
    "    print(f'Best model: {model_names[best_idx]}\\n{best_value}')\n",
    "    \n",
    "    a, b = torch.tensor(alpha[col].values), torch.tensor(beta[col].values)\n",
    "    \n",
    "    #logits = (a*(best_value-b))\n",
    "    logits = (torch.matmul(a,best_value.T) + b).T\n",
    "    sigmoids = sigmoid(logits)\n",
    "    scores = sigmoids*(1.-sigmoids)*a\n",
    "    \n",
    "    print(f'No gamma: {scores.mean()}')\n",
    "    if not gamma is None:\n",
    "        g = torch.tensor(gamma[col].apply(lambda x: x.item()).values)\n",
    "        scores = (1.-g)*scores\n",
    "        print(f'With gamma: {scores.mean()}')\n",
    "    \n",
    "    return scores      \n",
    "    \n",
    "    "
   ]
  },
  {
   "cell_type": "code",
   "execution_count": 5,
   "metadata": {},
   "outputs": [],
   "source": [
    "def get_model_guide(alpha_dist, theta_dist, alpha_transform, theta_transform):\n",
    "    model = lambda obs: irt_model(obs, alpha_dist, theta_dist, alpha_transform = alpha_transform, theta_transform = theta_transform)\n",
    "    guide = lambda obs: vi_posterior(obs, alpha_dist, theta_dist)\n",
    "    \n",
    "    return model, guide"
   ]
  },
  {
   "cell_type": "code",
   "execution_count": 6,
   "metadata": {},
   "outputs": [],
   "source": [
    "def get_data_accuracies(data, verbose = False, get_cols = False):\n",
    "    '''\n",
    "    Method to reformat `data` and calculate item and responder accuracies.\n",
    "    \n",
    "    Args:\n",
    "        data:                DataFrame of item responses.\n",
    "        verbose:             Boolean value of whether to print statements.\n",
    "        get_cols:            Boolean value of whether to return original column\n",
    "                             values of `data`.\n",
    "        \n",
    "    Returns:\n",
    "        new_data:            Reformatted `data`, dropping first column.\n",
    "        accuracies:          Accuracy for each responder across examples.\n",
    "        example_accuracies:  Accuracy for each example across responders.\n",
    "        data.columns.values: Returns only if `get_cols` is True. Original column\n",
    "                             values of `data`.\n",
    "    '''\n",
    "    new_data = numpy.array(data)\n",
    "    new_data = new_data[:,1:]\n",
    "    \n",
    "    model_names = dict(data['userid'])\n",
    "    accuracies = new_data.mean(-1)\n",
    "    example_accuracies = new_data.mean(0)\n",
    "    \n",
    "    if verbose:\n",
    "        print('\\n'.join([f'{name}: {acc}' for name, acc in zip(model_names.values(),accuracies)]))\n",
    "    \n",
    "    if get_cols:\n",
    "        return new_data, accuracies, example_accuracies, data.columns.values\n",
    "    else:\n",
    "        return new_data, accuracies, example_accuracies"
   ]
  },
  {
   "cell_type": "code",
   "execution_count": 7,
   "metadata": {},
   "outputs": [],
   "source": [
    "def get_stats_CI(params, p=0.95, dist='normal'):\n",
    "    '''\n",
    "    Method to calculate lower and upper quantiles defined by `p`, mean, and variance of `param`\n",
    "    \n",
    "    Args:\n",
    "        params: Dictionary of distribution parameters for each item keyed according to the \n",
    "                parametric distribution defined by `dist`.\n",
    "        p:      Percent of distribution covered by the lower and upper interval values for each\n",
    "                parameter.\n",
    "        dist:   Name of parametric distribution\n",
    "    \n",
    "    Returns:\n",
    "        return: {\n",
    "            'lower': Lower interval values of each parameter,\n",
    "            'upper': Upper interval values of each parameter,\n",
    "            'mean' : Mean of each parameter,\n",
    "            'var'  : Variance of each parameter\n",
    "        }\n",
    "    '''\n",
    "    stats = {}\n",
    "    if dist == 'normal':\n",
    "        L,U = scipy.stats.norm.interval(p,loc=params['mu'], scale=torch.exp(params['logstd']))\n",
    "        M,V = scipy.stats.norm.stats(loc=params['mu'], scale=torch.exp(params['logstd']))\n",
    "    elif dist == 'log-normal':\n",
    "        L,U = scipy.stats.lognorm.interval(p, s=torch.exp(params['logstd']), scale=torch.exp(params['mu']))\n",
    "        M,V = scipy.stats.lognorm.stats(s=torch.exp(params['logstd']), scale=torch.exp(params['mu']))\n",
    "    elif dist == 'beta':\n",
    "        L,U = scipy.stats.beta.interval(p,a=params['alpha'], b=params['beta'])\n",
    "        M,V = scipy.stats.beta.stats(a=params['alpha'], b=params['beta'])\n",
    "    else:\n",
    "        raise TypeError(f'Distribution type {dist} not supported.')\n",
    "    \n",
    "    return {\n",
    "        'lower':[L],\n",
    "        'upper':[U],\n",
    "        'mean':[M],\n",
    "        'var':[V],\n",
    "    }"
   ]
  },
  {
   "cell_type": "code",
   "execution_count": 8,
   "metadata": {},
   "outputs": [],
   "source": [
    "def get_plot_stats(exp_dir, alpha_dist, theta_dist, transforms, p = 0.95):\n",
    "    '''\n",
    "    Method to return plotting statistics for 3 parameter IRT model parameters.\n",
    "    \n",
    "    Args:\n",
    "        exp_dir:          Path to 3 parameter IRT parameters and responses.\n",
    "        alpha_dist:       Name of the item discrimination [a] distribution.\n",
    "        theta_dist:       Name of the responder ability [t] distribution.\n",
    "        transforms:       Dictionary of transformations to apply to each parameter type\n",
    "                          where keys are parameter names and values are functions.\n",
    "        p:                Percent of distribution covered by the lower and upper interval \n",
    "                          values for each parameter.\n",
    "    \n",
    "    Returns:\n",
    "        param_plot_stats: Dictionary of parameter plot statistics where keys are parameter\n",
    "                          names and values are plot statistics dictionaries as defined by\n",
    "                          get_stats_CI().\n",
    "    '''\n",
    "    param_dists = {\n",
    "        'a':alpha_dist,\n",
    "        'b':'normal',\n",
    "        'g':'normal',\n",
    "        't':theta_dist,\n",
    "    }\n",
    "\n",
    "    dist_params = {\n",
    "        'normal':['mu', 'logstd'],\n",
    "        'log-normal':['mu', 'logstd'],\n",
    "        'beta':['alpha', 'beta'],\n",
    "    }\n",
    "\n",
    "    pyro.clear_param_store()\n",
    "    pyro.get_param_store().load(os.path.join(exp_dir, 'params.p'))\n",
    "\n",
    "    with torch.no_grad():\n",
    "        pyro_param_dict = dict(pyro.get_param_store().named_parameters())\n",
    "    \n",
    "    # get stats for plotting\n",
    "    param_plot_stats = {}\n",
    "\n",
    "    for param, param_dist in param_dists.items():\n",
    "        temp_params = dist_params[param_dist]\n",
    "\n",
    "        for idx, (p1_orig, p2_orig) in enumerate(zip(pyro_param_dict[f'{param} {temp_params[0]}'], pyro_param_dict[f'{param} {temp_params[1]}'])):\n",
    "            p1, p2 = p1_orig.detach(), p2_orig.detach()\n",
    "            \n",
    "            temp_stats_df = pd.DataFrame.from_dict(\n",
    "                get_stats_CI(\n",
    "                    params = {\n",
    "                        temp_params[0]:p1,\n",
    "                        temp_params[1]:p2,\n",
    "                    },\n",
    "                    p=p,\n",
    "                    dist = param_dist,\n",
    "                )\n",
    "            )\n",
    "            \n",
    "            temp_stats_df = temp_stats_df.applymap(transforms[param])\n",
    "        \n",
    "            if idx == 0:\n",
    "                param_plot_stats[param] = temp_stats_df\n",
    "            else:\n",
    "                param_plot_stats[param] = param_plot_stats[param].append(temp_stats_df, ignore_index = True)\n",
    "    \n",
    "    return param_plot_stats"
   ]
  },
  {
   "cell_type": "code",
   "execution_count": 9,
   "metadata": {},
   "outputs": [],
   "source": [
    "def sign_mult(df1, df2):\n",
    "    newdf = copy.deepcopy(df2)\n",
    "    \n",
    "    for idx, row in df1.iterrows():\n",
    "        if numpy.sign(row['mean']) < 0:\n",
    "            newdf.loc[idx,'mean'] = -1*newdf.loc[idx,'mean']\n",
    "            newdf.loc[idx,'lower'] = -1*newdf.loc[idx,'upper']\n",
    "            newdf.loc[idx,'upper'] = -1*newdf.loc[idx,'lower']\n",
    "    \n",
    "    return newdf"
   ]
  },
  {
   "cell_type": "code",
   "execution_count": 10,
   "metadata": {},
   "outputs": [],
   "source": [
    "def get_diff_by_set(diffs, item_ids):\n",
    "    diff_by_set = {}\n",
    "    id_split = '_'\n",
    "\n",
    "    max_diff = -1e6\n",
    "    min_diff = 1e6\n",
    "    \n",
    "    for idx, diff in enumerate(diffs):\n",
    "        set_name = item_ids[idx].split(id_split)[0]\n",
    "\n",
    "        if set_name in diff_by_set.keys():\n",
    "            diff_by_set[set_name].append(diff)\n",
    "        else:\n",
    "            diff_by_set[set_name] = [diff]\n",
    "            \n",
    "        if diff < min_diff:\n",
    "            min_diff = diff\n",
    "            \n",
    "        if diff > max_diff:\n",
    "            max_diff = diff\n",
    "    \n",
    "    return diff_by_set, min_diff, max_diff"
   ]
  },
  {
   "cell_type": "markdown",
   "metadata": {},
   "source": [
    "# Get Tasks"
   ]
  },
  {
   "cell_type": "code",
   "execution_count": 11,
   "metadata": {},
   "outputs": [],
   "source": [
    "from multi_virt_v2 import *"
   ]
  },
  {
   "cell_type": "code",
   "execution_count": 12,
   "metadata": {},
   "outputs": [],
   "source": [
    "datasets=\"boolq,cb,commonsenseqa,copa,cosmosqa,hellaswag,rte,snli,wic,qamr,arct,mcscript,mctaco,mutual,mutual-plus,quoref,socialiqa,squad-v2,wsc,mnli,mrqa-nq,newsqa,abductive-nli,arc-easy,arc-challenge,piqa,quail,winogrande,anli\"\n",
    "data_names, responses, n_items = get_files(\n",
    "    os.path.join(repo, 'data'),\n",
    "    \"csv\",\n",
    "    set(datasets.split(','))\n",
    ")"
   ]
  },
  {
   "cell_type": "code",
   "execution_count": 13,
   "metadata": {},
   "outputs": [],
   "source": [
    "task_metadata = pd.read_csv('../irt_scripts/task_metadata.csv')\n",
    "task_metadata.set_index(\"jiant_name\", inplace=True)\n",
    "task_list = [x for x in task_metadata.index if x in data_names]"
   ]
  },
  {
   "cell_type": "code",
   "execution_count": 14,
   "metadata": {},
   "outputs": [],
   "source": [
    "total = 0\n",
    "task_name = []\n",
    "task_format = []\n",
    "\n",
    "for tname, size in zip(data_names, n_items):\n",
    "    name = task_metadata.loc[tname]['taskname']\n",
    "    total += size\n",
    "    task_name += [name for _ in range(size)]\n",
    "    task_format += [task_metadata.loc[tname]['format'] for _ in range(size)]\n",
    "    \n",
    "task_name = pd.DataFrame(task_name, columns=['task_name'])\n",
    "task_format = pd.DataFrame(task_format, columns=['format'])\n",
    "task_name_format = pd.concat([task_name, task_format], axis=1)"
   ]
  },
  {
   "cell_type": "code",
   "execution_count": 15,
   "metadata": {},
   "outputs": [
    {
     "data": {
      "text/plain": [
       "28"
      ]
     },
     "execution_count": 15,
     "metadata": {},
     "output_type": "execute_result"
    }
   ],
   "source": [
    "len(data_names)"
   ]
  },
  {
   "cell_type": "markdown",
   "metadata": {},
   "source": [
    "# Get Params and Order"
   ]
  },
  {
   "cell_type": "code",
   "execution_count": 16,
   "metadata": {},
   "outputs": [],
   "source": [
    "file_name='alpha-lognormal-identity-dim3_theta-normal-identity_nosubsample_1.00_0.20'\n",
    "exp_dir = os.path.join(repo, 'params_mvirt', file_name)\n",
    "p = 0.95\n",
    "\n",
    "combined_responses = pd.read_pickle(os.path.join(exp_dir, 'responses.p')).reset_index()"
   ]
  },
  {
   "cell_type": "code",
   "execution_count": 17,
   "metadata": {},
   "outputs": [
    {
     "name": "stdout",
     "output_type": "stream",
     "text": [
      "roberta-large_best\n",
      "==========================================================================================\n",
      "Overall acc: 0.7521\n",
      "abductive_nli acc: 0.8564\n",
      "arc_challenge acc: 0.3319\n",
      "arc_easy acc: 0.6296\n",
      "arct acc: 0.8604\n",
      "boolq acc: 0.8367\n",
      "cb acc: 0.8571\n",
      "commonsenseqa acc: 0.6759\n",
      "copa acc: 0.8400\n",
      "cosmosqa acc: 0.7984\n",
      "hellaswag acc: 0.8417\n",
      "mcscript acc: 0.9183\n",
      "mctaco acc: 0.5360\n",
      "mnli acc: 0.8991\n",
      "mrqa_natural_questions acc: 0.6941\n",
      "mutual_plus acc: 0.7314\n",
      "mutual acc: 0.8668\n",
      "newsqa acc: 0.5542\n",
      "piqa acc: 0.7617\n",
      "qamr acc: 0.7303\n",
      "quail acc: 0.6691\n",
      "quoref acc: 0.8023\n",
      "rte acc: 0.8345\n",
      "snli acc: 0.9203\n",
      "socialiqa acc: 0.7738\n",
      "squad_v2 acc: 0.4301\n",
      "wic acc: 0.7085\n",
      "winogrande acc: 0.7697\n",
      "wsc acc: 0.6154\n"
     ]
    }
   ],
   "source": [
    "# Check accuracy of roberta-large models\n",
    "extractmodel = 'roberta-large_best'\n",
    "tie_break = 0\n",
    "\n",
    "acc_by_dataset = {}\n",
    "\n",
    "roberta_rp = combined_responses.loc[combined_responses['userid']==extractmodel, :]\n",
    "if roberta_rp.shape[0] > 1:\n",
    "    roberta_rp = roberta_rp.iloc[tie_break, :]\n",
    "\n",
    "cols = combined_responses.columns.values\n",
    "\n",
    "for item in cols[1:]:\n",
    "    data_name = '_'.join(item.split('_')[:-1])\n",
    "    resp = roberta_rp[item].item()\n",
    "    \n",
    "    if data_name in acc_by_dataset:\n",
    "        acc_by_dataset[data_name]['correct'] += resp\n",
    "        acc_by_dataset[data_name]['total'] += 1\n",
    "    else:\n",
    "        acc_by_dataset[data_name] = {'correct': resp, 'total': 1}\n",
    "\n",
    "print(extractmodel)\n",
    "print('='*90)\n",
    "print(f'Overall acc: {roberta_rp.iloc[0, 1:].sum()/(roberta_rp.shape[1]-1):.4f}')        \n",
    "\n",
    "for data_name, acc_dict in acc_by_dataset.items():\n",
    "    print(f'{data_name} acc: {acc_dict[\"correct\"]/acc_dict[\"total\"]:.4f}')"
   ]
  },
  {
   "cell_type": "code",
   "execution_count": 18,
   "metadata": {},
   "outputs": [],
   "source": [
    "# set to False if run for the first time\n",
    "# note that this will take sometimes to run if the datasets are big\n",
    "load_from_cache = True"
   ]
  },
  {
   "cell_type": "code",
   "execution_count": 19,
   "metadata": {},
   "outputs": [],
   "source": [
    "# distribution and transformation\n",
    "alpha_dist = 'log-normal'\n",
    "alpha_transf = 'standard'\n",
    "theta_dist = 'normal'\n",
    "theta_transf = 'standard'\n",
    "\n",
    "exp_dir = os.path.join(repo, 'params_mvirt', file_name)\n",
    "\n",
    "combined_responses = pd.read_pickle(os.path.join(exp_dir, 'responses.p')).reset_index()\n",
    "data, accuracies, example_accuracies = get_data_accuracies(combined_responses)\n",
    "column_names = combined_responses.columns[1:]\n",
    "select_ts = {\n",
    "    'standard':lambda x:x,\n",
    "    'positive':lambda x:torch.log(1+torch.exp(torch.tensor(x))),\n",
    "    'sigmoid':lambda x:sigmoid(torch.tensor(x)),\n",
    "}\n",
    "\n",
    "transforms = {\n",
    "    'a':select_ts[alpha_transf],\n",
    "    'b':select_ts['standard'],\n",
    "    'g':select_ts['sigmoid'],\n",
    "    't':select_ts[theta_transf],\n",
    "}\n",
    "\n",
    "if load_from_cache:\n",
    "    param_plot_stats = {}\n",
    "\n",
    "    for key in transforms.keys():\n",
    "        with open(os.path.join(exp_dir, 'plot_stats_pickles', f'{key}.p'), 'rb') as f:\n",
    "            param_plot_stats[key] = pickle.load(f)\n",
    "else:\n",
    "    param_plot_stats = get_plot_stats(\n",
    "        exp_dir,\n",
    "        alpha_dist,\n",
    "        theta_dist,\n",
    "        transforms,\n",
    "        p = 0.95\n",
    "    )\n",
    "    \n",
    "    os.makedirs(os.path.join(exp_dir, 'plot_stats_pickles'), exist_ok=True)\n",
    "    for key, value in param_plot_stats.items():\n",
    "        with open(os.path.join(exp_dir, 'plot_stats_pickles', f'{key}.p'), 'wb') as f:\n",
    "            pickle.dump(value, f)"
   ]
  },
  {
   "cell_type": "code",
   "execution_count": 20,
   "metadata": {},
   "outputs": [
    {
     "data": {
      "text/html": [
       "<div>\n",
       "<style scoped>\n",
       "    .dataframe tbody tr th:only-of-type {\n",
       "        vertical-align: middle;\n",
       "    }\n",
       "\n",
       "    .dataframe tbody tr th {\n",
       "        vertical-align: top;\n",
       "    }\n",
       "\n",
       "    .dataframe thead th {\n",
       "        text-align: right;\n",
       "    }\n",
       "</style>\n",
       "<table border=\"1\" class=\"dataframe\">\n",
       "  <thead>\n",
       "    <tr style=\"text-align: right;\">\n",
       "      <th></th>\n",
       "      <th>userid</th>\n",
       "      <th>abductive_nli_0</th>\n",
       "      <th>abductive_nli_1</th>\n",
       "      <th>abductive_nli_2</th>\n",
       "      <th>abductive_nli_3</th>\n",
       "      <th>abductive_nli_4</th>\n",
       "      <th>abductive_nli_5</th>\n",
       "      <th>abductive_nli_6</th>\n",
       "      <th>abductive_nli_7</th>\n",
       "      <th>abductive_nli_8</th>\n",
       "      <th>...</th>\n",
       "      <th>wsc_42</th>\n",
       "      <th>wsc_43</th>\n",
       "      <th>wsc_44</th>\n",
       "      <th>wsc_45</th>\n",
       "      <th>wsc_46</th>\n",
       "      <th>wsc_47</th>\n",
       "      <th>wsc_48</th>\n",
       "      <th>wsc_49</th>\n",
       "      <th>wsc_50</th>\n",
       "      <th>wsc_51</th>\n",
       "    </tr>\n",
       "  </thead>\n",
       "  <tbody>\n",
       "    <tr>\n",
       "      <th>0</th>\n",
       "      <td>roberta-base-10M-1_best</td>\n",
       "      <td>1</td>\n",
       "      <td>0</td>\n",
       "      <td>1</td>\n",
       "      <td>1</td>\n",
       "      <td>1</td>\n",
       "      <td>1</td>\n",
       "      <td>1</td>\n",
       "      <td>0</td>\n",
       "      <td>1</td>\n",
       "      <td>...</td>\n",
       "      <td>1</td>\n",
       "      <td>0</td>\n",
       "      <td>1</td>\n",
       "      <td>1</td>\n",
       "      <td>0</td>\n",
       "      <td>1</td>\n",
       "      <td>0</td>\n",
       "      <td>1</td>\n",
       "      <td>0</td>\n",
       "      <td>1</td>\n",
       "    </tr>\n",
       "    <tr>\n",
       "      <th>1</th>\n",
       "      <td>roberta-base-10M-1_1</td>\n",
       "      <td>0</td>\n",
       "      <td>0</td>\n",
       "      <td>0</td>\n",
       "      <td>1</td>\n",
       "      <td>1</td>\n",
       "      <td>0</td>\n",
       "      <td>1</td>\n",
       "      <td>0</td>\n",
       "      <td>1</td>\n",
       "      <td>...</td>\n",
       "      <td>1</td>\n",
       "      <td>0</td>\n",
       "      <td>1</td>\n",
       "      <td>0</td>\n",
       "      <td>0</td>\n",
       "      <td>1</td>\n",
       "      <td>0</td>\n",
       "      <td>0</td>\n",
       "      <td>0</td>\n",
       "      <td>1</td>\n",
       "    </tr>\n",
       "    <tr>\n",
       "      <th>2</th>\n",
       "      <td>roberta-base-10M-1_25</td>\n",
       "      <td>1</td>\n",
       "      <td>1</td>\n",
       "      <td>1</td>\n",
       "      <td>1</td>\n",
       "      <td>1</td>\n",
       "      <td>1</td>\n",
       "      <td>1</td>\n",
       "      <td>1</td>\n",
       "      <td>1</td>\n",
       "      <td>...</td>\n",
       "      <td>0</td>\n",
       "      <td>0</td>\n",
       "      <td>0</td>\n",
       "      <td>1</td>\n",
       "      <td>0</td>\n",
       "      <td>1</td>\n",
       "      <td>1</td>\n",
       "      <td>1</td>\n",
       "      <td>1</td>\n",
       "      <td>1</td>\n",
       "    </tr>\n",
       "    <tr>\n",
       "      <th>3</th>\n",
       "      <td>roberta-base-10M-1_50</td>\n",
       "      <td>1</td>\n",
       "      <td>0</td>\n",
       "      <td>1</td>\n",
       "      <td>1</td>\n",
       "      <td>1</td>\n",
       "      <td>1</td>\n",
       "      <td>1</td>\n",
       "      <td>0</td>\n",
       "      <td>1</td>\n",
       "      <td>...</td>\n",
       "      <td>1</td>\n",
       "      <td>0</td>\n",
       "      <td>0</td>\n",
       "      <td>1</td>\n",
       "      <td>0</td>\n",
       "      <td>1</td>\n",
       "      <td>1</td>\n",
       "      <td>1</td>\n",
       "      <td>0</td>\n",
       "      <td>1</td>\n",
       "    </tr>\n",
       "    <tr>\n",
       "      <th>4</th>\n",
       "      <td>roberta-base-10M-1_10</td>\n",
       "      <td>1</td>\n",
       "      <td>0</td>\n",
       "      <td>1</td>\n",
       "      <td>1</td>\n",
       "      <td>1</td>\n",
       "      <td>1</td>\n",
       "      <td>1</td>\n",
       "      <td>0</td>\n",
       "      <td>1</td>\n",
       "      <td>...</td>\n",
       "      <td>1</td>\n",
       "      <td>0</td>\n",
       "      <td>0</td>\n",
       "      <td>1</td>\n",
       "      <td>0</td>\n",
       "      <td>1</td>\n",
       "      <td>1</td>\n",
       "      <td>1</td>\n",
       "      <td>0</td>\n",
       "      <td>1</td>\n",
       "    </tr>\n",
       "    <tr>\n",
       "      <th>...</th>\n",
       "      <td>...</td>\n",
       "      <td>...</td>\n",
       "      <td>...</td>\n",
       "      <td>...</td>\n",
       "      <td>...</td>\n",
       "      <td>...</td>\n",
       "      <td>...</td>\n",
       "      <td>...</td>\n",
       "      <td>...</td>\n",
       "      <td>...</td>\n",
       "      <td>...</td>\n",
       "      <td>...</td>\n",
       "      <td>...</td>\n",
       "      <td>...</td>\n",
       "      <td>...</td>\n",
       "      <td>...</td>\n",
       "      <td>...</td>\n",
       "      <td>...</td>\n",
       "      <td>...</td>\n",
       "      <td>...</td>\n",
       "      <td>...</td>\n",
       "    </tr>\n",
       "    <tr>\n",
       "      <th>85</th>\n",
       "      <td>xlm-roberta-large_best</td>\n",
       "      <td>1</td>\n",
       "      <td>1</td>\n",
       "      <td>0</td>\n",
       "      <td>1</td>\n",
       "      <td>1</td>\n",
       "      <td>1</td>\n",
       "      <td>1</td>\n",
       "      <td>1</td>\n",
       "      <td>1</td>\n",
       "      <td>...</td>\n",
       "      <td>1</td>\n",
       "      <td>1</td>\n",
       "      <td>0</td>\n",
       "      <td>1</td>\n",
       "      <td>0</td>\n",
       "      <td>1</td>\n",
       "      <td>1</td>\n",
       "      <td>1</td>\n",
       "      <td>0</td>\n",
       "      <td>0</td>\n",
       "    </tr>\n",
       "    <tr>\n",
       "      <th>86</th>\n",
       "      <td>xlm-roberta-large_1</td>\n",
       "      <td>1</td>\n",
       "      <td>1</td>\n",
       "      <td>0</td>\n",
       "      <td>1</td>\n",
       "      <td>1</td>\n",
       "      <td>0</td>\n",
       "      <td>1</td>\n",
       "      <td>0</td>\n",
       "      <td>1</td>\n",
       "      <td>...</td>\n",
       "      <td>0</td>\n",
       "      <td>0</td>\n",
       "      <td>1</td>\n",
       "      <td>0</td>\n",
       "      <td>1</td>\n",
       "      <td>0</td>\n",
       "      <td>0</td>\n",
       "      <td>0</td>\n",
       "      <td>1</td>\n",
       "      <td>1</td>\n",
       "    </tr>\n",
       "    <tr>\n",
       "      <th>87</th>\n",
       "      <td>xlm-roberta-large_25</td>\n",
       "      <td>1</td>\n",
       "      <td>1</td>\n",
       "      <td>0</td>\n",
       "      <td>1</td>\n",
       "      <td>1</td>\n",
       "      <td>1</td>\n",
       "      <td>0</td>\n",
       "      <td>1</td>\n",
       "      <td>1</td>\n",
       "      <td>...</td>\n",
       "      <td>1</td>\n",
       "      <td>1</td>\n",
       "      <td>0</td>\n",
       "      <td>1</td>\n",
       "      <td>0</td>\n",
       "      <td>1</td>\n",
       "      <td>1</td>\n",
       "      <td>1</td>\n",
       "      <td>0</td>\n",
       "      <td>0</td>\n",
       "    </tr>\n",
       "    <tr>\n",
       "      <th>88</th>\n",
       "      <td>xlm-roberta-large_50</td>\n",
       "      <td>1</td>\n",
       "      <td>1</td>\n",
       "      <td>1</td>\n",
       "      <td>1</td>\n",
       "      <td>1</td>\n",
       "      <td>1</td>\n",
       "      <td>1</td>\n",
       "      <td>1</td>\n",
       "      <td>1</td>\n",
       "      <td>...</td>\n",
       "      <td>1</td>\n",
       "      <td>1</td>\n",
       "      <td>0</td>\n",
       "      <td>1</td>\n",
       "      <td>0</td>\n",
       "      <td>1</td>\n",
       "      <td>1</td>\n",
       "      <td>1</td>\n",
       "      <td>0</td>\n",
       "      <td>0</td>\n",
       "    </tr>\n",
       "    <tr>\n",
       "      <th>89</th>\n",
       "      <td>xlm-roberta-large_10</td>\n",
       "      <td>0</td>\n",
       "      <td>1</td>\n",
       "      <td>0</td>\n",
       "      <td>1</td>\n",
       "      <td>1</td>\n",
       "      <td>0</td>\n",
       "      <td>0</td>\n",
       "      <td>1</td>\n",
       "      <td>1</td>\n",
       "      <td>...</td>\n",
       "      <td>0</td>\n",
       "      <td>0</td>\n",
       "      <td>1</td>\n",
       "      <td>0</td>\n",
       "      <td>1</td>\n",
       "      <td>0</td>\n",
       "      <td>0</td>\n",
       "      <td>0</td>\n",
       "      <td>1</td>\n",
       "      <td>1</td>\n",
       "    </tr>\n",
       "  </tbody>\n",
       "</table>\n",
       "<p>90 rows × 79034 columns</p>\n",
       "</div>"
      ],
      "text/plain": [
       "                     userid  abductive_nli_0  abductive_nli_1  \\\n",
       "0   roberta-base-10M-1_best                1                0   \n",
       "1      roberta-base-10M-1_1                0                0   \n",
       "2     roberta-base-10M-1_25                1                1   \n",
       "3     roberta-base-10M-1_50                1                0   \n",
       "4     roberta-base-10M-1_10                1                0   \n",
       "..                      ...              ...              ...   \n",
       "85   xlm-roberta-large_best                1                1   \n",
       "86      xlm-roberta-large_1                1                1   \n",
       "87     xlm-roberta-large_25                1                1   \n",
       "88     xlm-roberta-large_50                1                1   \n",
       "89     xlm-roberta-large_10                0                1   \n",
       "\n",
       "    abductive_nli_2  abductive_nli_3  abductive_nli_4  abductive_nli_5  \\\n",
       "0                 1                1                1                1   \n",
       "1                 0                1                1                0   \n",
       "2                 1                1                1                1   \n",
       "3                 1                1                1                1   \n",
       "4                 1                1                1                1   \n",
       "..              ...              ...              ...              ...   \n",
       "85                0                1                1                1   \n",
       "86                0                1                1                0   \n",
       "87                0                1                1                1   \n",
       "88                1                1                1                1   \n",
       "89                0                1                1                0   \n",
       "\n",
       "    abductive_nli_6  abductive_nli_7  abductive_nli_8  ...  wsc_42  wsc_43  \\\n",
       "0                 1                0                1  ...       1       0   \n",
       "1                 1                0                1  ...       1       0   \n",
       "2                 1                1                1  ...       0       0   \n",
       "3                 1                0                1  ...       1       0   \n",
       "4                 1                0                1  ...       1       0   \n",
       "..              ...              ...              ...  ...     ...     ...   \n",
       "85                1                1                1  ...       1       1   \n",
       "86                1                0                1  ...       0       0   \n",
       "87                0                1                1  ...       1       1   \n",
       "88                1                1                1  ...       1       1   \n",
       "89                0                1                1  ...       0       0   \n",
       "\n",
       "    wsc_44  wsc_45  wsc_46  wsc_47  wsc_48  wsc_49  wsc_50  wsc_51  \n",
       "0        1       1       0       1       0       1       0       1  \n",
       "1        1       0       0       1       0       0       0       1  \n",
       "2        0       1       0       1       1       1       1       1  \n",
       "3        0       1       0       1       1       1       0       1  \n",
       "4        0       1       0       1       1       1       0       1  \n",
       "..     ...     ...     ...     ...     ...     ...     ...     ...  \n",
       "85       0       1       0       1       1       1       0       0  \n",
       "86       1       0       1       0       0       0       1       1  \n",
       "87       0       1       0       1       1       1       0       0  \n",
       "88       0       1       0       1       1       1       0       0  \n",
       "89       1       0       1       0       0       0       1       1  \n",
       "\n",
       "[90 rows x 79034 columns]"
      ]
     },
     "execution_count": 20,
     "metadata": {},
     "output_type": "execute_result"
    }
   ],
   "source": [
    "combined_responses"
   ]
  },
  {
   "cell_type": "code",
   "execution_count": 21,
   "metadata": {},
   "outputs": [],
   "source": [
    "model_names = []\n",
    "model_levels = []\n",
    "for m in combined_responses['userid']:\n",
    "    mname = m.split('_')[0]\n",
    "    mlevel = m.split('_')[-1]\n",
    "    if mname.endswith('-1') or mname.endswith('-2') or mname.endswith('-3'):\n",
    "        mname = mname[:-2]\n",
    "    model_names.append(mname)\n",
    "    \n",
    "    mlevel_append = '' if mlevel == 'best' else r'%'\n",
    "    model_levels.append(mlevel+mlevel_append)"
   ]
  },
  {
   "cell_type": "code",
   "execution_count": 30,
   "metadata": {},
   "outputs": [
    {
     "name": "stdout",
     "output_type": "stream",
     "text": [
      "a 0\n",
      "b 0\n",
      "g 0\n",
      "t 0\n"
     ]
    }
   ],
   "source": [
    "#  we will only use log mean for discriminative parameter\n",
    "for param_key, param_stat in param_plot_stats.items():\n",
    "    param_stat['log_mean'] = param_stat['mean'].apply(lambda x: numpy.log(x))\n",
    "    \n",
    "    if param_key in ['a', 't', 'b']:\n",
    "        dimensions =  param_stat['log_mean'][0].shape[0]\n",
    "        for dim in range(dimensions):\n",
    "            param_stat['log_mean_'+str(dim)]= param_stat['log_mean'].apply(lambda x: x[dim])\n",
    "            param_stat['mean_'+str(dim)]= param_stat['mean'].apply(lambda x: x[dim])\n",
    "        \n",
    "    print(param_key, param_stat['log_mean'].isnull().sum())"
   ]
  },
  {
   "cell_type": "code",
   "execution_count": 31,
   "metadata": {},
   "outputs": [],
   "source": [
    "param_a = pd.concat([param_plot_stats['a'], task_name_format], axis=1)\n",
    "param_b = pd.concat([param_plot_stats['b'], task_name_format], axis=1)\n",
    "\n",
    "task_order = [task_metadata.loc[x]['taskname'] for x in task_list]"
   ]
  },
  {
   "cell_type": "code",
   "execution_count": 32,
   "metadata": {},
   "outputs": [
    {
     "data": {
      "text/plain": [
       "array([-0.00951589,  0.03023954,  0.07342558])"
      ]
     },
     "execution_count": 32,
     "metadata": {},
     "output_type": "execute_result"
    }
   ],
   "source": [
    "param_plot_stats['a']['log_mean'][0]"
   ]
  },
  {
   "cell_type": "code",
   "execution_count": 34,
   "metadata": {},
   "outputs": [
    {
     "data": {
      "text/html": [
       "<div>\n",
       "<style scoped>\n",
       "    .dataframe tbody tr th:only-of-type {\n",
       "        vertical-align: middle;\n",
       "    }\n",
       "\n",
       "    .dataframe tbody tr th {\n",
       "        vertical-align: top;\n",
       "    }\n",
       "\n",
       "    .dataframe thead th {\n",
       "        text-align: right;\n",
       "    }\n",
       "</style>\n",
       "<table border=\"1\" class=\"dataframe\">\n",
       "  <thead>\n",
       "    <tr style=\"text-align: right;\">\n",
       "      <th></th>\n",
       "      <th>lower</th>\n",
       "      <th>upper</th>\n",
       "      <th>mean</th>\n",
       "      <th>var</th>\n",
       "      <th>log_mean</th>\n",
       "      <th>log_mean_0</th>\n",
       "      <th>mean_0</th>\n",
       "      <th>log_mean_1</th>\n",
       "      <th>mean_1</th>\n",
       "      <th>log_mean_2</th>\n",
       "      <th>mean_2</th>\n",
       "    </tr>\n",
       "  </thead>\n",
       "  <tbody>\n",
       "    <tr>\n",
       "      <th>0</th>\n",
       "      <td>[-1.442148606546365, -1.7268539335048176, -1.0...</td>\n",
       "      <td>[1.1482866809444057, 1.6715730841672398, 0.715...</td>\n",
       "      <td>[-0.14693096280097961, -0.02764042466878891, -...</td>\n",
       "      <td>[0.43670615553855896, 0.7516224384307861, 0.19...</td>\n",
       "      <td>[nan, nan, nan]</td>\n",
       "      <td>NaN</td>\n",
       "      <td>-0.146931</td>\n",
       "      <td>NaN</td>\n",
       "      <td>-0.027640</td>\n",
       "      <td>NaN</td>\n",
       "      <td>-0.144212</td>\n",
       "    </tr>\n",
       "    <tr>\n",
       "      <th>1</th>\n",
       "      <td>[-2.357598511022056, -2.5945949808610234, -2.5...</td>\n",
       "      <td>[0.38045987252565694, 0.3165095106614382, 0.20...</td>\n",
       "      <td>[-0.9885693192481995, -1.1390427350997925, -1....</td>\n",
       "      <td>[0.48789823055267334, 0.5515176653862, 0.49179...</td>\n",
       "      <td>[nan, nan, nan]</td>\n",
       "      <td>NaN</td>\n",
       "      <td>-0.988569</td>\n",
       "      <td>NaN</td>\n",
       "      <td>-1.139043</td>\n",
       "      <td>NaN</td>\n",
       "      <td>-1.167357</td>\n",
       "    </tr>\n",
       "    <tr>\n",
       "      <th>2</th>\n",
       "      <td>[-0.9174365772970607, -1.242486372299513, -1.7...</td>\n",
       "      <td>[1.192494906402438, 0.9288059023097364, 1.2459...</td>\n",
       "      <td>[0.1375291645526886, -0.1568402349948883, -0.2...</td>\n",
       "      <td>[0.28972136974334717, 0.3068176805973053, 0.58...</td>\n",
       "      <td>[-1.9839192785290387, nan, nan]</td>\n",
       "      <td>-1.983919</td>\n",
       "      <td>0.137529</td>\n",
       "      <td>NaN</td>\n",
       "      <td>-0.156840</td>\n",
       "      <td>NaN</td>\n",
       "      <td>-0.254278</td>\n",
       "    </tr>\n",
       "    <tr>\n",
       "      <th>3</th>\n",
       "      <td>[-1.2110584852718678, -1.6518333638367848, -1....</td>\n",
       "      <td>[0.983906793358263, 0.7339577758965687, 0.6595...</td>\n",
       "      <td>[-0.11357584595680237, -0.45893779397010803, -...</td>\n",
       "      <td>[0.31354445219039917, 0.37043213844299316, 0.3...</td>\n",
       "      <td>[nan, nan, nan]</td>\n",
       "      <td>NaN</td>\n",
       "      <td>-0.113576</td>\n",
       "      <td>NaN</td>\n",
       "      <td>-0.458938</td>\n",
       "      <td>NaN</td>\n",
       "      <td>-0.417190</td>\n",
       "    </tr>\n",
       "    <tr>\n",
       "      <th>4</th>\n",
       "      <td>[-2.1191745897778382, -1.5956859827241952, -1....</td>\n",
       "      <td>[1.4682521125325072, 1.1102622091970498, 0.992...</td>\n",
       "      <td>[-0.3254612386226654, -0.2427118867635727, -0....</td>\n",
       "      <td>[0.8375483751296997, 0.4765218198299408, 0.564...</td>\n",
       "      <td>[nan, nan, nan]</td>\n",
       "      <td>NaN</td>\n",
       "      <td>-0.325461</td>\n",
       "      <td>NaN</td>\n",
       "      <td>-0.242712</td>\n",
       "      <td>NaN</td>\n",
       "      <td>-0.480240</td>\n",
       "    </tr>\n",
       "    <tr>\n",
       "      <th>...</th>\n",
       "      <td>...</td>\n",
       "      <td>...</td>\n",
       "      <td>...</td>\n",
       "      <td>...</td>\n",
       "      <td>...</td>\n",
       "      <td>...</td>\n",
       "      <td>...</td>\n",
       "      <td>...</td>\n",
       "      <td>...</td>\n",
       "      <td>...</td>\n",
       "      <td>...</td>\n",
       "    </tr>\n",
       "    <tr>\n",
       "      <th>85</th>\n",
       "      <td>[-1.1783743309990695, -1.5428807687355954, -1....</td>\n",
       "      <td>[2.117602925302201, 2.2496449899270017, 1.7660...</td>\n",
       "      <td>[0.46961429715156555, 0.3533821105957031, 0.37...</td>\n",
       "      <td>[0.7069883346557617, 0.936053991317749, 0.5021...</td>\n",
       "      <td>[-0.7558435655493219, -1.0402053412162369, -0....</td>\n",
       "      <td>-0.755844</td>\n",
       "      <td>0.469614</td>\n",
       "      <td>-1.040205</td>\n",
       "      <td>0.353382</td>\n",
       "      <td>-0.974983</td>\n",
       "      <td>0.377199</td>\n",
       "    </tr>\n",
       "    <tr>\n",
       "      <th>86</th>\n",
       "      <td>[-2.6400108241973657, -2.2896078091174914, -2....</td>\n",
       "      <td>[0.30422162055356705, 0.5832053881198715, 0.91...</td>\n",
       "      <td>[-1.1678946018218994, -0.8532012104988098, -0....</td>\n",
       "      <td>[0.5641414523124695, 0.5371042490005493, 0.929...</td>\n",
       "      <td>[nan, nan, nan]</td>\n",
       "      <td>NaN</td>\n",
       "      <td>-1.167895</td>\n",
       "      <td>NaN</td>\n",
       "      <td>-0.853201</td>\n",
       "      <td>NaN</td>\n",
       "      <td>-0.978130</td>\n",
       "    </tr>\n",
       "    <tr>\n",
       "      <th>87</th>\n",
       "      <td>[-1.6181951851560215, -1.7749836801764172, -1....</td>\n",
       "      <td>[1.4899627656652072, 1.6650538056370419, 1.265...</td>\n",
       "      <td>[-0.0641162097454071, -0.05496493726968765, 0....</td>\n",
       "      <td>[0.6287094354629517, 0.7701408863067627, 0.381...</td>\n",
       "      <td>[nan, nan, -2.9092914732792736]</td>\n",
       "      <td>NaN</td>\n",
       "      <td>-0.064116</td>\n",
       "      <td>NaN</td>\n",
       "      <td>-0.054965</td>\n",
       "      <td>-2.909291</td>\n",
       "      <td>0.054514</td>\n",
       "    </tr>\n",
       "    <tr>\n",
       "      <th>88</th>\n",
       "      <td>[-0.9851609115381976, -1.1955144114032166, -1....</td>\n",
       "      <td>[1.1744053755780002, 1.8110531277194397, 1.344...</td>\n",
       "      <td>[0.09462223201990128, 0.3077693581581116, 0.12...</td>\n",
       "      <td>[0.30351272225379944, 0.5882822871208191, 0.38...</td>\n",
       "      <td>[-2.357862819753815, -1.1784046136761395, -2.0...</td>\n",
       "      <td>-2.357863</td>\n",
       "      <td>0.094622</td>\n",
       "      <td>-1.178405</td>\n",
       "      <td>0.307769</td>\n",
       "      <td>-2.091735</td>\n",
       "      <td>0.123473</td>\n",
       "    </tr>\n",
       "    <tr>\n",
       "      <th>89</th>\n",
       "      <td>[-2.0744310609229206, -1.2035227519277476, -2....</td>\n",
       "      <td>[1.9690628863103985, 1.2070248079303645, 2.004...</td>\n",
       "      <td>[-0.05268408730626106, 0.0017510280013084412, ...</td>\n",
       "      <td>[1.064038634300232, 0.37815970182418823, 1.134...</td>\n",
       "      <td>[nan, -6.347552234196669, nan]</td>\n",
       "      <td>NaN</td>\n",
       "      <td>-0.052684</td>\n",
       "      <td>-6.347552</td>\n",
       "      <td>0.001751</td>\n",
       "      <td>NaN</td>\n",
       "      <td>-0.083461</td>\n",
       "    </tr>\n",
       "  </tbody>\n",
       "</table>\n",
       "<p>90 rows × 11 columns</p>\n",
       "</div>"
      ],
      "text/plain": [
       "                                                lower  \\\n",
       "0   [-1.442148606546365, -1.7268539335048176, -1.0...   \n",
       "1   [-2.357598511022056, -2.5945949808610234, -2.5...   \n",
       "2   [-0.9174365772970607, -1.242486372299513, -1.7...   \n",
       "3   [-1.2110584852718678, -1.6518333638367848, -1....   \n",
       "4   [-2.1191745897778382, -1.5956859827241952, -1....   \n",
       "..                                                ...   \n",
       "85  [-1.1783743309990695, -1.5428807687355954, -1....   \n",
       "86  [-2.6400108241973657, -2.2896078091174914, -2....   \n",
       "87  [-1.6181951851560215, -1.7749836801764172, -1....   \n",
       "88  [-0.9851609115381976, -1.1955144114032166, -1....   \n",
       "89  [-2.0744310609229206, -1.2035227519277476, -2....   \n",
       "\n",
       "                                                upper  \\\n",
       "0   [1.1482866809444057, 1.6715730841672398, 0.715...   \n",
       "1   [0.38045987252565694, 0.3165095106614382, 0.20...   \n",
       "2   [1.192494906402438, 0.9288059023097364, 1.2459...   \n",
       "3   [0.983906793358263, 0.7339577758965687, 0.6595...   \n",
       "4   [1.4682521125325072, 1.1102622091970498, 0.992...   \n",
       "..                                                ...   \n",
       "85  [2.117602925302201, 2.2496449899270017, 1.7660...   \n",
       "86  [0.30422162055356705, 0.5832053881198715, 0.91...   \n",
       "87  [1.4899627656652072, 1.6650538056370419, 1.265...   \n",
       "88  [1.1744053755780002, 1.8110531277194397, 1.344...   \n",
       "89  [1.9690628863103985, 1.2070248079303645, 2.004...   \n",
       "\n",
       "                                                 mean  \\\n",
       "0   [-0.14693096280097961, -0.02764042466878891, -...   \n",
       "1   [-0.9885693192481995, -1.1390427350997925, -1....   \n",
       "2   [0.1375291645526886, -0.1568402349948883, -0.2...   \n",
       "3   [-0.11357584595680237, -0.45893779397010803, -...   \n",
       "4   [-0.3254612386226654, -0.2427118867635727, -0....   \n",
       "..                                                ...   \n",
       "85  [0.46961429715156555, 0.3533821105957031, 0.37...   \n",
       "86  [-1.1678946018218994, -0.8532012104988098, -0....   \n",
       "87  [-0.0641162097454071, -0.05496493726968765, 0....   \n",
       "88  [0.09462223201990128, 0.3077693581581116, 0.12...   \n",
       "89  [-0.05268408730626106, 0.0017510280013084412, ...   \n",
       "\n",
       "                                                  var  \\\n",
       "0   [0.43670615553855896, 0.7516224384307861, 0.19...   \n",
       "1   [0.48789823055267334, 0.5515176653862, 0.49179...   \n",
       "2   [0.28972136974334717, 0.3068176805973053, 0.58...   \n",
       "3   [0.31354445219039917, 0.37043213844299316, 0.3...   \n",
       "4   [0.8375483751296997, 0.4765218198299408, 0.564...   \n",
       "..                                                ...   \n",
       "85  [0.7069883346557617, 0.936053991317749, 0.5021...   \n",
       "86  [0.5641414523124695, 0.5371042490005493, 0.929...   \n",
       "87  [0.6287094354629517, 0.7701408863067627, 0.381...   \n",
       "88  [0.30351272225379944, 0.5882822871208191, 0.38...   \n",
       "89  [1.064038634300232, 0.37815970182418823, 1.134...   \n",
       "\n",
       "                                             log_mean  log_mean_0    mean_0  \\\n",
       "0                                     [nan, nan, nan]         NaN -0.146931   \n",
       "1                                     [nan, nan, nan]         NaN -0.988569   \n",
       "2                     [-1.9839192785290387, nan, nan]   -1.983919  0.137529   \n",
       "3                                     [nan, nan, nan]         NaN -0.113576   \n",
       "4                                     [nan, nan, nan]         NaN -0.325461   \n",
       "..                                                ...         ...       ...   \n",
       "85  [-0.7558435655493219, -1.0402053412162369, -0....   -0.755844  0.469614   \n",
       "86                                    [nan, nan, nan]         NaN -1.167895   \n",
       "87                    [nan, nan, -2.9092914732792736]         NaN -0.064116   \n",
       "88  [-2.357862819753815, -1.1784046136761395, -2.0...   -2.357863  0.094622   \n",
       "89                     [nan, -6.347552234196669, nan]         NaN -0.052684   \n",
       "\n",
       "    log_mean_1    mean_1  log_mean_2    mean_2  \n",
       "0          NaN -0.027640         NaN -0.144212  \n",
       "1          NaN -1.139043         NaN -1.167357  \n",
       "2          NaN -0.156840         NaN -0.254278  \n",
       "3          NaN -0.458938         NaN -0.417190  \n",
       "4          NaN -0.242712         NaN -0.480240  \n",
       "..         ...       ...         ...       ...  \n",
       "85   -1.040205  0.353382   -0.974983  0.377199  \n",
       "86         NaN -0.853201         NaN -0.978130  \n",
       "87         NaN -0.054965   -2.909291  0.054514  \n",
       "88   -1.178405  0.307769   -2.091735  0.123473  \n",
       "89   -6.347552  0.001751         NaN -0.083461  \n",
       "\n",
       "[90 rows x 11 columns]"
      ]
     },
     "execution_count": 34,
     "metadata": {},
     "output_type": "execute_result"
    }
   ],
   "source": [
    "param_plot_stats['t']"
   ]
  },
  {
   "cell_type": "code",
   "execution_count": 35,
   "metadata": {},
   "outputs": [
    {
     "data": {
      "text/plain": [
       "array([0.92876601, 0.85530853, 0.95257145])"
      ]
     },
     "execution_count": 35,
     "metadata": {},
     "output_type": "execute_result"
    }
   ],
   "source": [
    "param_plot_stats['b']['mean'][0]"
   ]
  },
  {
   "cell_type": "code",
   "execution_count": 36,
   "metadata": {},
   "outputs": [],
   "source": [
    "def icc_best_deriv(alpha, beta, theta, model_names, gamma=None, col='mean'):\n",
    "    '''\n",
    "    Method to calculate the locally estimated headroom (LEH) score, defined as\n",
    "    the derivative of the item characteristic curve w.r.t. the best performing model.\n",
    "    \n",
    "    Args:\n",
    "        alpha:       DataFrame of discrimination parameter statistics for each item.\n",
    "        beta:        DataFrame of difficulty parameter statistics for each item.\n",
    "        theta:       DataFrame of ability parameter statistics for each responder.\n",
    "        model_names: List of responder names.\n",
    "        gamma:       DataFrame of guessing parameter statistics for each item.\n",
    "        col:         DataFrame column name to use for calculating LEH scores.\n",
    "    \n",
    "    Returns:\n",
    "        scores:      LEH scores for each item.    \n",
    "    '''\n",
    "    best_idx, best_value = theta[col].argmax(), theta[col].max()\n",
    "    print(f'Best model: {model_names[best_idx]}\\n{best_value}')\n",
    "    \n",
    "    a, b = torch.tensor(alpha[col]), torch.tensor(beta[col])\n",
    "    \n",
    "    logits = (a*(best_value-b))\n",
    "    sigmoids = sigmoid(logits)\n",
    "    scores = (sigmoids*(1.-sigmoids)).unsqueeze(1) * a\n",
    "    \n",
    "    print(f'No gamma: {scores.mean()}')\n",
    "    if not gamma is None:\n",
    "        g = torch.tensor(gamma[col].apply(lambda x: x.item()).values)\n",
    "        scores = (1.-g).unsqueeze(1) *scores\n",
    "        print(f'With gamma: {scores.mean()}')\n",
    "    \n",
    "    return scores      "
   ]
  },
  {
   "cell_type": "code",
   "execution_count": 37,
   "metadata": {},
   "outputs": [
    {
     "data": {
      "text/plain": [
       "\"\\nleh_scores = icc_best_deriv(\\n    param_plot_stats['a'],\\n    param_plot_stats['b'],\\n    param_plot_stats['t'],\\n    model_names,\\n    gamma = param_plot_stats['g'],\\n)\\nleh_scores_plot = pd.DataFrame(pd.Series(leh_scores), columns = ['mean'])\\nprint(leh_scores_plot)\\n\""
      ]
     },
     "execution_count": 37,
     "metadata": {},
     "output_type": "execute_result"
    }
   ],
   "source": [
    "'''\n",
    "leh_scores = icc_best_deriv(\n",
    "    param_plot_stats['a'],\n",
    "    param_plot_stats['b'],\n",
    "    param_plot_stats['t'],\n",
    "    model_names,\n",
    "    gamma = param_plot_stats['g'],\n",
    ")\n",
    "leh_scores_plot = pd.DataFrame(pd.Series(leh_scores), columns = ['mean'])\n",
    "print(leh_scores_plot)\n",
    "'''"
   ]
  },
  {
   "cell_type": "code",
   "execution_count": 38,
   "metadata": {
    "scrolled": true
   },
   "outputs": [],
   "source": [
    "#leh_scores_plot = pd.concat([leh_scores_plot, task_name_format], axis=1)"
   ]
  },
  {
   "cell_type": "code",
   "execution_count": null,
   "metadata": {
    "scrolled": true
   },
   "outputs": [],
   "source": []
  },
  {
   "cell_type": "markdown",
   "metadata": {},
   "source": [
    "# Plots\n",
    "\n",
    "- Distribution: log_normal\n",
    "- Constraint: None"
   ]
  },
  {
   "cell_type": "code",
   "execution_count": 39,
   "metadata": {},
   "outputs": [],
   "source": [
    "task_metadata.set_index(\"taskname\", inplace=True)"
   ]
  },
  {
   "cell_type": "markdown",
   "metadata": {},
   "source": [
    "## Set fonts"
   ]
  },
  {
   "cell_type": "code",
   "execution_count": 40,
   "metadata": {},
   "outputs": [],
   "source": [
    "font_label = 12\n",
    "font_legend = 10\n",
    "font_legendtitle = font_legend + 4\n",
    "font_xtick = 12\n",
    "font_title = 14\n",
    "marker_scale = 1.5\n",
    "\n",
    "plot.rc('axes', labelsize=font_label)\n",
    "plot.rc('axes', titlesize=font_title)\n",
    "plot.rc('legend', fontsize=font_legend)"
   ]
  },
  {
   "cell_type": "markdown",
   "metadata": {},
   "source": [
    "## Plot"
   ]
  },
  {
   "cell_type": "code",
   "execution_count": 41,
   "metadata": {},
   "outputs": [],
   "source": [
    "def plot_box(df, order, param_type, task_metadata, dim = 0, xsize=12, ysize=3.5, width=0.6, rotation=65, ylim=None, ystep=None):\n",
    "    \n",
    "    param2label = {\n",
    "        'discriminative':r'$\\log$ Discrimination ($\\log$ $\\alpha$)-Dim'+str(dim),\n",
    "        'difficulty': r'Difficulty ($\\beta$)-Dim'+str(dim),\n",
    "        \"disc-diff\": \"IRT Score\", # \"discrimination - difficulty product\\n\", # + r\"($ n(\\alpha) x n(\\beta$) )\"\n",
    "        \"disc-diff_pos\": \"IRT Score\", # \"discrimination - difficulty product\\n\", # + r\"($ n(\\alpha) x n(\\beta$) )\"\n",
    "        \"disc-diff_minmax\": \"IRT Score\", # \"discrimination - difficulty product\\n\", # + r\"($ n(\\alpha) x n(\\beta$) )\"\n",
    "        \"irt-score\": \"LEH Score\",\n",
    "    }\n",
    "    \n",
    "    \n",
    "    \n",
    "    if dim is None:\n",
    "        param2yname = {\n",
    "            'discriminative': \"log_mean\",\n",
    "            'difficulty': \"mean\",\n",
    "            \"disc-diff\": 0,\n",
    "            \"disc-diff_pos\": 0,\n",
    "            \"disc-diff_minmax\": 0,\n",
    "            \"irt-score\": \"mean\",\n",
    "        }\n",
    "    else:\n",
    "        param2yname = {\n",
    "            'discriminative': \"log_mean_\"+str(dim),\n",
    "            'difficulty': \"mean_\"+str(dim),\n",
    "            \"disc-diff\": 0,\n",
    "            \"disc-diff_pos\": 0,\n",
    "            \"disc-diff_minmax\": 0,\n",
    "            \"irt-score\": \"mean\",\n",
    "        }\n",
    "    \n",
    "    sns.set_style(\"whitegrid\")\n",
    "    sns.set_context(\"paper\")\n",
    "    f, ax = plot.subplots(figsize=(xsize, ysize))\n",
    "    \n",
    "    my_pal = {\"MC-par\": \"r\",\n",
    "              \"MC-sent\": \"b\",\n",
    "              \"classification\":\"g\",\n",
    "              \"span selection\": \"grey\"}    \n",
    "    \n",
    "    ax = sns.boxplot(x=\"task_name\", y=param2yname[param_type], data=df, order=order, width=width)\n",
    "    \n",
    "    \n",
    "    \n",
    "    for i, task in enumerate(order):\n",
    "        # Select which box you want to change    \n",
    "        mybox = ax.artists[i]\n",
    "        \n",
    "        # Change the appearance of that box\n",
    "        skill = task_metadata.loc[task]['format']\n",
    "        mybox.set_facecolor(my_pal[skill])\n",
    "    \n",
    "    \n",
    "    # Add transparency to colors\n",
    "    for patch in ax.artists:\n",
    "         r, g, b, a = patch.get_facecolor()\n",
    "         patch.set_facecolor((r, g, b, .6))\n",
    "\n",
    "    sns.despine()\n",
    "    plot.xticks(range(len(order)), order, rotation=rotation, fontsize=font_xtick)\n",
    "    \n",
    "    if not ylim is None and not ystep is None:\n",
    "        plot.ylim(ylim)\n",
    "        plot.yticks(numpy.arange(ylim[0], ylim[1]+ystep, ystep))\n",
    "    \n",
    "    plot.xlabel(None)\n",
    "    plot.ylabel(param2label[param_type], fontsize=font_label)\n",
    "    \n",
    "    plot.savefig('../plots/' + param_type + \"_box.png\",\n",
    "                format='png', dpi=300,\n",
    "                bbox_inches = 'tight',\n",
    "                pad_inches = .1)"
   ]
  },
  {
   "cell_type": "code",
   "execution_count": 42,
   "metadata": {
    "scrolled": false
   },
   "outputs": [
    {
     "data": {
      "application/vnd.jupyter.widget-view+json": {
       "model_id": "a567d4e534244fe4a8954941a6266d90",
       "version_major": 2,
       "version_minor": 0
      },
      "text/plain": [
       "Canvas(toolbar=Toolbar(toolitems=[('Home', 'Reset original view', 'home', 'home'), ('Back', 'Back to previous …"
      ]
     },
     "metadata": {},
     "output_type": "display_data"
    }
   ],
   "source": [
    "plot_box(\n",
    "    param_a,\n",
    "    task_order,\n",
    "    \"discriminative\",\n",
    "    task_metadata\n",
    ")"
   ]
  },
  {
   "cell_type": "code",
   "execution_count": 43,
   "metadata": {},
   "outputs": [
    {
     "data": {
      "application/vnd.jupyter.widget-view+json": {
       "model_id": "cd1e02fb7c0a456faf2b982d7abdbb83",
       "version_major": 2,
       "version_minor": 0
      },
      "text/plain": [
       "Canvas(toolbar=Toolbar(toolitems=[('Home', 'Reset original view', 'home', 'home'), ('Back', 'Back to previous …"
      ]
     },
     "metadata": {},
     "output_type": "display_data"
    }
   ],
   "source": [
    "plot_box(\n",
    "    param_a,\n",
    "    task_order,\n",
    "    \"discriminative\",\n",
    "    task_metadata,\n",
    "    1\n",
    ")"
   ]
  },
  {
   "cell_type": "code",
   "execution_count": 44,
   "metadata": {},
   "outputs": [
    {
     "data": {
      "application/vnd.jupyter.widget-view+json": {
       "model_id": "fb9eeb9d2f0a4bcf90a530d021f5de36",
       "version_major": 2,
       "version_minor": 0
      },
      "text/plain": [
       "Canvas(toolbar=Toolbar(toolitems=[('Home', 'Reset original view', 'home', 'home'), ('Back', 'Back to previous …"
      ]
     },
     "metadata": {},
     "output_type": "display_data"
    }
   ],
   "source": [
    "plot_box(\n",
    "    param_a,\n",
    "    task_order,\n",
    "    \"discriminative\",\n",
    "    task_metadata,\n",
    "    2\n",
    ")"
   ]
  },
  {
   "cell_type": "code",
   "execution_count": 45,
   "metadata": {},
   "outputs": [
    {
     "data": {
      "text/plain": [
       "(79033, 2)"
      ]
     },
     "execution_count": 45,
     "metadata": {},
     "output_type": "execute_result"
    }
   ],
   "source": [
    "alpha_arr = np.vstack(param_a['log_mean'])\n",
    "ica = FastICA(n_components=2, random_state=0)\n",
    "S_alpha_ = ica.fit_transform(alpha_arr)  # Reconstruct signals\n",
    "A_alpha_ = ica.mixing_  # Get estimated mixing \n",
    "S_alpha_.shape"
   ]
  },
  {
   "cell_type": "code",
   "execution_count": 46,
   "metadata": {},
   "outputs": [],
   "source": [
    "param_a_ica = param_a.copy()\n",
    "alpha_arr = np.vstack(param_a_ica['log_mean'])"
   ]
  },
  {
   "cell_type": "code",
   "execution_count": 47,
   "metadata": {},
   "outputs": [
    {
     "data": {
      "text/plain": [
       "0        [-0.009515893665189453, 0.03023954024362936, 0...\n",
       "1        [-0.1513421920939463, 0.18606777582159761, 0.0...\n",
       "2        [-0.014001359841734198, -0.08325552196657199, ...\n",
       "3        [-0.03889330837442285, 0.13329149986081698, 0....\n",
       "4        [0.09827703336900333, 0.08355058098296675, -0....\n",
       "                               ...                        \n",
       "79028    [-0.05183591913926985, -0.07838336067062691, 0...\n",
       "79029    [-0.08501122609610069, -0.11224314457738692, 0...\n",
       "79030    [-0.0015630414200946258, -0.06388216360960638,...\n",
       "79031    [-0.03182185703978923, 0.21183932087775573, 0....\n",
       "79032    [0.061542532675543424, -0.0005882920398324119,...\n",
       "Name: log_mean, Length: 79033, dtype: object"
      ]
     },
     "execution_count": 47,
     "metadata": {},
     "output_type": "execute_result"
    }
   ],
   "source": [
    "param_a_ica['log_mean']"
   ]
  },
  {
   "cell_type": "code",
   "execution_count": 48,
   "metadata": {},
   "outputs": [],
   "source": [
    "param_a_ica['log_mean'] = [np.array(x) for x in S_alpha_.tolist()]\n",
    "dimensions =  param_a_ica['log_mean'][0].shape[0]\n",
    "for dim in range(dimensions):\n",
    "    param_a_ica['log_mean_'+str(dim)]= param_a_ica['log_mean'].apply(lambda x: x[dim])\n"
   ]
  },
  {
   "cell_type": "code",
   "execution_count": 49,
   "metadata": {},
   "outputs": [
    {
     "data": {
      "application/vnd.jupyter.widget-view+json": {
       "model_id": "cdd1184b30a64966bf2a9f1291185a95",
       "version_major": 2,
       "version_minor": 0
      },
      "text/plain": [
       "Canvas(toolbar=Toolbar(toolitems=[('Home', 'Reset original view', 'home', 'home'), ('Back', 'Back to previous …"
      ]
     },
     "metadata": {},
     "output_type": "display_data"
    }
   ],
   "source": [
    "%matplotlib widget\n",
    "import matplotlib.pyplot as plt\n",
    "\n",
    "plt.figure()\n",
    "\n",
    "models = [alpha_arr, S_alpha_]\n",
    "names = ['Alpha (mixed signal)',\n",
    "         'ICA recovered Alpha signals']\n",
    "colors = ['red', 'steelblue']\n",
    "\n",
    "for ii, (model, name) in enumerate(zip(models, names), 1):\n",
    "    plt.subplot(2, 1, ii)\n",
    "    plt.title(name)\n",
    "    for sig, color in zip(model.T, colors):\n",
    "        plt.plot(sig, color=color)\n",
    "\n",
    "plt.subplots_adjust(0.09, 0.04, 0.94, 0.94, 0.26, 0.46)\n",
    "plt.show()\n"
   ]
  },
  {
   "cell_type": "code",
   "execution_count": 50,
   "metadata": {},
   "outputs": [
    {
     "data": {
      "application/vnd.jupyter.widget-view+json": {
       "model_id": "c5285cb508ad41e4a8978327d129fd31",
       "version_major": 2,
       "version_minor": 0
      },
      "text/plain": [
       "Canvas(toolbar=Toolbar(toolitems=[('Home', 'Reset original view', 'home', 'home'), ('Back', 'Back to previous …"
      ]
     },
     "metadata": {},
     "output_type": "display_data"
    }
   ],
   "source": [
    "plot_box(\n",
    "    param_a_ica,\n",
    "    task_order,\n",
    "    \"discriminative\",\n",
    "    task_metadata\n",
    ")"
   ]
  },
  {
   "cell_type": "code",
   "execution_count": 51,
   "metadata": {},
   "outputs": [
    {
     "data": {
      "application/vnd.jupyter.widget-view+json": {
       "model_id": "2871b30f9dc84c418b412b08d3f43cd2",
       "version_major": 2,
       "version_minor": 0
      },
      "text/plain": [
       "Canvas(toolbar=Toolbar(toolitems=[('Home', 'Reset original view', 'home', 'home'), ('Back', 'Back to previous …"
      ]
     },
     "metadata": {},
     "output_type": "display_data"
    }
   ],
   "source": [
    "plot_box(\n",
    "    param_a_ica,\n",
    "    task_order,\n",
    "    \"discriminative\",\n",
    "    task_metadata,\n",
    "    1\n",
    ")"
   ]
  },
  {
   "cell_type": "code",
   "execution_count": 52,
   "metadata": {},
   "outputs": [
    {
     "name": "stdout",
     "output_type": "stream",
     "text": [
      "[[ 1.00000000e+00 -8.85986298e-16]\n",
      " [-8.85986298e-16  1.00000000e+00]]\n"
     ]
    }
   ],
   "source": [
    "print(numpy.corrcoef(param_a_ica['log_mean_0'], param_a_ica['log_mean_1']))"
   ]
  },
  {
   "cell_type": "code",
   "execution_count": 53,
   "metadata": {},
   "outputs": [
    {
     "data": {
      "application/vnd.jupyter.widget-view+json": {
       "model_id": "ef785197820641aabdb085abdd1ed367",
       "version_major": 2,
       "version_minor": 0
      },
      "text/plain": [
       "Canvas(toolbar=Toolbar(toolitems=[('Home', 'Reset original view', 'home', 'home'), ('Back', 'Back to previous …"
      ]
     },
     "metadata": {},
     "output_type": "display_data"
    }
   ],
   "source": [
    "plot_box(\n",
    "    param_a,\n",
    "    task_order,\n",
    "    \"discriminative\",\n",
    "    task_metadata,\n",
    "    2\n",
    ")"
   ]
  },
  {
   "cell_type": "code",
   "execution_count": 54,
   "metadata": {
    "scrolled": false
   },
   "outputs": [
    {
     "data": {
      "application/vnd.jupyter.widget-view+json": {
       "model_id": "53b4989c1a424b2791a2b63e3dbfc942",
       "version_major": 2,
       "version_minor": 0
      },
      "text/plain": [
       "Canvas(toolbar=Toolbar(toolitems=[('Home', 'Reset original view', 'home', 'home'), ('Back', 'Back to previous …"
      ]
     },
     "metadata": {},
     "output_type": "display_data"
    }
   ],
   "source": [
    "plot_box(\n",
    "    param_b,\n",
    "    task_order,\n",
    "    \"difficulty\",\n",
    "    task_metadata,\n",
    "    0\n",
    ")"
   ]
  },
  {
   "cell_type": "code",
   "execution_count": 55,
   "metadata": {},
   "outputs": [
    {
     "data": {
      "application/vnd.jupyter.widget-view+json": {
       "model_id": "9da8008ce05940f3b4c1b55800e4eb3b",
       "version_major": 2,
       "version_minor": 0
      },
      "text/plain": [
       "Canvas(toolbar=Toolbar(toolitems=[('Home', 'Reset original view', 'home', 'home'), ('Back', 'Back to previous …"
      ]
     },
     "metadata": {},
     "output_type": "display_data"
    }
   ],
   "source": [
    "plot_box(\n",
    "    param_b,\n",
    "    task_order,\n",
    "    \"difficulty\",\n",
    "    task_metadata,\n",
    "    1\n",
    ")"
   ]
  },
  {
   "cell_type": "code",
   "execution_count": 56,
   "metadata": {},
   "outputs": [
    {
     "data": {
      "application/vnd.jupyter.widget-view+json": {
       "model_id": "91db9f2f35aa4dad9ad2125e593e32e7",
       "version_major": 2,
       "version_minor": 0
      },
      "text/plain": [
       "Canvas(toolbar=Toolbar(toolitems=[('Home', 'Reset original view', 'home', 'home'), ('Back', 'Back to previous …"
      ]
     },
     "metadata": {},
     "output_type": "display_data"
    }
   ],
   "source": [
    "plot_box(\n",
    "    param_b,\n",
    "    task_order,\n",
    "    \"difficulty\",\n",
    "    task_metadata,\n",
    "    2\n",
    ")"
   ]
  },
  {
   "cell_type": "code",
   "execution_count": 58,
   "metadata": {
    "scrolled": false
   },
   "outputs": [],
   "source": [
    "#plot_box(\n",
    "#    leh_scores_plot,\n",
    "#    task_order,\n",
    "#    \"irt-score\",\n",
    "#    task_metadata\n",
    "#)"
   ]
  },
  {
   "cell_type": "code",
   "execution_count": 59,
   "metadata": {},
   "outputs": [
    {
     "data": {
      "application/vnd.jupyter.widget-view+json": {
       "model_id": "f895bd7c688845faa596b899923ee8aa",
       "version_major": 2,
       "version_minor": 0
      },
      "text/plain": [
       "Canvas(toolbar=Toolbar(toolitems=[('Home', 'Reset original view', 'home', 'home'), ('Back', 'Back to previous …"
      ]
     },
     "metadata": {},
     "output_type": "display_data"
    }
   ],
   "source": [
    "dim=0\n",
    "xsize = 12\n",
    "ysize = 7\n",
    "width = 0.6\n",
    "rotation = 65\n",
    "order = task_order\n",
    "\n",
    "\n",
    "param2label = {\n",
    "    'discriminative':r'$\\log$ Discrimination ($\\log$ $\\alpha$)-Dim'+str(dim),\n",
    "    'difficulty': r'Difficulty ($\\beta$)-Dim'+str(dim),\n",
    "    \"disc-diff\": \"IRT Score\", # \"discrimination - difficulty product\\n\", # + r\"($ n(\\alpha) x n(\\beta$) )\"\n",
    "    \"disc-diff_pos\": \"IRT Score\", # \"discrimination - difficulty product\\n\", # + r\"($ n(\\alpha) x n(\\beta$) )\"\n",
    "    \"disc-diff_minmax\": \"IRT Score\", # \"discrimination - difficulty product\\n\", # + r\"($ n(\\alpha) x n(\\beta$) )\"\n",
    "}\n",
    "\n",
    "param2yname = {\n",
    "    'discriminative': \"log_mean_\"+str(dim),\n",
    "    'difficulty': \"mean_\"+str(dim),\n",
    "    \"disc-diff\": 0,\n",
    "    \"disc-diff_pos\": 0,\n",
    "    \"disc-diff_minmax\": 0,\n",
    "}\n",
    "\n",
    "sns.set_style(\"whitegrid\")\n",
    "sns.set_context(\"paper\")\n",
    "\n",
    "f, (ax1, ax2) = plot.subplots(nrows=2, ncols=1, squeeze=True, sharex=True, figsize=(xsize, ysize))\n",
    "\n",
    "my_pal = {\"MC-par\": \"r\",\n",
    "          \"MC-sent\": \"b\",\n",
    "          \"classification\":\"g\",\n",
    "          \"span selection\": \"grey\"}    \n",
    "\n",
    "param_type = \"discriminative\"\n",
    "ax = sns.boxplot(x=\"task_name\", y=param2yname[\"discriminative\"], data=param_a, order=order, width=width, ax=ax1)\n",
    "\n",
    "\n",
    "for i, task in enumerate(order):\n",
    "    # Select which box you want to change    \n",
    "    mybox = ax.artists[i]\n",
    "\n",
    "    # Change the appearance of that box\n",
    "    skill = task_metadata.loc[task]['format']\n",
    "    mybox.set_facecolor(my_pal[skill])\n",
    "\n",
    "\n",
    "# Add transparency to colors\n",
    "for patch in ax.artists:\n",
    "     r, g, b, a = patch.get_facecolor()\n",
    "     patch.set_facecolor((r, g, b, .6))\n",
    "\n",
    "ax1.set_ylabel(param2label[param_type], fontsize=font_label)\n",
    "ax1.set_xlabel(\"\")\n",
    "\n",
    "param_type = \"difficulty\"\n",
    "ax = sns.boxplot(x=\"task_name\", y=param2yname[\"difficulty\"], data=param_b, order=order, width=width, ax=ax2)\n",
    "\n",
    "\n",
    "for i, task in enumerate(order):\n",
    "    # Select which box you want to change    \n",
    "    mybox = ax.artists[i]\n",
    "\n",
    "    # Change the appearance of that box\n",
    "    skill = task_metadata.loc[task]['format']\n",
    "    mybox.set_facecolor(my_pal[skill])\n",
    "\n",
    "\n",
    "# Add transparency to colors\n",
    "for patch in ax.artists:\n",
    "     r, g, b, a = patch.get_facecolor()\n",
    "     patch.set_facecolor((r, g, b, .6))\n",
    "\n",
    "sns.despine()\n",
    "plot.xticks(range(len(order)), order, rotation=rotation, fontsize=font_xtick)\n",
    "plot.xlabel(None)\n",
    "ax2.set_ylabel(param2label[param_type], fontsize=font_label)\n",
    "\n",
    "plot.subplots_adjust(hspace=0.1)\n",
    "\n",
    "plot.savefig('../plots/disc_diff_combined_box.png',\n",
    "            format='png', dpi=300,\n",
    "            bbox_inches = 'tight',\n",
    "            pad_inches = .1)"
   ]
  },
  {
   "cell_type": "markdown",
   "metadata": {},
   "source": [
    "### Per dataset analysis - single scatter plots"
   ]
  },
  {
   "cell_type": "code",
   "execution_count": 60,
   "metadata": {},
   "outputs": [],
   "source": [
    "def single_scatter_plot(param1, param2, label1, label2, ymin, ymax, step, taskname, order, dim=0):\n",
    "    \n",
    "    param2label = {\n",
    "        'alpha':r'$\\log$ Discrimination ($\\log$ $\\alpha$)-Dim',\n",
    "        'beta': r'Difficulty ($\\beta$)-Dim',\n",
    "        'gamma': r'Guessing ($\\gamma$)'\n",
    "    }\n",
    "    \n",
    "    sns.set_theme(style=\"whitegrid\")\n",
    "    sns.despine(offset=5, trim=True)\n",
    "\n",
    "    keys = [\n",
    "        'lower1', \n",
    "        'upper1', \n",
    "        'mean1', \n",
    "        'var1', \n",
    "        'log_mean1',\n",
    "        param2label[label1]+'0',\n",
    "        'mean_0_1',\n",
    "        param2label[label1]+'1',\n",
    "        'mean_1_1',\n",
    "        param2label[label1]+'2',\n",
    "        'mean_2_1',\n",
    "        'lower2',\n",
    "        'upper2',\n",
    "        'mean2',\n",
    "        'var2',\n",
    "        'log_mean2',\n",
    "        'log_mean_0_2',\n",
    "        param2label[label2]+'0',\n",
    "        'log_mean_1_2',\n",
    "        param2label[label2]+'1',\n",
    "        'log_mean_2_2',\n",
    "        param2label[label2]+'2',\n",
    "        'task',\n",
    "        'format'\n",
    "    ]\n",
    "    combined_data = pd.concat([param1, param2, taskname], axis=1)\n",
    "    combined_data = combined_data.set_axis(keys, axis=1)\n",
    "\n",
    "    # Create an array with the colors you want to use\n",
    "    colors = ['b', 'r', 'g', 'grey']\n",
    "    # Set your custom color palette\n",
    "    customPalette = sns.set_palette(sns.color_palette(colors))\n",
    "    grid = sns.FacetGrid(combined_data, col=\"task\", hue=\"format\",\n",
    "                         col_order=order,\n",
    "                         palette=customPalette,\n",
    "                         col_wrap=7, height=2)\n",
    "\n",
    "    grid.map(plot.scatter, param2label[label1]+str(dim), param2label[label2]+str(dim), marker=\".\", s=1, alpha=0.75)\n",
    "    grid.set_titles(size=font_title)\n",
    "\n",
    "    # Adjust the tick positions and labels\n",
    "    grid.set(xticks=np.arange(-1, 1.5, 0.5), yticks=np.arange(ymin, ymax, step),\n",
    "             xlim=(-1, 1), ylim=(ymin, ymax), )\n",
    "    \n",
    "    grid.set_axis_labels('', '')\n",
    "    \n",
    "    grid.fig.text(\n",
    "        x=-0.01, y=0.5,\n",
    "        verticalalignment='center',\n",
    "        s=param2label[label2]+str(dim),\n",
    "        size=font_label,\n",
    "        rotation=90,\n",
    "    )\n",
    "    \n",
    "    grid.fig.text(\n",
    "        x=0.5, y=-0.01,\n",
    "        horizontalalignment='center',\n",
    "        s=param2label[label1]+str(dim),\n",
    "        size=font_label,\n",
    "    )\n",
    "    \n",
    "    # Adjust sub-plot title\n",
    "    axes = grid.axes.flatten()\n",
    "    for ax in axes:\n",
    "        new_title = ax.get_title().replace('task = ', '')\n",
    "        ax.set_title(new_title)\n",
    "        \n",
    "    # Adjust the arrangement of the plots\n",
    "    grid.fig.tight_layout()\n",
    "    plot.subplots_adjust(hspace=0.2)\n",
    "    \n",
    "    plot.savefig('../plots/single_' + label1 + '_' + label2 + \".png\",\n",
    "                format='png',dpi=300,bbox_inches = 'tight',\n",
    "                pad_inches = .1)"
   ]
  },
  {
   "cell_type": "code",
   "execution_count": 61,
   "metadata": {},
   "outputs": [
    {
     "data": {
      "application/vnd.jupyter.widget-view+json": {
       "model_id": "93ee5b3b88e841fe9fc7a41dab5662ff",
       "version_major": 2,
       "version_minor": 0
      },
      "text/plain": [
       "Canvas(toolbar=Toolbar(toolitems=[('Home', 'Reset original view', 'home', 'home'), ('Back', 'Back to previous …"
      ]
     },
     "metadata": {},
     "output_type": "display_data"
    }
   ],
   "source": [
    "ymin, ymax, step = -2, 4, 1\n",
    "single_scatter_plot(param_plot_stats['a'], param_plot_stats['b'], 'alpha', 'beta', ymin, ymax, step, task_name_format, task_order)"
   ]
  },
  {
   "cell_type": "code",
   "execution_count": 62,
   "metadata": {},
   "outputs": [
    {
     "data": {
      "application/vnd.jupyter.widget-view+json": {
       "model_id": "079e37d7170a4233ac5bb603d0eb5260",
       "version_major": 2,
       "version_minor": 0
      },
      "text/plain": [
       "Canvas(toolbar=Toolbar(toolitems=[('Home', 'Reset original view', 'home', 'home'), ('Back', 'Back to previous …"
      ]
     },
     "metadata": {},
     "output_type": "display_data"
    }
   ],
   "source": [
    "ymin, ymax, step = -2, 4, 1\n",
    "single_scatter_plot(param_plot_stats['a'], param_plot_stats['b'], 'alpha', 'beta', ymin, ymax, step, task_name_format, task_order, 1)"
   ]
  },
  {
   "cell_type": "code",
   "execution_count": 63,
   "metadata": {},
   "outputs": [
    {
     "data": {
      "application/vnd.jupyter.widget-view+json": {
       "model_id": "289b0708f2384046b2cca108246aa79a",
       "version_major": 2,
       "version_minor": 0
      },
      "text/plain": [
       "Canvas(toolbar=Toolbar(toolitems=[('Home', 'Reset original view', 'home', 'home'), ('Back', 'Back to previous …"
      ]
     },
     "metadata": {},
     "output_type": "display_data"
    }
   ],
   "source": [
    "ymin, ymax, step = -2, 4, 1\n",
    "single_scatter_plot(param_plot_stats['a'], param_plot_stats['b'], 'alpha', 'beta', ymin, ymax, step, task_name_format, task_order, 2)"
   ]
  },
  {
   "cell_type": "code",
   "execution_count": 64,
   "metadata": {
    "scrolled": true
   },
   "outputs": [],
   "source": [
    "#ymin, ymax, step = 0, 1.0, 0.2\n",
    "#single_scatter_plot(param_plot_stats['a'], param_plot_stats['g'], 'alpha', 'gamma', ymin, ymax, step, task_name_format, task_order)"
   ]
  },
  {
   "cell_type": "code",
   "execution_count": 65,
   "metadata": {},
   "outputs": [],
   "source": [
    "model_name = 'Model'\n",
    "checkpoint_name = 'Checkpoint'"
   ]
  },
  {
   "cell_type": "code",
   "execution_count": 66,
   "metadata": {},
   "outputs": [],
   "source": [
    "model2plot = {\n",
    "    'roberta-med-small-1M': r'RoBERTa-Med-Small-1M',\n",
    "    'roberta-base-10M': r'RoBERTa-Base-10M',\n",
    "    'roberta-base-100M': r'RoBERTa-Base-100M',\n",
    "    'roberta-base-1B': r'RoBERTa-Base-1B',\n",
    "    'bert-base-cased': r'BERT-Base',\n",
    "    'bert-large-cased': r'BERT-Large',\n",
    "    'roberta-base': r'RoBERTa-Base',\n",
    "    'roberta-large': r'RoBERTa-Large',\n",
    "    'xlm-roberta-large': r'XLM-R-Large',\n",
    "    'albert-xxlarge-v2': r'ALBERT-XXL-v2',\n",
    "}\n",
    "model_names = [model2plot[name] for name in model_names]"
   ]
  },
  {
   "cell_type": "code",
   "execution_count": 67,
   "metadata": {},
   "outputs": [],
   "source": [
    "df_acc = pd.DataFrame(accuracies, columns=['acc.'])\n",
    "df_model = pd.DataFrame(model_names, columns=[model_name])\n",
    "df_mlevel = pd.DataFrame(model_levels, columns=[checkpoint_name])"
   ]
  },
  {
   "cell_type": "code",
   "execution_count": 70,
   "metadata": {},
   "outputs": [
    {
     "data": {
      "text/plain": [
       "3"
      ]
     },
     "execution_count": 70,
     "metadata": {},
     "output_type": "execute_result"
    }
   ],
   "source": [
    "dimensions =  param_plot_stats['t']['mean'][0].shape[0]\n",
    "dimensions"
   ]
  },
  {
   "cell_type": "code",
   "execution_count": 71,
   "metadata": {},
   "outputs": [
    {
     "data": {
      "text/plain": [
       "0    -0.146931\n",
       "1    -0.988569\n",
       "2     0.137529\n",
       "3    -0.113576\n",
       "4    -0.325461\n",
       "        ...   \n",
       "85    0.469614\n",
       "86   -1.167895\n",
       "87   -0.064116\n",
       "88    0.094622\n",
       "89   -0.052684\n",
       "Name: mean_0, Length: 90, dtype: float64"
      ]
     },
     "execution_count": 71,
     "metadata": {},
     "output_type": "execute_result"
    }
   ],
   "source": [
    "param_plot_stats['t']['mean_0']"
   ]
  },
  {
   "cell_type": "code",
   "execution_count": 74,
   "metadata": {},
   "outputs": [
    {
     "data": {
      "text/html": [
       "<div>\n",
       "<style scoped>\n",
       "    .dataframe tbody tr th:only-of-type {\n",
       "        vertical-align: middle;\n",
       "    }\n",
       "\n",
       "    .dataframe tbody tr th {\n",
       "        vertical-align: top;\n",
       "    }\n",
       "\n",
       "    .dataframe thead th {\n",
       "        text-align: right;\n",
       "    }\n",
       "</style>\n",
       "<table border=\"1\" class=\"dataframe\">\n",
       "  <thead>\n",
       "    <tr style=\"text-align: right;\">\n",
       "      <th></th>\n",
       "      <th>acc.</th>\n",
       "      <th>theta</th>\n",
       "      <th>Model</th>\n",
       "      <th>Checkpoint</th>\n",
       "    </tr>\n",
       "  </thead>\n",
       "  <tbody>\n",
       "    <tr>\n",
       "      <th>0</th>\n",
       "      <td>0.54166</td>\n",
       "      <td>-0.146931</td>\n",
       "      <td>RoBERTa-Base-10M</td>\n",
       "      <td>best</td>\n",
       "    </tr>\n",
       "    <tr>\n",
       "      <th>1</th>\n",
       "      <td>0.212025</td>\n",
       "      <td>-0.027640</td>\n",
       "      <td>RoBERTa-Base-10M</td>\n",
       "      <td>1%</td>\n",
       "    </tr>\n",
       "    <tr>\n",
       "      <th>2</th>\n",
       "      <td>0.498184</td>\n",
       "      <td>-0.144212</td>\n",
       "      <td>RoBERTa-Base-10M</td>\n",
       "      <td>25%</td>\n",
       "    </tr>\n",
       "    <tr>\n",
       "      <th>3</th>\n",
       "      <td>0.531221</td>\n",
       "      <td>NaN</td>\n",
       "      <td>RoBERTa-Base-10M</td>\n",
       "      <td>50%</td>\n",
       "    </tr>\n",
       "    <tr>\n",
       "      <th>4</th>\n",
       "      <td>0.396973</td>\n",
       "      <td>NaN</td>\n",
       "      <td>RoBERTa-Base-10M</td>\n",
       "      <td>10%</td>\n",
       "    </tr>\n",
       "    <tr>\n",
       "      <th>...</th>\n",
       "      <td>...</td>\n",
       "      <td>...</td>\n",
       "      <td>...</td>\n",
       "      <td>...</td>\n",
       "    </tr>\n",
       "    <tr>\n",
       "      <th>85</th>\n",
       "      <td>0.709678</td>\n",
       "      <td>NaN</td>\n",
       "      <td>XLM-R-Large</td>\n",
       "      <td>best</td>\n",
       "    </tr>\n",
       "    <tr>\n",
       "      <th>86</th>\n",
       "      <td>0.202042</td>\n",
       "      <td>NaN</td>\n",
       "      <td>XLM-R-Large</td>\n",
       "      <td>1%</td>\n",
       "    </tr>\n",
       "    <tr>\n",
       "      <th>87</th>\n",
       "      <td>0.676376</td>\n",
       "      <td>NaN</td>\n",
       "      <td>XLM-R-Large</td>\n",
       "      <td>25%</td>\n",
       "    </tr>\n",
       "    <tr>\n",
       "      <th>88</th>\n",
       "      <td>0.696823</td>\n",
       "      <td>NaN</td>\n",
       "      <td>XLM-R-Large</td>\n",
       "      <td>50%</td>\n",
       "    </tr>\n",
       "    <tr>\n",
       "      <th>89</th>\n",
       "      <td>0.6277</td>\n",
       "      <td>NaN</td>\n",
       "      <td>XLM-R-Large</td>\n",
       "      <td>10%</td>\n",
       "    </tr>\n",
       "  </tbody>\n",
       "</table>\n",
       "<p>90 rows × 4 columns</p>\n",
       "</div>"
      ],
      "text/plain": [
       "        acc.     theta             Model Checkpoint\n",
       "0    0.54166 -0.146931  RoBERTa-Base-10M       best\n",
       "1   0.212025 -0.027640  RoBERTa-Base-10M         1%\n",
       "2   0.498184 -0.144212  RoBERTa-Base-10M        25%\n",
       "3   0.531221       NaN  RoBERTa-Base-10M        50%\n",
       "4   0.396973       NaN  RoBERTa-Base-10M        10%\n",
       "..       ...       ...               ...        ...\n",
       "85  0.709678       NaN       XLM-R-Large       best\n",
       "86  0.202042       NaN       XLM-R-Large         1%\n",
       "87  0.676376       NaN       XLM-R-Large        25%\n",
       "88  0.696823       NaN       XLM-R-Large        50%\n",
       "89    0.6277       NaN       XLM-R-Large        10%\n",
       "\n",
       "[90 rows x 4 columns]"
      ]
     },
     "execution_count": 74,
     "metadata": {},
     "output_type": "execute_result"
    }
   ],
   "source": [
    "combined_data"
   ]
  },
  {
   "cell_type": "code",
   "execution_count": 76,
   "metadata": {},
   "outputs": [
    {
     "data": {
      "application/vnd.jupyter.widget-view+json": {
       "model_id": "63007ed8eda34dddbb1b9101de3cb03f",
       "version_major": 2,
       "version_minor": 0
      },
      "text/plain": [
       "Canvas(toolbar=Toolbar(toolitems=[('Home', 'Reset original view', 'home', 'home'), ('Back', 'Back to previous …"
      ]
     },
     "metadata": {},
     "output_type": "display_data"
    }
   ],
   "source": [
    "font_label = 14\n",
    "font_legend = 14\n",
    "font_legendtitle = font_legend + 4\n",
    "font_xtick = 14\n",
    "font_title = 14\n",
    "marker_scale = 1.5\n",
    "\n",
    "sns.set_theme(style=\"whitegrid\")\n",
    "\n",
    "#keys = ['acc.', 'lower', 'upper', 'theta', 'var', 'log_mean', model_name, checkpoint_name]\n",
    "keys = ['acc.', 'theta', model_name, checkpoint_name]\n",
    "combined_data = pd.concat([df_acc, pd.DataFrame(param_plot_stats['t']['mean_0']), df_model, df_mlevel], axis=1)\n",
    "combined_data = combined_data.set_axis(keys, axis=1)\n",
    "hue_order = ['roberta-med-small-1M', 'roberta-base-10M', 'roberta-base-100M', 'roberta-base-1B', 'bert-base-cased', 'bert-large-cased',\n",
    "            'roberta-base', 'roberta-large', 'xlm-roberta-large', 'albert-xxlarge-v2']\n",
    "hue_order = [model2plot[name] for name in hue_order]\n",
    "style_order = [r'1%', r'10%', r'25%', r'50%', 'best']\n",
    "\n",
    "level2marker = {\n",
    "    r'1%':'o',\n",
    "    r'10%':'s',\n",
    "    r'25%':'P',\n",
    "    r'50%':'X',\n",
    "    'best':'^',\n",
    "}\n",
    "\n",
    "sizes = [5, 50, 100, 200, 400]\n",
    "size_order = [r'1%', r'10%', r'25%', r'50%', 'best']\n",
    "\n",
    "f, ax = plot.subplots(figsize=(14, 4))\n",
    "sns.despine()\n",
    "\n",
    "x_lbl, y_lbl = 'theta', 'acc.'\n",
    "prefix = ''\n",
    "\n",
    "# Create an array with the colors you want to use\n",
    "colors = ['r', 'b', 'g', 'm', 'grey', 'orange', 'olive', 'teal', 'skyblue', 'navy']\n",
    "# Set your custom color palette\n",
    "customPalette = sns.set_palette(sns.color_palette(colors))\n",
    "\n",
    "ax = sns.scatterplot(data=combined_data, x=x_lbl, y=y_lbl,\n",
    "                alpha=0.7,\n",
    "                palette=customPalette,\n",
    "                linewidth=0,\n",
    "                markers=level2marker,\n",
    "                style=checkpoint_name,\n",
    "                style_order=style_order,\n",
    "                s=200,\n",
    "                hue_order=hue_order,\n",
    "                hue=model_name)\n",
    "\n",
    "\n",
    "plot.xlabel(prefix + r'Ability ($\\theta$)-Dim0', fontsize=font_label)\n",
    "plot.ylabel(r'Average Model Accuracy', fontsize=font_label)\n",
    "plot.legend(\n",
    "    borderaxespad=0,\n",
    "    loc=\"right center\",\n",
    "    ncol=2,\n",
    "    bbox_to_anchor=(1,1),\n",
    "    fontsize=font_legend,\n",
    "    title_fontsize=font_legendtitle,\n",
    "    markerscale=marker_scale,\n",
    ")\n",
    "f.tight_layout()\n",
    "\n",
    "plot.savefig(\"../plots/acc_\" + prefix + \"theta.png\",\n",
    "                format='png',dpi=300,bbox_inches = 'tight',\n",
    "                pad_inches = .1)"
   ]
  },
  {
   "cell_type": "code",
   "execution_count": 77,
   "metadata": {},
   "outputs": [
    {
     "data": {
      "application/vnd.jupyter.widget-view+json": {
       "model_id": "a2b657e255574996948c1d9f3139513e",
       "version_major": 2,
       "version_minor": 0
      },
      "text/plain": [
       "Canvas(toolbar=Toolbar(toolitems=[('Home', 'Reset original view', 'home', 'home'), ('Back', 'Back to previous …"
      ]
     },
     "metadata": {},
     "output_type": "display_data"
    }
   ],
   "source": [
    "font_label = 14\n",
    "font_legend = 14\n",
    "font_legendtitle = font_legend + 4\n",
    "font_xtick = 14\n",
    "font_title = 14\n",
    "marker_scale = 1.5\n",
    "\n",
    "sns.set_theme(style=\"whitegrid\")\n",
    "\n",
    "#keys = ['acc.', 'lower', 'upper', 'theta', 'var', 'log_mean', model_name, checkpoint_name]\n",
    "keys = ['acc.', 'theta', model_name, checkpoint_name]\n",
    "combined_data = pd.concat([df_acc, pd.DataFrame(param_plot_stats['t']['mean_1']), df_model, df_mlevel], axis=1)\n",
    "combined_data = combined_data.set_axis(keys, axis=1)\n",
    "hue_order = ['roberta-med-small-1M', 'roberta-base-10M', 'roberta-base-100M', 'roberta-base-1B', 'bert-base-cased', 'bert-large-cased',\n",
    "            'roberta-base', 'roberta-large', 'xlm-roberta-large', 'albert-xxlarge-v2']\n",
    "hue_order = [model2plot[name] for name in hue_order]\n",
    "style_order = [r'1%', r'10%', r'25%', r'50%', 'best']\n",
    "\n",
    "level2marker = {\n",
    "    r'1%':'o',\n",
    "    r'10%':'s',\n",
    "    r'25%':'P',\n",
    "    r'50%':'X',\n",
    "    'best':'^',\n",
    "}\n",
    "\n",
    "sizes = [5, 50, 100, 200, 400]\n",
    "size_order = [r'1%', r'10%', r'25%', r'50%', 'best']\n",
    "\n",
    "f, ax = plot.subplots(figsize=(14, 4))\n",
    "sns.despine()\n",
    "\n",
    "x_lbl, y_lbl = 'theta', 'acc.'\n",
    "prefix = ''\n",
    "\n",
    "# Create an array with the colors you want to use\n",
    "colors = ['r', 'b', 'g', 'm', 'grey', 'orange', 'olive', 'teal', 'skyblue', 'navy']\n",
    "# Set your custom color palette\n",
    "customPalette = sns.set_palette(sns.color_palette(colors))\n",
    "\n",
    "ax = sns.scatterplot(data=combined_data, x=x_lbl, y=y_lbl,\n",
    "                alpha=0.7,\n",
    "                palette=customPalette,\n",
    "                linewidth=0,\n",
    "                markers=level2marker,\n",
    "                style=checkpoint_name,\n",
    "                style_order=style_order,\n",
    "                s=200,\n",
    "                hue_order=hue_order,\n",
    "                hue=model_name)\n",
    "\n",
    "\n",
    "plot.xlabel(prefix + r'Ability ($\\theta$)-Dim1', fontsize=font_label)\n",
    "plot.ylabel(r'Average Model Accuracy', fontsize=font_label)\n",
    "plot.legend(\n",
    "    borderaxespad=0,\n",
    "    loc=\"right center\",\n",
    "    ncol=2,\n",
    "    bbox_to_anchor=(1,1),\n",
    "    fontsize=font_legend,\n",
    "    title_fontsize=font_legendtitle,\n",
    "    markerscale=marker_scale,\n",
    ")\n",
    "f.tight_layout()\n",
    "\n",
    "plot.savefig(\"../plots/acc_\" + prefix + \"theta1.png\",\n",
    "                format='png',dpi=300,bbox_inches = 'tight',\n",
    "                pad_inches = .1)"
   ]
  },
  {
   "cell_type": "code",
   "execution_count": 78,
   "metadata": {},
   "outputs": [
    {
     "data": {
      "application/vnd.jupyter.widget-view+json": {
       "model_id": "2393242e76bb45f6a06e8677f851d225",
       "version_major": 2,
       "version_minor": 0
      },
      "text/plain": [
       "Canvas(toolbar=Toolbar(toolitems=[('Home', 'Reset original view', 'home', 'home'), ('Back', 'Back to previous …"
      ]
     },
     "metadata": {},
     "output_type": "display_data"
    }
   ],
   "source": [
    "font_label = 14\n",
    "font_legend = 14\n",
    "font_legendtitle = font_legend + 4\n",
    "font_xtick = 14\n",
    "font_title = 14\n",
    "marker_scale = 1.5\n",
    "\n",
    "sns.set_theme(style=\"whitegrid\")\n",
    "\n",
    "#keys = ['acc.', 'lower', 'upper', 'theta', 'var', 'log_mean', model_name, checkpoint_name]\n",
    "keys = ['acc.', 'theta', model_name, checkpoint_name]\n",
    "combined_data = pd.concat([df_acc, pd.DataFrame(param_plot_stats['t']['mean_2']), df_model, df_mlevel], axis=1)\n",
    "combined_data = combined_data.set_axis(keys, axis=1)\n",
    "hue_order = ['roberta-med-small-1M', 'roberta-base-10M', 'roberta-base-100M', 'roberta-base-1B', 'bert-base-cased', 'bert-large-cased',\n",
    "            'roberta-base', 'roberta-large', 'xlm-roberta-large', 'albert-xxlarge-v2']\n",
    "hue_order = [model2plot[name] for name in hue_order]\n",
    "style_order = [r'1%', r'10%', r'25%', r'50%', 'best']\n",
    "\n",
    "level2marker = {\n",
    "    r'1%':'o',\n",
    "    r'10%':'s',\n",
    "    r'25%':'P',\n",
    "    r'50%':'X',\n",
    "    'best':'^',\n",
    "}\n",
    "\n",
    "sizes = [5, 50, 100, 200, 400]\n",
    "size_order = [r'1%', r'10%', r'25%', r'50%', 'best']\n",
    "\n",
    "f, ax = plot.subplots(figsize=(14, 4))\n",
    "sns.despine()\n",
    "\n",
    "x_lbl, y_lbl = 'theta', 'acc.'\n",
    "prefix = ''\n",
    "\n",
    "# Create an array with the colors you want to use\n",
    "colors = ['r', 'b', 'g', 'm', 'grey', 'orange', 'olive', 'teal', 'skyblue', 'navy']\n",
    "# Set your custom color palette\n",
    "customPalette = sns.set_palette(sns.color_palette(colors))\n",
    "\n",
    "ax = sns.scatterplot(data=combined_data, x=x_lbl, y=y_lbl,\n",
    "                alpha=0.7,\n",
    "                palette=customPalette,\n",
    "                linewidth=0,\n",
    "                markers=level2marker,\n",
    "                style=checkpoint_name,\n",
    "                style_order=style_order,\n",
    "                s=200,\n",
    "                hue_order=hue_order,\n",
    "                hue=model_name)\n",
    "\n",
    "\n",
    "plot.xlabel(prefix + r'Ability ($\\theta$)-Dim2', fontsize=font_label)\n",
    "plot.ylabel(r'Average Model Accuracy', fontsize=font_label)\n",
    "plot.legend(\n",
    "    borderaxespad=0,\n",
    "    loc=\"right center\",\n",
    "    ncol=2,\n",
    "    bbox_to_anchor=(1,1),\n",
    "    fontsize=font_legend,\n",
    "    title_fontsize=font_legendtitle,\n",
    "    markerscale=marker_scale,\n",
    ")\n",
    "f.tight_layout()\n",
    "\n",
    "plot.savefig(\"../plots/acc_\" + prefix + \"theta1.png\",\n",
    "                format='png',dpi=300,bbox_inches = 'tight',\n",
    "                pad_inches = .1)"
   ]
  },
  {
   "cell_type": "code",
   "execution_count": null,
   "metadata": {},
   "outputs": [],
   "source": [
    "combined_data"
   ]
  },
  {
   "cell_type": "code",
   "execution_count": null,
   "metadata": {
    "scrolled": false
   },
   "outputs": [],
   "source": [
    "font_label = 14\n",
    "font_legend = 14\n",
    "font_legendtitle = font_legend + 4\n",
    "font_xtick = 14\n",
    "font_title = 14\n",
    "marker_scale = 1.5\n",
    "\n",
    "sns.set_theme(style=\"whitegrid\")\n",
    "\n",
    "keys = ['acc.', 'lower', 'upper', 'theta', 'var', 'log_mean', model_name, checkpoint_name]\n",
    "combined_data = pd.concat([df_acc, param_plot_stats['t'], df_model, df_mlevel], axis=1)\n",
    "combined_data = combined_data.set_axis(keys, axis=1)\n",
    "hue_order = ['roberta-med-small-1M', 'roberta-base-10M', 'roberta-base-100M', 'roberta-base-1B', 'bert-base-cased', 'bert-large-cased',\n",
    "            'roberta-base', 'roberta-large', 'xlm-roberta-large', 'albert-xxlarge-v2']\n",
    "hue_order = [model2plot[name] for name in hue_order]\n",
    "style_order = [r'1%', r'10%', r'25%', r'50%', 'best']\n",
    "\n",
    "level2marker = {\n",
    "    r'1%':'o',\n",
    "    r'10%':'s',\n",
    "    r'25%':'P',\n",
    "    r'50%':'X',\n",
    "    'best':'^',\n",
    "}\n",
    "\n",
    "sizes = [5, 50, 100, 200, 400]\n",
    "size_order = [r'1%', r'10%', r'25%', r'50%', 'best']\n",
    "\n",
    "f, ax = plot.subplots(figsize=(14, 4))\n",
    "sns.despine()\n",
    "\n",
    "x_lbl, y_lbl = 'theta', 'acc.'\n",
    "prefix = ''\n",
    "\n",
    "# Create an array with the colors you want to use\n",
    "colors = ['r', 'b', 'g', 'm', 'grey', 'orange', 'olive', 'teal', 'skyblue', 'navy']\n",
    "# Set your custom color palette\n",
    "customPalette = sns.set_palette(sns.color_palette(colors))\n",
    "\n",
    "ax = sns.scatterplot(data=combined_data, x=x_lbl, y=y_lbl,\n",
    "                alpha=0.7,\n",
    "                palette=customPalette,\n",
    "                linewidth=0,\n",
    "                markers=level2marker,\n",
    "                style=checkpoint_name,\n",
    "                style_order=style_order,\n",
    "                s=200,\n",
    "                hue_order=hue_order,\n",
    "                hue=model_name)\n",
    "\n",
    "\n",
    "plot.xlabel(prefix + r'Ability ($\\theta$)', fontsize=font_label)\n",
    "plot.ylabel(r'Average Model Accuracy', fontsize=font_label)\n",
    "plot.legend(\n",
    "    borderaxespad=0,\n",
    "    loc=\"right center\",\n",
    "    ncol=2,\n",
    "    bbox_to_anchor=(1,1),\n",
    "    fontsize=font_legend,\n",
    "    title_fontsize=font_legendtitle,\n",
    "    markerscale=marker_scale,\n",
    ")\n",
    "f.tight_layout()\n",
    "\n",
    "plot.savefig(\"../plots/acc_\" + prefix + \"theta.png\",\n",
    "                format='png',dpi=300,bbox_inches = 'tight',\n",
    "                pad_inches = .1)"
   ]
  },
  {
   "cell_type": "code",
   "execution_count": null,
   "metadata": {},
   "outputs": [],
   "source": [
    "df_model_perf = pd.read_csv('model_performance.csv')\n",
    "df_model_perf = df_model_perf.melt(id_vars=[\"Task\"])\n",
    "df_model_perf = df_model_perf.set_axis([\"task\", \"model\", \"accuracy\"], axis=1)\n",
    "df = df_model_perf[df_model_perf.model.isin(['roberta-large', 'roberta-med-small-1M', 'albert-xxlarge-v2'])]\n",
    "df = df.replace({\"roberta-large\": \"RoBERTa-Large\", \"roberta-med-small-1M\": \"RoBERTa-Med-Small-1M-2\", \"albert-xxlarge-v2\":\"ALBERT-XXL-v2\"})\n",
    "df"
   ]
  },
  {
   "cell_type": "code",
   "execution_count": null,
   "metadata": {},
   "outputs": [],
   "source": [
    "font_label = 24\n",
    "font_legend = 24\n",
    "font_legendtitle = font_legend + 4\n",
    "font_xtick = 24\n",
    "font_title = 24\n",
    "marker_scale = 1.5\n",
    "\n",
    "sns.set_theme(style=\"whitegrid\")\n",
    "\n",
    "# Create an array with the colors you want to use\n",
    "colors = ['navy', 'b', 'skyblue', 'olive', 'teal', 'g', 'navy']\n",
    "# Set your custom color palette\n",
    "customPalette = sns.set_palette(sns.color_palette(colors))\n",
    "\n",
    "\n",
    "f, ax = plot.subplots(figsize=(30, 7))\n",
    "order = task_order\n",
    "sns.barplot(x=\"task\", y=\"accuracy\", hue=\"model\", data=df, order=order)\n",
    "plot.xticks(range(len(order)), order, rotation=45, fontsize=font_xtick)\n",
    "sns.despine()\n",
    "\n",
    "plot.xlabel('Tasks', fontsize=font_label)\n",
    "plot.xlabel(None)\n",
    "plot.ylabel('Model Performance', fontsize=font_label)\n",
    "\n",
    "# Shrink current axis's height by 10% on the bottom\n",
    "box = ax.get_position()\n",
    "ax.set_position([box.x0, box.y0 + box.height * 0.1,\n",
    "                 box.width, box.height * 0.9])\n",
    "\n",
    "# Put a legend below current axis\n",
    "ax.legend(loc='upper center', bbox_to_anchor=(0.5, 1.2),\n",
    "          fancybox=True, shadow=True, ncol=5, prop=dict(size=24))\n",
    "\n",
    "f.tight_layout()\n",
    "\n",
    "plot.savefig(\"../plots/results.png\",\n",
    "                format='png',dpi=300,bbox_inches = 'tight',\n",
    "                pad_inches = .1)"
   ]
  },
  {
   "cell_type": "code",
   "execution_count": null,
   "metadata": {},
   "outputs": [],
   "source": []
  }
 ],
 "metadata": {
  "kernelspec": {
   "display_name": "Python 3",
   "language": "python",
   "name": "python3"
  },
  "language_info": {
   "codemirror_mode": {
    "name": "ipython",
    "version": 3
   },
   "file_extension": ".py",
   "mimetype": "text/x-python",
   "name": "python",
   "nbconvert_exporter": "python",
   "pygments_lexer": "ipython3",
   "version": "3.7.7"
  }
 },
 "nbformat": 4,
 "nbformat_minor": 4
}
