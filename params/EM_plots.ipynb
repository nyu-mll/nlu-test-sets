{
 "cells": [
  {
   "cell_type": "code",
   "execution_count": 1,
   "metadata": {},
   "outputs": [],
   "source": [
    "%matplotlib widget\n",
    "\n",
    "import pickle\n",
    "import os\n",
    "import matplotlib.pyplot as plt\n",
    "import seaborn as sns\n",
    "\n",
    "import torch\n",
    "import numpy as np\n",
    "import pandas as pd"
   ]
  },
  {
   "cell_type": "markdown",
   "metadata": {},
   "source": [
    "# Check Losses"
   ]
  },
  {
   "cell_type": "code",
   "execution_count": 2,
   "metadata": {},
   "outputs": [],
   "source": [
    "with open(os.path.join('.', 'losses.p'), 'rb') as f:\n",
    "    losses = pickle.load(f)"
   ]
  },
  {
   "cell_type": "code",
   "execution_count": 3,
   "metadata": {
    "scrolled": false
   },
   "outputs": [
    {
     "data": {
      "application/vnd.jupyter.widget-view+json": {
       "model_id": "8eb4e02fbbf04ddd8cd9ada77c7b25d4",
       "version_major": 2,
       "version_minor": 0
      },
      "text/plain": [
       "Canvas(toolbar=Toolbar(toolitems=[('Home', 'Reset original view', 'home', 'home'), ('Back', 'Back to previous …"
      ]
     },
     "metadata": {},
     "output_type": "display_data"
    },
    {
     "data": {
      "text/plain": [
       "Text(0, 0.5, 'NLL')"
      ]
     },
     "execution_count": 3,
     "metadata": {},
     "output_type": "execute_result"
    }
   ],
   "source": [
    "fig, ax = plt.subplots()\n",
    "plt.plot(losses)\n",
    "ax.set_xlabel('EM Step')\n",
    "ax.set_ylabel('NLL')"
   ]
  },
  {
   "cell_type": "markdown",
   "metadata": {},
   "source": [
    "# Check Dimension Correlations"
   ]
  },
  {
   "cell_type": "code",
   "execution_count": 4,
   "metadata": {},
   "outputs": [],
   "source": [
    "with open(os.path.join('.', 'thetas.p'), 'rb') as f:\n",
    "    thetas = pickle.load(f).detach()\n",
    "    \n",
    "with open(os.path.join('.', 'item_params.p'), 'rb') as f:\n",
    "    item_params = pickle.load(f).detach()\n",
    "    \n",
    "with open(os.path.join('.', 'params_order.p'), 'rb') as f:\n",
    "    param_order = pickle.load(f)"
   ]
  },
  {
   "cell_type": "code",
   "execution_count": 5,
   "metadata": {},
   "outputs": [
    {
     "name": "stdout",
     "output_type": "stream",
     "text": [
      "torch.Size([20, 3])\n",
      "['a', 'b']\n",
      "torch.Size([3000, 2, 3])\n"
     ]
    }
   ],
   "source": [
    "print(thetas.shape)\n",
    "print(param_order)\n",
    "print(item_params.shape)"
   ]
  },
  {
   "cell_type": "code",
   "execution_count": 6,
   "metadata": {},
   "outputs": [],
   "source": [
    "a = item_params[:, 0, :]\n",
    "b = item_params[:, 1, :]"
   ]
  },
  {
   "cell_type": "code",
   "execution_count": 7,
   "metadata": {
    "scrolled": false
   },
   "outputs": [
    {
     "name": "stdout",
     "output_type": "stream",
     "text": [
      "[[ 1.         -0.27897075 -0.08539377]\n",
      " [-0.27897075  1.         -0.1526922 ]\n",
      " [-0.08539377 -0.1526922   1.        ]]\n"
     ]
    },
    {
     "data": {
      "application/vnd.jupyter.widget-view+json": {
       "model_id": "4418e02b24f94962924188cdbdd269b9",
       "version_major": 2,
       "version_minor": 0
      },
      "text/plain": [
       "Canvas(toolbar=Toolbar(toolitems=[('Home', 'Reset original view', 'home', 'home'), ('Back', 'Back to previous …"
      ]
     },
     "metadata": {},
     "output_type": "display_data"
    },
    {
     "data": {
      "text/plain": [
       "Text(0.5, 1, 'Thetas')"
      ]
     },
     "execution_count": 7,
     "metadata": {},
     "output_type": "execute_result"
    }
   ],
   "source": [
    "corr = np.corrcoef(thetas.T)\n",
    "print(corr)\n",
    "fig, ax = plt.subplots()\n",
    "sns.heatmap(corr, vmin=-1, vmax=1)\n",
    "ax.set_title('Thetas')"
   ]
  },
  {
   "cell_type": "code",
   "execution_count": 8,
   "metadata": {
    "scrolled": false
   },
   "outputs": [
    {
     "name": "stdout",
     "output_type": "stream",
     "text": [
      "[[ 1.          0.02865455 -0.00453232]\n",
      " [ 0.02865455  1.         -0.01499718]\n",
      " [-0.00453232 -0.01499718  1.        ]]\n"
     ]
    },
    {
     "data": {
      "application/vnd.jupyter.widget-view+json": {
       "model_id": "af7b136d93cc482dad2c1de1e03cf4ac",
       "version_major": 2,
       "version_minor": 0
      },
      "text/plain": [
       "Canvas(toolbar=Toolbar(toolitems=[('Home', 'Reset original view', 'home', 'home'), ('Back', 'Back to previous …"
      ]
     },
     "metadata": {},
     "output_type": "display_data"
    },
    {
     "data": {
      "text/plain": [
       "Text(0.5, 1, 'Discrimination')"
      ]
     },
     "execution_count": 8,
     "metadata": {},
     "output_type": "execute_result"
    }
   ],
   "source": [
    "corr = np.corrcoef(a.T)\n",
    "print(corr)\n",
    "fig, ax = plt.subplots()\n",
    "sns.heatmap(corr, vmin=-1, vmax=1)\n",
    "ax.set_title('Discrimination')"
   ]
  },
  {
   "cell_type": "code",
   "execution_count": 9,
   "metadata": {
    "scrolled": false
   },
   "outputs": [
    {
     "name": "stdout",
     "output_type": "stream",
     "text": [
      "[[ 1.          0.04156048 -0.00528217]\n",
      " [ 0.04156048  1.          0.02755141]\n",
      " [-0.00528217  0.02755141  1.        ]]\n"
     ]
    },
    {
     "data": {
      "application/vnd.jupyter.widget-view+json": {
       "model_id": "522eaf7620a84a5daabfaa742403294b",
       "version_major": 2,
       "version_minor": 0
      },
      "text/plain": [
       "Canvas(toolbar=Toolbar(toolitems=[('Home', 'Reset original view', 'home', 'home'), ('Back', 'Back to previous …"
      ]
     },
     "metadata": {},
     "output_type": "display_data"
    },
    {
     "data": {
      "text/plain": [
       "Text(0.5, 1, 'Difficulty')"
      ]
     },
     "execution_count": 9,
     "metadata": {},
     "output_type": "execute_result"
    }
   ],
   "source": [
    "corr = np.corrcoef(b.T)\n",
    "print(corr)\n",
    "fig, ax = plt.subplots()\n",
    "sns.heatmap(corr, vmin=-1, vmax=1)\n",
    "ax.set_title('Difficulty')"
   ]
  },
  {
   "cell_type": "markdown",
   "metadata": {},
   "source": [
    "# Check Reconstruction MSE"
   ]
  },
  {
   "cell_type": "code",
   "execution_count": 10,
   "metadata": {},
   "outputs": [],
   "source": [
    "sync_params = os.path.join('..', 'diff_skills', 'params_sync_dim3_diffskills_irt_all_coded.p')"
   ]
  },
  {
   "cell_type": "code",
   "execution_count": 11,
   "metadata": {},
   "outputs": [],
   "source": [
    "with open(sync_params, 'rb') as f:\n",
    "    sync_p = pickle.load(f)"
   ]
  },
  {
   "cell_type": "code",
   "execution_count": 12,
   "metadata": {},
   "outputs": [],
   "source": [
    "def mse(real, recon):\n",
    "    diff = real - recon\n",
    "    return (diff*diff).sum()/np.prod(real.shape)\n",
    "\n",
    "def sigmoid(x):\n",
    "    return 1/(1+np.exp(x))\n",
    "\n",
    "def probs(theta, a, b):\n",
    "    return sigmoid(\n",
    "        torch.matmul(\n",
    "            a[:, None, :],\n",
    "            (b[:, None, :] - theta[None, :, :]).transpose(2, 1) # nitems x ndims x nresp\n",
    "        )\n",
    "    ).squeeze()"
   ]
  },
  {
   "cell_type": "code",
   "execution_count": 13,
   "metadata": {},
   "outputs": [],
   "source": [
    "gold_resp_fname = os.path.join('..', 'diff_skills', 'sync_dim3_diffskills_irt_all_coded.csv')\n",
    "gold_r = pd.read_csv(gold_resp_fname).iloc[:,1:].to_numpy()"
   ]
  },
  {
   "cell_type": "code",
   "execution_count": 14,
   "metadata": {},
   "outputs": [],
   "source": [
    "pred_r = np.greater_equal(probs(thetas, a, b).numpy().T,0.5).astype('int')"
   ]
  },
  {
   "cell_type": "code",
   "execution_count": 15,
   "metadata": {},
   "outputs": [
    {
     "name": "stdout",
     "output_type": "stream",
     "text": [
      "Theta MSE 26.852803548177082\n",
      "Alpha MSE 1.8735948350694445\n",
      "Beta MSE 78.8729236111111\n",
      "Probabilities MSE 0.03329179077148438\n"
     ]
    }
   ],
   "source": [
    "print(f'Theta MSE {mse(sync_p[\"t\"], thetas.numpy())}')\n",
    "print(f'Alpha MSE {mse(sync_p[\"a\"], a.numpy())}')\n",
    "print(f'Beta MSE {mse(sync_p[\"b\"], b.numpy())}')\n",
    "print(f'Probabilities MSE {mse(sync_p[\"probs\"], probs(thetas, a, b).numpy().T)}')"
   ]
  },
  {
   "cell_type": "code",
   "execution_count": 16,
   "metadata": {},
   "outputs": [
    {
     "name": "stdout",
     "output_type": "stream",
     "text": [
      "Response MSE 0.6047833333333333\n",
      "0.5393666666666667\n"
     ]
    }
   ],
   "source": [
    "print(f'Response MSE {mse(gold_r, pred_r)}')\n",
    "print(gold_r.mean())"
   ]
  }
 ],
 "metadata": {
  "kernelspec": {
   "display_name": "DL",
   "language": "python",
   "name": "dl"
  },
  "language_info": {
   "codemirror_mode": {
    "name": "ipython",
    "version": 3
   },
   "file_extension": ".py",
   "mimetype": "text/x-python",
   "name": "python",
   "nbconvert_exporter": "python",
   "pygments_lexer": "ipython3",
   "version": "3.7.9"
  }
 },
 "nbformat": 4,
 "nbformat_minor": 4
}
